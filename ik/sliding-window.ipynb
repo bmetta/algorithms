{
 "cells": [
  {
   "cell_type": "markdown",
   "metadata": {},
   "source": [
    "### 727. Minimum Window Subsequence"
   ]
  },
  {
   "cell_type": "code",
   "execution_count": 32,
   "metadata": {},
   "outputs": [
    {
     "name": "stdout",
     "output_type": "stream",
     "text": [
      "bcde\n"
     ]
    }
   ],
   "source": [
    "# Time complexity: O(n^3)\n",
    "def minWindow(S, T):\n",
    "    def windowSubSeq(s, T):\n",
    "        t, lenT = 0, len(T)\n",
    "        for i in range(len(s)):\n",
    "            if s[i] == T[t]:\n",
    "                t += 1\n",
    "            if t == lenT:\n",
    "                return True\n",
    "        return t == lenT\n",
    "\n",
    "    start, length = 0, float('inf')\n",
    "    # Get the substrings from S\n",
    "    for i in range(len(S)):\n",
    "        for j in range(i, len(S)):\n",
    "            if windowSubSeq(S[i:j+1], T):\n",
    "                if length > (j - i + 2):\n",
    "                    start, length = i, j - i + 2\n",
    "    return S[start:length]\n",
    "print(minWindow(\"abcdebdde\", \"bde\"))"
   ]
  },
  {
   "cell_type": "code",
   "execution_count": 2,
   "metadata": {},
   "outputs": [
    {
     "name": "stdout",
     "output_type": "stream",
     "text": [
      "None\n"
     ]
    }
   ],
   "source": [
    "# Sliding window\n",
    "# Time complexity: O(n)\n",
    "def minWindow(S, T):\n",
    "    ;\n",
    "    \n",
    "print(minWindow(\"abcdebdde\", \"bde\"))"
   ]
  },
  {
   "cell_type": "code",
   "execution_count": null,
   "metadata": {},
   "outputs": [],
   "source": []
  }
 ],
 "metadata": {
  "kernelspec": {
   "display_name": "Python 3",
   "language": "python",
   "name": "python3"
  },
  "language_info": {
   "codemirror_mode": {
    "name": "ipython",
    "version": 3
   },
   "file_extension": ".py",
   "mimetype": "text/x-python",
   "name": "python",
   "nbconvert_exporter": "python",
   "pygments_lexer": "ipython3",
   "version": "3.6.5"
  }
 },
 "nbformat": 4,
 "nbformat_minor": 2
}
