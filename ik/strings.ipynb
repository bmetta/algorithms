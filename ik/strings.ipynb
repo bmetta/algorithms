{
 "cells": [
  {
   "cell_type": "markdown",
   "metadata": {},
   "source": [
    "### 642. Design Search Autocomplete System"
   ]
  },
  {
   "cell_type": "code",
   "execution_count": 74,
   "metadata": {},
   "outputs": [
    {
     "name": "stdout",
     "output_type": "stream",
     "text": [
      "[(5, 'i love you'), (3, 'island'), (2, 'ironman'), (2, 'i love leetcode')]\n",
      "[(5, 'i love you'), (2, 'i love leetcode')]\n",
      "[]\n",
      "[(1, 'i am good')]\n"
     ]
    }
   ],
   "source": [
    "class TrieNode(object):\n",
    "    def __init__(self, ch = None, count = 0):\n",
    "        self.children = [None] * 27 # include space\n",
    "        self.char = ch\n",
    "        self.sentence = None\n",
    "        self.times = count\n",
    "    \n",
    "class AutocompleteSystem(object):\n",
    "    def __init__(self, sentences, times):\n",
    "        \"\"\"\n",
    "        :type sentences: List[str]\n",
    "        :type times: List[int]\n",
    "        \"\"\"\n",
    "        self.root = TrieNode()\n",
    "        self.keyword = \"\"\n",
    "        \n",
    "        for i in range(len(sentences)):\n",
    "            self.insert(times[i], sentences[i])\n",
    "\n",
    "    def insert(self, times, sentence):\n",
    "        crawl = self.root\n",
    "        for ch in sentence:\n",
    "            ind = 26\n",
    "            if ch != ' ':\n",
    "                ind = ord(ch) - ord('a')\n",
    "            if not crawl.children[ind]:\n",
    "                crawl.children[ind] = TrieNode(ch)\n",
    "            crawl = crawl.children[ind]\n",
    "        crawl.sentence = sentence\n",
    "        crawl.times = times\n",
    "        \n",
    "    def input(self, c):\n",
    "        \"\"\"\n",
    "        :type c: str\n",
    "        :rtype: List[str]\n",
    "        \"\"\"\n",
    "        if c == '#':\n",
    "            self.insert(1, self.keyword)\n",
    "            self.keyword = \"\"\n",
    "            return []\n",
    "\n",
    "        self.keyword += c\n",
    "        crawl = self.root\n",
    "        for ch in self.keyword:\n",
    "            ind = 26\n",
    "            if ch != ' ':\n",
    "                ind = ord(ch) - ord('a')\n",
    "            if not crawl.children[ind]:\n",
    "                return []\n",
    "            crawl = crawl.children[ind]\n",
    "        \n",
    "        res = []\n",
    "        self.traverse(crawl, res)\n",
    "        res.sort(reverse=True)\n",
    "        #return [s[1] for s in res]\n",
    "        return res\n",
    "    \n",
    "    def traverse(self, crawl, res):\n",
    "        if not crawl:\n",
    "            return\n",
    "        if crawl.sentence:\n",
    "            res.append((crawl.times, crawl.sentence))\n",
    "        for child in crawl.children:\n",
    "            if child:\n",
    "                self.traverse(child, res)\n",
    "    \n",
    "    def reset(self):\n",
    "        self.keyword = \"\"\n",
    "        \n",
    "    \n",
    "ac = AutocompleteSystem([\"i love you\", \"island\",\"ironman\", \"i love leetcode\"], [5, 3, 2, 2])\n",
    "ac.reset(); print(ac.input('i'))\n",
    "ac.reset(); print(ac.input('i '))\n",
    "ac.reset(); print(ac.input('i am good')); ac.input('#')\n",
    "ac.reset(); print(ac.input('i am'))"
   ]
  },
  {
   "cell_type": "code",
   "execution_count": 69,
   "metadata": {},
   "outputs": [
    {
     "data": {
      "text/plain": [
       "[(2, 'i love leetcode'), (2, 'ironman'), (3, 'island'), (5, 'i love you')]"
      ]
     },
     "execution_count": 69,
     "metadata": {},
     "output_type": "execute_result"
    }
   ],
   "source": [
    "data = [(5, 'i love you'), (3, 'island'), (2, 'ironman'), (2, 'i love leetcode')]\n",
    "sorted(data)"
   ]
  },
  {
   "cell_type": "code",
   "execution_count": 13,
   "metadata": {},
   "outputs": [
    {
     "name": "stdout",
     "output_type": "stream",
     "text": [
      "+---------------+\n",
      "|hello world I a|\n",
      "+---------------+\n",
      "|how are you    |\n",
      "+---------------+\n",
      "|have a nice day|\n",
      "+---------------+\n"
     ]
    }
   ],
   "source": [
    "def indent(a, w):\n",
    "    res = []\n",
    "    if a:\n",
    "        res.append('+' + '-'*(w) + '+')\n",
    "    for s in a:\n",
    "        n = len(s)\n",
    "        res.append('|' + s[:w] + ' '*(w-n) + '|')\n",
    "        res.append('+' + '-'*(w) + '+')\n",
    "    return res\n",
    "a = [\"hello world I am good\", \"how are you\", \"have a nice day\"]\n",
    "res = indent(a, 15)\n",
    "for s in res:\n",
    "    print(s)"
   ]
  },
  {
   "cell_type": "code",
   "execution_count": null,
   "metadata": {},
   "outputs": [],
   "source": []
  }
 ],
 "metadata": {
  "kernelspec": {
   "display_name": "Python 3",
   "language": "python",
   "name": "python3"
  },
  "language_info": {
   "codemirror_mode": {
    "name": "ipython",
    "version": 3
   },
   "file_extension": ".py",
   "mimetype": "text/x-python",
   "name": "python",
   "nbconvert_exporter": "python",
   "pygments_lexer": "ipython3",
   "version": "3.6.5"
  }
 },
 "nbformat": 4,
 "nbformat_minor": 2
}
