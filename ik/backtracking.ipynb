{
 "cells": [
  {
   "cell_type": "markdown",
   "metadata": {},
   "source": [
    "### 78. Subsets"
   ]
  },
  {
   "cell_type": "code",
   "execution_count": 18,
   "metadata": {},
   "outputs": [
    {
     "name": "stdout",
     "output_type": "stream",
     "text": [
      "[[], [1], [2], [1, 2], [3], [1, 3], [2, 3], [1, 2, 3]]\n"
     ]
    }
   ],
   "source": [
    "# Approach 1\n",
    "def subsets1(nums):\n",
    "    def helper(index, slate):\n",
    "        if index == n:\n",
    "            res.append(slate[:])\n",
    "            return\n",
    "        \n",
    "        helper(index + 1, slate)\n",
    "        helper(index + 1, slate + [nums[index]])\n",
    "    \n",
    "    n = len(nums)\n",
    "    res = []\n",
    "    helper(0, [])\n",
    "    return res\n",
    "\n",
    "# Approach 2\n",
    "def subsets2(nums):\n",
    "    def helper(index, slate):\n",
    "        res.append(slate[:])\n",
    "        if index == n:\n",
    "            return\n",
    "        \n",
    "        for i in range(index, n):\n",
    "            helper(i + 1, slate + [nums[i]])\n",
    "\n",
    "    n = len(nums)\n",
    "    res = []\n",
    "    helper(0, [])\n",
    "    return res\n",
    "\n",
    "# Approach 3\n",
    "def subsets(nums):\n",
    "    res = [[]]\n",
    "    for num in nums:\n",
    "        temp_res = res[:]\n",
    "        for item in temp_res:\n",
    "            res += [item  + [num]]\n",
    "        #res += [item + [num] for item in res]\n",
    "\n",
    "    return res\n",
    "\n",
    "print(subsets([1,2,3]))"
   ]
  },
  {
   "cell_type": "markdown",
   "metadata": {},
   "source": [
    "### 90. Subsets II"
   ]
  },
  {
   "cell_type": "code",
   "execution_count": 19,
   "metadata": {
    "scrolled": true
   },
   "outputs": [
    {
     "name": "stdout",
     "output_type": "stream",
     "text": [
      "None\n"
     ]
    }
   ],
   "source": [
    "# Approach 1\n",
    "def subsetsWithDup(nums):\n",
    "    \n",
    "    \n",
    "print(subsetsWithDup([1,2,2]))"
   ]
  },
  {
   "cell_type": "markdown",
   "metadata": {},
   "source": [
    "### 39. Combination Sum"
   ]
  },
  {
   "cell_type": "code",
   "execution_count": 22,
   "metadata": {},
   "outputs": [
    {
     "name": "stdout",
     "output_type": "stream",
     "text": [
      "[[2, 2, 3], [7]]\n"
     ]
    }
   ],
   "source": [
    "def combinationSum(candidates, target):\n",
    "    def helper(index, slate, target):\n",
    "        if target == 0:\n",
    "            res.append(slate[:])\n",
    "            return\n",
    "        if target < 0:\n",
    "            return\n",
    "\n",
    "        for i in range(index, n):\n",
    "            helper(i, slate + [candidates[i]], target - candidates[i])\n",
    "\n",
    "    res = []\n",
    "    n = len(candidates)\n",
    "    helper(0, [], target)\n",
    "    return res\n",
    "\n",
    "print(combinationSum([2,3,6,7], 7))"
   ]
  },
  {
   "cell_type": "markdown",
   "metadata": {},
   "source": [
    "### 77. Combinations"
   ]
  },
  {
   "cell_type": "code",
   "execution_count": 17,
   "metadata": {},
   "outputs": [
    {
     "data": {
      "text/plain": [
       "[[3, 4], [2, 4], [2, 3], [1, 4], [1, 3], [1, 2]]"
      ]
     },
     "execution_count": 17,
     "metadata": {},
     "output_type": "execute_result"
    }
   ],
   "source": [
    "def combine(n, k):\n",
    "    def helper(n, k, i, slate, result):\n",
    "        if len(slate) == k:\n",
    "            result.append(slate[:])\n",
    "            return\n",
    "        if i == n:\n",
    "            return\n",
    "        \n",
    "        # Exclude n[i]\n",
    "        helper(n, k, i + 1, slate, result)\n",
    "        # Include n[i]\n",
    "        slate.append(i+1)\n",
    "        helper(n, k, i + 1, slate, result)\n",
    "        slate.pop()\n",
    "        \n",
    "    result = []\n",
    "    helper(n, k, 0, [], result)\n",
    "    return result\n",
    "    \n",
    "combine(4, 2)"
   ]
  },
  {
   "cell_type": "code",
   "execution_count": 27,
   "metadata": {},
   "outputs": [
    {
     "data": {
      "text/plain": [
       "[[1, 2], [1, 3], [1, 4], [2, 3], [2, 4], [3, 4]]"
      ]
     },
     "execution_count": 27,
     "metadata": {},
     "output_type": "execute_result"
    }
   ],
   "source": [
    "def combine(n, k):\n",
    "    def helper(n, k, start, slate, result):\n",
    "        if 0 == k:\n",
    "            result.append(slate[:])\n",
    "            return\n",
    "        if len(slate) == n:\n",
    "            return\n",
    "        \n",
    "        #for i in range(start, n + 1):\n",
    "        for i in range(start, n - k + 2): # efficient solution\n",
    "            slate.append(i)\n",
    "            helper(n, k - 1, i + 1, slate, result)\n",
    "            slate.pop()\n",
    "\n",
    "    result = []\n",
    "    helper(n, k, 1, [], result)\n",
    "    return result\n",
    "    \n",
    "combine(4, 2)"
   ]
  },
  {
   "cell_type": "markdown",
   "metadata": {},
   "source": [
    "### Count number of subsets that sum to k"
   ]
  },
  {
   "cell_type": "code",
   "execution_count": 69,
   "metadata": {},
   "outputs": [
    {
     "data": {
      "text/plain": [
       "3"
      ]
     },
     "execution_count": 69,
     "metadata": {},
     "output_type": "execute_result"
    }
   ],
   "source": [
    "def subsetSum(S, k):\n",
    "    def helper(S, i, k):\n",
    "        if k == 0:\n",
    "            return 1\n",
    "        if k < 0:\n",
    "            return 0\n",
    "        if i == len(S):\n",
    "            return 0\n",
    "        \n",
    "        return helper(S, i + 1, k) + \\\n",
    "               helper(S, i + 1, k - S[i])\n",
    "    \n",
    "    return helper(S, 0, k)\n",
    "\n",
    "subsetSum([1, 2, 3, 4, 5], 10)"
   ]
  },
  {
   "cell_type": "code",
   "execution_count": 68,
   "metadata": {},
   "outputs": [
    {
     "name": "stdout",
     "output_type": "stream",
     "text": [
      "return 4\n",
      "return 5\n",
      "return 5\n"
     ]
    },
    {
     "data": {
      "text/plain": [
       "3"
      ]
     },
     "execution_count": 68,
     "metadata": {},
     "output_type": "execute_result"
    }
   ],
   "source": [
    "# Optimized solution\n",
    "def subsetSum(S, k):\n",
    "    def helper(S, start, k):\n",
    "        if k == 0:\n",
    "            print(\"return\", start)\n",
    "            return 1\n",
    "        if k < 0:\n",
    "            return 0\n",
    "        if start == len(S):\n",
    "            return 0\n",
    "        \n",
    "        ret = 0\n",
    "        for i in range(start, len(S)):\n",
    "            ret += helper(S, i + 1, k - S[i])\n",
    "        return ret\n",
    "    \n",
    "    return helper(S, 0, k)\n",
    "\n",
    "\n",
    "subsetSum([1, 2, 3, 4, 5], 10)"
   ]
  },
  {
   "cell_type": "markdown",
   "metadata": {},
   "source": [
    "### 39. Combination Sum"
   ]
  },
  {
   "cell_type": "code",
   "execution_count": 28,
   "metadata": {},
   "outputs": [
    {
     "data": {
      "text/plain": [
       "[[2, 2, 3], [7]]"
      ]
     },
     "execution_count": 28,
     "metadata": {},
     "output_type": "execute_result"
    }
   ],
   "source": [
    "#               2367\n",
    "#          /           |      |  \\\n",
    "#         2            3      6   7\n",
    "#    /  |  \\  \\     /  |  \\  ....\n",
    "#   2  3   6  7    3   6  7\n",
    "#  .....         / | \\\n",
    "#               3  6  7\n",
    "# repeats subtree at every level\n",
    "#\n",
    "def combinationSum(candidates, target):\n",
    "    result = []\n",
    "    def helper(candidates, target, start, slate):\n",
    "        #print(slate, start)\n",
    "        if target < 0:\n",
    "            return\n",
    "        if target == 0:\n",
    "            result.append(slate[:])\n",
    "            return\n",
    "\n",
    "        for i in range(start, len(candidates)):\n",
    "            slate.append(candidates[i])\n",
    "            helper(candidates, target - candidates[i], i, slate)\n",
    "            slate.pop()\n",
    "\n",
    "    helper(candidates, target, 0, [])\n",
    "    return result\n",
    "\n",
    "combinationSum([2, 3, 6, 7], 7)"
   ]
  },
  {
   "cell_type": "markdown",
   "metadata": {},
   "source": [
    "### 40. Combination sum II"
   ]
  },
  {
   "cell_type": "code",
   "execution_count": 29,
   "metadata": {},
   "outputs": [
    {
     "name": "stdout",
     "output_type": "stream",
     "text": [
      "[[1, 2, 2], [1, 4]]\n",
      "[[1, 2, 2], [5]]\n",
      "[[1, 1, 6], [1, 2, 5], [1, 7], [2, 6]]\n"
     ]
    }
   ],
   "source": [
    "# Approach 1\n",
    "#\n",
    "#                             1224\n",
    "#              /                               \\\n",
    "#             []                               [1]\n",
    "#     /       |        \\             /         |            \\ \n",
    "#    []      [2]       [22]        [1]        [12]         [122]\n",
    "#  /   \\    /   \\      /   \\      /   \\      /   \\        /     \\\n",
    "# []   [4] [2]  [24] [22]  [224] [1]  [14]  [12]   [124] [122] [1224]\n",
    "#\n",
    "def combinationSum1(nums, t):\n",
    "    def getDupeCount(nums, start):\n",
    "        n = len(nums)\n",
    "        for i in range(start+1, n):\n",
    "            if nums[i] != nums[start]:\n",
    "                return i - start\n",
    "        return n - start\n",
    "        \n",
    "    def helper(nums, i, slate, t, result):\n",
    "        if sum(slate) == t:\n",
    "            result.append(slate[:])\n",
    "            return\n",
    "        if sum(slate) > t:\n",
    "            return\n",
    "        if i == len(nums):\n",
    "            return\n",
    "        \n",
    "        num_dupes = getDupeCount(nums, i)\n",
    "        #print(i, num_dupes)\n",
    "        # Exclude nums[i]\n",
    "        helper(nums, i + num_dupes, slate, t, result)\n",
    "        \n",
    "        # Include nums[i]\n",
    "        for j in range(num_dupes):\n",
    "            #print(nums, i, i + j + 1, nums[i : i + j + 1])\n",
    "            helper(nums, i + num_dupes, slate + nums[i : i + j + 1], t, result)\n",
    "        \n",
    "        return result\n",
    "    \n",
    "    result = []\n",
    "    nums.sort()\n",
    "    helper(nums, 0, [], t, result)\n",
    "    return result\n",
    "\n",
    "# Approach 2\n",
    "#\n",
    "#              1224\n",
    "#        /      |   |  \\\n",
    "#       1       2   X   4\n",
    "#    /  |  \\   |  \\\n",
    "#   12  X 14  22  24\n",
    "#  /  \\       |\n",
    "# 122 124    224\n",
    "#  |\n",
    "# 1224\n",
    "#\n",
    "def combinationSum(candidates, target):\n",
    "    def helper(start, slate, target):\n",
    "        if target == 0:\n",
    "            res.append(slate)\n",
    "        if target < 0:\n",
    "            return\n",
    "        #if start == n:\n",
    "        #    return\n",
    "\n",
    "        for i in range(start, n):\n",
    "            if i > start and candidates[i] == candidates[i - 1]:\n",
    "                continue\n",
    "            if candidates[i] > target:\n",
    "                return\n",
    "            helper(i + 1, slate + [candidates[i]], target - candidates[i])\n",
    "\n",
    "    candidates.sort()\n",
    "    res = []\n",
    "    n = len(candidates)\n",
    "    helper(0, [], target)\n",
    "    return res\n",
    "\n",
    "print(combinationSum([1,2,2,4], 5))\n",
    "print(combinationSum([2,5,2,1,2], 5))\n",
    "print(combinationSum([10,1,2,7,6,1,5], 8))"
   ]
  },
  {
   "cell_type": "markdown",
   "metadata": {},
   "source": [
    "### 216. Combination Sum III"
   ]
  },
  {
   "cell_type": "code",
   "execution_count": 31,
   "metadata": {},
   "outputs": [
    {
     "name": "stdout",
     "output_type": "stream",
     "text": [
      "[[1, 2, 4]]\n",
      "[[1, 2, 6], [1, 3, 5], [2, 3, 4]]\n"
     ]
    }
   ],
   "source": [
    "def combinationSum(k, n):\n",
    "    def helper(start, k, n, slate):\n",
    "        if k == 0:\n",
    "            if n == 0:\n",
    "                res.append(slate[:])\n",
    "            return\n",
    "\n",
    "        for i in range(start, end + 1):\n",
    "            if i > n:\n",
    "                break\n",
    "            slate.append(i)\n",
    "            helper(i + 1, k - 1, n - i, slate)\n",
    "            slate.pop()\n",
    "\n",
    "    res = []\n",
    "    end = 9\n",
    "    helper(1, k, n, [])\n",
    "    return res\n",
    "\n",
    "print(combinationSum(3, 7))\n",
    "print(combinationSum(3, 9))"
   ]
  },
  {
   "cell_type": "markdown",
   "metadata": {},
   "source": [
    "### 22. Generate Parentheses"
   ]
  },
  {
   "cell_type": "code",
   "execution_count": 87,
   "metadata": {},
   "outputs": [
    {
     "data": {
      "text/plain": [
       "['((()))', '(()())', '(())()', '()(())', '()()()']"
      ]
     },
     "execution_count": 87,
     "metadata": {},
     "output_type": "execute_result"
    }
   ],
   "source": [
    "def generateParenthesis(n):\n",
    "    def helper(n, numleft, numright, slate, res):\n",
    "        if numleft < numright or \\\n",
    "           numleft > n or \\\n",
    "           numright > n:\n",
    "            return\n",
    "        if numleft == n and numright == n:\n",
    "            res.append(slate)\n",
    "            return\n",
    "        \n",
    "        helper(n, numleft + 1, numright, slate + '(', res)\n",
    "        helper(n, numleft, numright + 1, slate + ')', res)\n",
    "        \n",
    "    res = []\n",
    "    helper(n, 0, 0, \"\", res)\n",
    "    return res\n",
    "\n",
    "generateParenthesis(3)"
   ]
  },
  {
   "cell_type": "markdown",
   "metadata": {},
   "source": [
    "### 51. N-Queens"
   ]
  },
  {
   "cell_type": "code",
   "execution_count": 91,
   "metadata": {},
   "outputs": [],
   "source": [
    "# Combinations problem\n",
    "#   N^2 C N = 64 C 8 for 8x8 chess board\n",
    "#   Enumerate all combinations which matches the 8 queens not attacking each other\n",
    "#\n",
    "# Permutations problem:\n",
    "#   Each queen has its own row, so we need to come up with a column numbers\n",
    "#   For 4x4, First valid positions are 2, 0, 3, 1; Its permutations problem, order change will\n",
    "#     make the solution invalid"
   ]
  },
  {
   "cell_type": "code",
   "execution_count": null,
   "metadata": {},
   "outputs": [],
   "source": []
  },
  {
   "cell_type": "code",
   "execution_count": 43,
   "metadata": {},
   "outputs": [
    {
     "name": "stdout",
     "output_type": "stream",
     "text": [
      "['2+22', '22+2']\n",
      "['1+2*3+4']\n",
      "['1*2+3']\n"
     ]
    }
   ],
   "source": [
    "#                                                  123\n",
    "#                           -----------------------------------------------------\n",
    "#                          |                                         |          |\n",
    "#                         1                                         12        123\n",
    "#         --------------------------------                      ---------\n",
    "#        |             |          |      |                     |        |\n",
    "#      1+2           1*2        1+23   1*23                12 + 2    12 * 3\n",
    "#     ------        ------\n",
    "#    |     |       |     |\n",
    "# 1+2+3  1+2*3  1*2+3  1*2*3\n",
    "#\n",
    "# (p)rev val\n",
    "# (t)otal\n",
    "# (c)ur val\n",
    "#\n",
    "#     p   t    c\n",
    "# 2 + 3 (=5) + 4 = t - p + p + c\n",
    "# 2 + 3 (=5) * 4 = t - p + p * c\n",
    "#        p,t   c\n",
    "# 2 * 3 (=6) + 4 = t + c\n",
    "# 2 * 3 (=6) * 4 = t - p + p * c\n",
    "#\n",
    "def generate_all_expressions(s, target):\n",
    "    n = len(s)\n",
    "    result = []\n",
    "    def helper(start, slate, mul, total):\n",
    "        if start == n:\n",
    "            #print(slate)\n",
    "            if target == total:\n",
    "                result.append(\"\".join(slate[:]))\n",
    "            return\n",
    "        \n",
    "        for i in range(start, n):\n",
    "            cur = s[start: i + 1]\n",
    "            cur_val = int(cur)\n",
    "            if start == 0:\n",
    "                helper(i + 1, cur, cur_val, cur_val)\n",
    "            else:\n",
    "                helper(i + 1, slate + \"*\" + cur, mul * cur_val, total - mul + (mul * cur_val))\n",
    "                helper(i + 1, slate + \"+\" + cur, cur_val, total + cur_val)\n",
    "\n",
    "    helper(0, \"\", 0, 0)\n",
    "    return result\n",
    "\n",
    "print(generate_all_expressions(\"222\", 24))\n",
    "print(generate_all_expressions(\"1234\", 11))\n",
    "print(generate_all_expressions(\"123\", 5))"
   ]
  },
  {
   "cell_type": "markdown",
   "metadata": {},
   "source": [
    "### 282. Expression Add Operators"
   ]
  },
  {
   "cell_type": "code",
   "execution_count": 538,
   "metadata": {},
   "outputs": [],
   "source": [
    "# TODO"
   ]
  },
  {
   "cell_type": "markdown",
   "metadata": {},
   "source": [
    "### 51. N-Queens"
   ]
  },
  {
   "cell_type": "code",
   "execution_count": 574,
   "metadata": {},
   "outputs": [
    {
     "data": {
      "text/plain": [
       "[['q----', '--q--', '----q', '-q---', '---q-'],\n",
       " ['q----', '---q-', '-q---', '----q', '--q--'],\n",
       " ['-q---', '---q-', 'q----', '--q--', '----q'],\n",
       " ['-q---', '----q', '--q--', 'q----', '---q-'],\n",
       " ['--q--', 'q----', '---q-', '-q---', '----q'],\n",
       " ['--q--', '----q', '-q---', '---q-', 'q----'],\n",
       " ['---q-', 'q----', '--q--', '----q', '-q---'],\n",
       " ['---q-', '-q---', '----q', '--q--', 'q----'],\n",
       " ['----q', '-q---', '---q-', 'q----', '--q--'],\n",
       " ['----q', '--q--', 'q----', '---q-', '-q---']]"
      ]
     },
     "execution_count": 574,
     "metadata": {},
     "output_type": "execute_result"
    }
   ],
   "source": [
    "def solveNQueens(n):\n",
    "    def noconflict(slate, col):\n",
    "        for row in range(len(slate)):\n",
    "            # queens on same column\n",
    "            if slate[row] == col:\n",
    "                return False\n",
    "            # queens on same diagonal\n",
    "            if abs(slate[row] - col) == abs(len(slate) - row):\n",
    "                return False\n",
    "        return True\n",
    "\n",
    "    def helper(n, slate):\n",
    "        if len(slate) == n:\n",
    "            #print(slate)\n",
    "            result.append([])\n",
    "            for i in slate:\n",
    "                result[-1].append('-' * i + 'q' + '-' * (n - 1 - i))\n",
    "            return\n",
    "        \n",
    "        for col in range(n):\n",
    "            if noconflict(slate, col):\n",
    "                helper(n, slate + [col])\n",
    "    \n",
    "    result = []\n",
    "    helper(n, [])\n",
    "    return result\n",
    "\n",
    "solveNQueens(5)"
   ]
  },
  {
   "cell_type": "code",
   "execution_count": null,
   "metadata": {},
   "outputs": [],
   "source": []
  }
 ],
 "metadata": {
  "kernelspec": {
   "display_name": "Python 3",
   "language": "python",
   "name": "python3"
  },
  "language_info": {
   "codemirror_mode": {
    "name": "ipython",
    "version": 3
   },
   "file_extension": ".py",
   "mimetype": "text/x-python",
   "name": "python",
   "nbconvert_exporter": "python",
   "pygments_lexer": "ipython3",
   "version": "3.6.5"
  }
 },
 "nbformat": 4,
 "nbformat_minor": 2
}
