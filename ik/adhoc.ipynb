{
 "cells": [
  {
   "cell_type": "markdown",
   "metadata": {},
   "source": [
    "### 42. Trapping Rain Water"
   ]
  },
  {
   "cell_type": "code",
   "execution_count": 14,
   "metadata": {},
   "outputs": [],
   "source": [
    "def trap(height):\n",
    "    ans, current = 0, 0\n",
    "    st = []\n",
    "    while current < len(height):\n",
    "        while st and height[current] > height[st[-1]]:\n",
    "            top = st.pop()\n",
    "            if not st:\n",
    "                break\n",
    "            distance = current - st[-1] - 1\n",
    "            bounded_height = min(height[current], height[st[-1]]) - height[top]\n",
    "            print(current, distance, bounded_height, st)\n",
    "            ans += distance * bounded_height\n",
    "        st.append(current)\n",
    "        current += 1\n",
    "    return ans"
   ]
  },
  {
   "cell_type": "code",
   "execution_count": 15,
   "metadata": {},
   "outputs": [
    {
     "name": "stdout",
     "output_type": "stream",
     "text": [
      "3 1 0 [0, 1]\n",
      "3 2 2 [0]\n",
      "5 1 2 [0, 3]\n",
      "5 4 1 [0]\n",
      "10\n"
     ]
    }
   ],
   "source": [
    "print(trap([3, 0, 0, 2, 0, 4]))"
   ]
  },
  {
   "cell_type": "code",
   "execution_count": 16,
   "metadata": {},
   "outputs": [
    {
     "name": "stdout",
     "output_type": "stream",
     "text": [
      "3 1 1 [0, 1]\n",
      "4 2 0 [0, 1]\n",
      "4 3 1 [0]\n",
      "4\n"
     ]
    }
   ],
   "source": [
    "print(trap([2, 1, 0, 1, 3]))"
   ]
  },
  {
   "cell_type": "code",
   "execution_count": null,
   "metadata": {},
   "outputs": [],
   "source": []
  }
 ],
 "metadata": {
  "kernelspec": {
   "display_name": "Python 3",
   "language": "python",
   "name": "python3"
  },
  "language_info": {
   "codemirror_mode": {
    "name": "ipython",
    "version": 3
   },
   "file_extension": ".py",
   "mimetype": "text/x-python",
   "name": "python",
   "nbconvert_exporter": "python",
   "pygments_lexer": "ipython3",
   "version": "3.6.5"
  }
 },
 "nbformat": 4,
 "nbformat_minor": 2
}
