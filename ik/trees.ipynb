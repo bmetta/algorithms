{
 "cells": [
  {
   "cell_type": "markdown",
   "metadata": {},
   "source": [
    "### Constructing the tree from level ordered list"
   ]
  },
  {
   "cell_type": "code",
   "execution_count": 12,
   "metadata": {},
   "outputs": [
    {
     "name": "stdout",
     "output_type": "stream",
     "text": [
      "[1, 2, 3, 4, 5, 6, 7]\n",
      "[1, 2, 3, 5, 7]\n"
     ]
    }
   ],
   "source": [
    "import collections\n",
    "class Tree(object):\n",
    "    def __init__(self, val):\n",
    "        self.val = val\n",
    "        self.left = None\n",
    "        self.right = None\n",
    "\n",
    "def constructTree(arr, start = 0):\n",
    "    if start >= len(arr):\n",
    "        return None\n",
    "    if arr[start] == None:\n",
    "        return None\n",
    "    \n",
    "    root = Tree(arr[start])\n",
    "    root.left = constructTree(arr, 2*start + 1)\n",
    "    root.right = constructTree(arr, 2*start + 2)\n",
    "    #print(root.val, root.left.val if root.left else None, root.right.val if root.right else None)\n",
    "    return root\n",
    "\n",
    "def display(root):\n",
    "    result = []\n",
    "    queue = collections.deque([root])\n",
    "    while queue:\n",
    "        size = len(queue)\n",
    "        while size:\n",
    "            cur = queue.popleft()\n",
    "            result.append(cur.val)\n",
    "            if cur.left:\n",
    "                queue.append(cur.left)\n",
    "            if cur.right:\n",
    "                queue.append(cur.right)\n",
    "            size -= 1\n",
    "    print(result)\n",
    "\n",
    "root = constructTree([1,2,3,4,5,6,7]); display(root)\n",
    "root = constructTree([1,2,3,None,5,None,7]); display(root)"
   ]
  },
  {
   "cell_type": "code",
   "execution_count": 10,
   "metadata": {},
   "outputs": [],
   "source": [
    "# dfs template\n",
    "def dfs(root):\n",
    "    q = collections.deque([root])\n",
    "    while q:\n",
    "        node = q.popleft()\n",
    "        if node.left:\n",
    "            q.append(node.left)\n",
    "        if node.right:\n",
    "            q.append(node.right)"
   ]
  },
  {
   "cell_type": "markdown",
   "metadata": {},
   "source": [
    "### listing the values of tree"
   ]
  },
  {
   "cell_type": "code",
   "execution_count": 2,
   "metadata": {},
   "outputs": [],
   "source": [
    "def listvals(root):\n",
    "    if not root: return []\n",
    "    result = []\n",
    "    q = collections.deque([root])\n",
    "    while q:\n",
    "        node = q.popleft()\n",
    "        if node.left:\n",
    "            q.append(node.left)\n",
    "        if node.right:\n",
    "            q.append(node.right)\n",
    "\n",
    "        result.append(node.val)\n",
    "    return result"
   ]
  },
  {
   "cell_type": "markdown",
   "metadata": {},
   "source": [
    "### K list of Predessors"
   ]
  },
  {
   "cell_type": "code",
   "execution_count": 13,
   "metadata": {},
   "outputs": [
    {
     "name": "stdout",
     "output_type": "stream",
     "text": [
      "[15, 6, 18, 3, 7, 17, 20, 2, 4, 13, 9]\n"
     ]
    }
   ],
   "source": [
    "def predessors(root, p):\n",
    "    if not root:\n",
    "        return\n",
    "    \n",
    "    if root.val == p:\n",
    "        cur = root.left\n",
    "        \n",
    "        \n",
    "        return\n",
    "    elif root.val < p:\n",
    "        predessors(root.left, p)\n",
    "    elif root.val > p:\n",
    "        predessors(root.right, p)\n",
    "    \n",
    "root = constructTree([15,6,18,3,7,17,20,2,4,None,13,None,None,None,None,None,None,None,None,None,None,9]); display(root)\n",
    "pred = []\n",
    "predessors(root, 15)\n",
    "print(pred)"
   ]
  },
  {
   "cell_type": "code",
   "execution_count": null,
   "metadata": {},
   "outputs": [],
   "source": []
  }
 ],
 "metadata": {
  "kernelspec": {
   "display_name": "Python 3",
   "language": "python",
   "name": "python3"
  },
  "language_info": {
   "codemirror_mode": {
    "name": "ipython",
    "version": 3
   },
   "file_extension": ".py",
   "mimetype": "text/x-python",
   "name": "python",
   "nbconvert_exporter": "python",
   "pygments_lexer": "ipython3",
   "version": "3.6.5"
  }
 },
 "nbformat": 4,
 "nbformat_minor": 2
}
