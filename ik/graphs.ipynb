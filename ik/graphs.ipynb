{
 "cells": [
  {
   "cell_type": "markdown",
   "metadata": {},
   "source": [
    "### 323. Number of Connected Components in an Undirected Graph"
   ]
  },
  {
   "cell_type": "code",
   "execution_count": 2,
   "metadata": {},
   "outputs": [
    {
     "name": "stdout",
     "output_type": "stream",
     "text": [
      "2\n"
     ]
    }
   ],
   "source": [
    "import collections\n",
    "class Solution(object):\n",
    "    def countComponents(self, n, edges):\n",
    "        \"\"\"\n",
    "        :type n: int\n",
    "        :type edges: List[List[int]]\n",
    "        :rtype: int\n",
    "        \"\"\"\n",
    "        adjlist = [[] for _ in range(n)]\n",
    "        for (src, dst) in edges:\n",
    "            adjlist[src].append(dst)\n",
    "            adjlist[dst].append(src)\n",
    "        \n",
    "        visited = [-1] * n\n",
    "\n",
    "        def dfs(source):\n",
    "            visited[source] = 1\n",
    "            for neighbor in adjlist[source]:\n",
    "                if visited[neighbor] == -1:\n",
    "                    dfs(neighbor)\n",
    "        \n",
    "        def bfs(source):\n",
    "            q = collections.deque([source])\n",
    "            visited[source] = 1\n",
    "            while q:\n",
    "                source = q.popleft()\n",
    "                for neighbor in adjlist[source]:\n",
    "                    if visited[neighbor] == -1:\n",
    "                        visited[neighbor] = 1\n",
    "                        q.append(neighbor)\n",
    "        \n",
    "        components = 0\n",
    "        for v in range(n):\n",
    "            if visited[v] == -1:\n",
    "                components += 1\n",
    "                #dfs(v)\n",
    "                bfs(v)\n",
    "        #print(adjlist)\n",
    "        return components\n",
    "        \n",
    "obj = Solution()\n",
    "count = obj.countComponents(5, [[0, 1], [1, 2], [3, 4]])\n",
    "print(count)"
   ]
  },
  {
   "cell_type": "markdown",
   "metadata": {},
   "source": [
    "#### TODO: Union Find Method"
   ]
  },
  {
   "cell_type": "code",
   "execution_count": 95,
   "metadata": {},
   "outputs": [],
   "source": [
    "# Look for Leetcode solutions"
   ]
  },
  {
   "cell_type": "markdown",
   "metadata": {},
   "source": [
    "### 261. Graph Valid Tree"
   ]
  },
  {
   "cell_type": "code",
   "execution_count": 97,
   "metadata": {},
   "outputs": [
    {
     "name": "stdout",
     "output_type": "stream",
     "text": [
      "True\n",
      "False\n"
     ]
    }
   ],
   "source": [
    "import collections\n",
    "class Solution(object):\n",
    "    def validTree(self, n, edges):\n",
    "        \"\"\"\n",
    "        :type n: int\n",
    "        :type edges: List[List[int]]\n",
    "        :rtype: bool\n",
    "        \"\"\"\n",
    "        adjlist = [[] for _ in range(n)]\n",
    "        for (src, dst) in edges:\n",
    "            adjlist[src].append(dst)\n",
    "            adjlist[dst].append(src)\n",
    "        \n",
    "        visited = [-1] * n\n",
    "        parent = [-1] * n\n",
    "        def dfs(source):\n",
    "            visited[source] = 1\n",
    "            for neighbor in adjlist[source]:\n",
    "                if visited[neighbor] == -1:\n",
    "                    parent[neighbor] = source\n",
    "                    if dfs(neighbor):\n",
    "                        return True\n",
    "                elif parent[source] != neighbor:\n",
    "                    # Cycle\n",
    "                    return True\n",
    "            return False\n",
    "            \n",
    "        def bfs(source):\n",
    "            visited[source] = 1\n",
    "            q = collections.deque([source])\n",
    "            while q:\n",
    "                node = q.popleft()\n",
    "                for neighbor in adjlist[node]:\n",
    "                    if visited[neighbor] == -1:\n",
    "                        visited[neighbor] = 1\n",
    "                        parent[neighbor] = node\n",
    "                        q.append(neighbor)\n",
    "                    elif parent[node] != neighbor:\n",
    "                        return True\n",
    "            return False\n",
    "\n",
    "        components = 0\n",
    "        for v in range(n):\n",
    "            if visited[v] == -1:\n",
    "                components += 1\n",
    "                if components > 1:\n",
    "                    return False\n",
    "                if bfs(v):\n",
    "                    # Cycle found, it is not a tree\n",
    "                    return False\n",
    "        return True\n",
    "    \n",
    "obj = Solution()\n",
    "tree = obj.validTree(5, [[0,1], [0,2], [0,3], [1,4]])\n",
    "print(tree)\n",
    "\n",
    "obj = Solution()\n",
    "tree = obj.validTree(5, [[0,1], [1,2], [2,3], [1,3], [1,4]])\n",
    "print(tree)"
   ]
  },
  {
   "cell_type": "markdown",
   "metadata": {},
   "source": [
    "#### TODO: Union Find Method"
   ]
  },
  {
   "cell_type": "code",
   "execution_count": 95,
   "metadata": {},
   "outputs": [],
   "source": [
    "# Look for Leetcode solutions"
   ]
  },
  {
   "cell_type": "markdown",
   "metadata": {},
   "source": [
    "### Bipartite graph\n",
    "* Graph whose vertices can be divided into two disjoint and independent sets A and B such that every edge connects a vertex in A to one in B\n",
    "* BFS on undirected graph used to determine bipatite graph.\n",
    "* DFS also works to determine bipatite graph. Only at the end we can conclude if its a bipartite graph\n",
    "* Cross edges can occur between two vertices in the same level, next or previous levels\n",
    "* Cross edge within same level creates an odd cycle length, cross edge with next or previous level creates an even cycle length\n",
    "* Bipartite graph can only have even cycle length\n",
    "* Applications: Stable marriage problem, mapping the jobs and applications"
   ]
  },
  {
   "cell_type": "markdown",
   "metadata": {},
   "source": [
    "### 785. Is Graph Bipartite?"
   ]
  },
  {
   "cell_type": "code",
   "execution_count": 2,
   "metadata": {},
   "outputs": [
    {
     "name": "stdout",
     "output_type": "stream",
     "text": [
      "True\n",
      "False\n"
     ]
    }
   ],
   "source": [
    "import collections\n",
    "class Solution(object):\n",
    "    def isBipartite(self, graph):\n",
    "        \"\"\"\n",
    "        :type graph: List[List[int]]\n",
    "        :rtype: bool\n",
    "        \"\"\"\n",
    "        V = len(graph)\n",
    "        adjlist = [[] for _ in range(V)]\n",
    "        for src in range(V):\n",
    "            for dst in graph[src]:\n",
    "                adjlist[src].append(dst)\n",
    "                adjlist[dst].append(src)\n",
    "        \n",
    "        def bsf(source):\n",
    "            visited[source] = 1\n",
    "            #color[source] = 0\n",
    "            distance[source] = 0\n",
    "            q = collections.deque([source])\n",
    "            while q:\n",
    "                source = q.popleft()\n",
    "                for neighbor in adjlist[source]:\n",
    "                    if visited[neighbor] == -1:\n",
    "                        visited[neighbor] = 1\n",
    "                        parent[neighbor] = source\n",
    "                        #color[neighbor] = color[source] ^ 1\n",
    "                        distance[neighbor] = distance[source] + 1\n",
    "                        q.append(neighbor)\n",
    "                    elif parent[source] != neighbor:\n",
    "                        # Cycle\n",
    "                        #if color[neighbor] == color[source]:\n",
    "                        if distance[neighbor] == distance[source]:\n",
    "                            # Odd length cycle, so not bipartie\n",
    "                            return True\n",
    "            return False\n",
    "        \n",
    "        def dfs(source, clr):\n",
    "            visited[source] = 1\n",
    "            color[source] = clr\n",
    "            for neighbor in adjlist[source]:\n",
    "                if visited[neighbor] == -1:\n",
    "                    parent[neighbor] = source\n",
    "                    if dfs(neighbor, clr ^ 1):\n",
    "                        return True\n",
    "                elif parent[source] != neighbor:\n",
    "                    # Cycle\n",
    "                    if color[neighbor] == color[source]:\n",
    "                        # Odd length cycle, so not bipartie\n",
    "                        return True\n",
    "            return False\n",
    "        \n",
    "        visited = [-1] * V\n",
    "        parent = [-1] * V # We can ignore the parent array to solve this\n",
    "        color = [-1] * V\n",
    "        distance = [-1] * V\n",
    "        for v in range(V):\n",
    "            if visited[v] == -1:\n",
    "                #if bsf(v):\n",
    "                if dfs(v, 0):\n",
    "                    return False\n",
    "        return True\n",
    "    \n",
    "obj = Solution()\n",
    "print(obj.isBipartite([[1,3], [0,2], [1,3], [0,2]])) # True\n",
    "print(obj.isBipartite([[1,2,3], [0,2], [0,1,3], [0,2]])) # False"
   ]
  },
  {
   "cell_type": "markdown",
   "metadata": {},
   "source": [
    "### 886. Possible Bipartition"
   ]
  },
  {
   "cell_type": "code",
   "execution_count": 148,
   "metadata": {},
   "outputs": [
    {
     "name": "stdout",
     "output_type": "stream",
     "text": [
      "True\n",
      "False\n",
      "False\n"
     ]
    }
   ],
   "source": [
    "import collections\n",
    "class Solution(object):\n",
    "    def possibleBipartition(self, N, dislikes):\n",
    "        \"\"\"\n",
    "        :type N: int\n",
    "        :type dislikes: List[List[int]]\n",
    "        :rtype: bool\n",
    "        \"\"\"\n",
    "        V = N + 1 # vertices are not starting from 0\n",
    "        adjlist = [[] for _ in range(V)]\n",
    "        for (src, dst) in dislikes:\n",
    "            adjlist[src].append(dst)\n",
    "            adjlist[dst].append(src)\n",
    "        \n",
    "        def bfs(source):\n",
    "            visited[source] = 1\n",
    "            color[source] = 0\n",
    "            q = collections.deque([source])\n",
    "            while q:\n",
    "                source = q.popleft()\n",
    "                for neighbor in adjlist[source]:\n",
    "                    if visited[neighbor] == -1:\n",
    "                        visited[neighbor] = 1\n",
    "                        color[neighbor] = color[source] ^ 1\n",
    "                        parent[neighbor] = source\n",
    "                        q.append(neighbor)\n",
    "                    elif parent[source] != neighbor:\n",
    "                        # Cycle\n",
    "                        if color[neighbor] == color[source]:\n",
    "                            # Odd length cycle\n",
    "                            return True\n",
    "            return False\n",
    "\n",
    "        def dfs(source, clr):\n",
    "            visited[source] = 1\n",
    "            color[source] = clr\n",
    "            for neighbor in adjlist[source]:\n",
    "                if visited[neighbor] == -1:\n",
    "                    parent[neighbor] = source\n",
    "                    if dfs(neighbor, clr^1):\n",
    "                        return True\n",
    "                elif parent[source] != neighbor:\n",
    "                    # Cycle\n",
    "                    if color[neighbor] == color[source]:\n",
    "                        # Odd length cycle\n",
    "                        return True\n",
    "        \n",
    "        visited = [-1] * V\n",
    "        parent = [-1] * V\n",
    "        color = [-1] * V\n",
    "        for v in range(V):\n",
    "            if visited[v] == -1:\n",
    "                #if dfs(v, 0):\n",
    "                if bfs(v):\n",
    "                    return False\n",
    "        return True\n",
    "\n",
    "obj = Solution()\n",
    "print(obj.possibleBipartition(4, [[1,2],[1,3],[2,4]])) # True\n",
    "print(obj.possibleBipartition(3, [[1,2],[1,3],[2,3]])) # False\n",
    "print(obj.possibleBipartition(5, [[1,2],[2,3],[3,4],[4,5],[1,5]])) # False"
   ]
  },
  {
   "cell_type": "markdown",
   "metadata": {},
   "source": [
    "### 200. Number of Islands"
   ]
  },
  {
   "cell_type": "code",
   "execution_count": 76,
   "metadata": {},
   "outputs": [
    {
     "name": "stdout",
     "output_type": "stream",
     "text": [
      "3\n",
      "0\n",
      "3\n"
     ]
    }
   ],
   "source": [
    "class Solution(object):\n",
    "    # dfs/bfs\n",
    "    # Time complexity: O(M*N)\n",
    "    # Space complexity: O(M*N)\n",
    "    def numIslands1(self, grid):\n",
    "        \"\"\"\n",
    "        :type grid: List[List[str]]\n",
    "        :rtype: int\n",
    "        \"\"\"\n",
    "        def dfs(i, j):\n",
    "            visited[i][j] = 1\n",
    "            for (x, y) in directions:\n",
    "                i1, j1 = i + x, j + y\n",
    "                if i1 >= 0 and i1 < rows and j1 >= 0 and j1 < cols:\n",
    "                    if grid[i1][j1] == \"1\" and visited[i1][j1] == -1:\n",
    "                        dfs(i1, j1)\n",
    "        \n",
    "        rows = len(grid)\n",
    "        if not rows:\n",
    "            return 0\n",
    "        cols = len(grid[0])\n",
    "        directions = [[-1, 0], [1, 0], [0, 1], [0, -1]]\n",
    "        visited = [[-1 for _ in range(cols)] for _ in range(rows)]\n",
    "        \n",
    "        num_islands = 0\n",
    "        for v in range(rows):\n",
    "            for neighbor in range(cols):\n",
    "                if grid[v][neighbor] == \"1\" and visited[v][neighbor] == -1:\n",
    "                    num_islands += 1\n",
    "                    dfs(v, neighbor)\n",
    "\n",
    "        #print(visited)\n",
    "        return num_islands\n",
    "    \n",
    "    # Union-Find\n",
    "    # Time complexity: O(M*N)\n",
    "    # Space complexity: O(M*N)\n",
    "    def numIslands(self, grid):\n",
    "        rows = len(grid)\n",
    "        if not rows:\n",
    "            return 0\n",
    "        cols = len(grid[0])\n",
    "        \n",
    "        count = 0\n",
    "        for i in range(rows):\n",
    "            for j in range(cols):\n",
    "                if grid[i][j] == \"1\":\n",
    "                    count += 1\n",
    "\n",
    "        parents = [i for i in range(rows*cols)]\n",
    "        def union(node1, node2):\n",
    "            nonlocal count\n",
    "            p1 = find(node1)\n",
    "            p2 = find(node2)\n",
    "            if p1 != p2:\n",
    "                parents[p1] = p2\n",
    "                count -= 1\n",
    "\n",
    "        def find(node):\n",
    "            if parents[node] != node:\n",
    "                parents[node] = find(parents[node])\n",
    "            return parents[node]\n",
    "\n",
    "        directions = [(-1, 0), (1, 0), (0, 1), (0, -1)]\n",
    "        for i in range(rows):\n",
    "            for j in range(cols):\n",
    "                if grid[i][j] == \"1\":\n",
    "                    for d in directions:\n",
    "                        x, y = i + d[0], j + d[1]\n",
    "                        #print(x, y, rows, cols)\n",
    "                        if 0 <= x < rows and 0 <= y < cols and grid[x][y] == \"1\":\n",
    "                            union(i*cols + j, x*cols + y)\n",
    "                            #print(parents)\n",
    "\n",
    "        return count\n",
    "    \n",
    "# driver\n",
    "obj = Solution()\n",
    "print(obj.numIslands([[\"1\",\"0\",\"1\",\"1\",\"0\"],\n",
    "                      [\"0\",\"1\",\"0\",\"1\",\"0\"],\n",
    "                      [\"1\",\"1\",\"0\",\"0\",\"0\"],\n",
    "                      [\"0\",\"0\",\"0\",\"0\",\"0\"]])) # 3\n",
    "print(obj.numIslands([])) # 0\n",
    "print(obj.numIslands([[\"1\",\"0\",\"1\",\"1\",\"0\",\"1\",\"1\"]])) # 3"
   ]
  },
  {
   "cell_type": "code",
   "execution_count": 69,
   "metadata": {},
   "outputs": [
    {
     "name": "stdout",
     "output_type": "stream",
     "text": [
      "[0, 4, 2, 3, 4, 5, 6, 7, 8, 9, 10, 11]\n",
      "[0, 4, 3, 3, 4, 5, 6, 7, 8, 9, 10, 11]\n",
      "[0, 4, 3, 3, 3, 5, 6, 7, 8, 9, 10, 11]\n",
      "[3, 4, 3, 3, 3, 5, 6, 7, 8, 9, 10, 11]\n",
      "[3, 3, 3, 5, 3, 5, 6, 7, 8, 9, 10, 11]\n"
     ]
    }
   ],
   "source": [
    "rows, cols = 3, 4\n",
    "parents = [i for i in range(rows * cols)]\n",
    "def union(node1, node2):\n",
    "    p1 = find(node1)\n",
    "    p2 = find(node2)\n",
    "    if p1 != p2:\n",
    "        parents[p1] = p2\n",
    "\n",
    "def find(node):\n",
    "    if parents[node] == node:\n",
    "        return parents[node]\n",
    "        #return node\n",
    "    parents[node] = find(parents[node])\n",
    "    return parents[node]\n",
    "\n",
    "union(1, 4)\n",
    "print(parents)\n",
    "union(2, 3)\n",
    "print(parents)\n",
    "union(1, 3)\n",
    "print(parents)\n",
    "union(0, 4)\n",
    "print(parents)\n",
    "union(1, 5)\n",
    "print(parents)"
   ]
  },
  {
   "cell_type": "markdown",
   "metadata": {},
   "source": [
    "### 695. Max Area of Island"
   ]
  },
  {
   "cell_type": "code",
   "execution_count": 219,
   "metadata": {},
   "outputs": [
    {
     "name": "stdout",
     "output_type": "stream",
     "text": [
      "7\n"
     ]
    }
   ],
   "source": [
    "import collections\n",
    "class Solution(object):\n",
    "    def maxAreaOfIsland(self, grid):\n",
    "        \"\"\"\n",
    "        :type grid: List[List[int]]\n",
    "        :rtype: int\n",
    "        \"\"\"\n",
    "        def bfs(i, j):\n",
    "            visited[i][j] = 1\n",
    "            q = collections.deque([(i, j)])\n",
    "            area = 1\n",
    "            while q:\n",
    "                i, j = q.popleft()\n",
    "                for x, y in directions:\n",
    "                    i1, j1 = i + x, j + y\n",
    "                    if i1 >= 0 and i1 < len(grid) and \\\n",
    "                       j1 >= 0 and j1 < len(grid[0]):\n",
    "                        if visited[i1][j1] == -1 and grid[i1][j1] == 1:\n",
    "                            area += dfs(i1, j1)\n",
    "            return area\n",
    "        \n",
    "        def dfs(i, j):\n",
    "            visited[i][j] = 1\n",
    "            area = 1\n",
    "            for x, y in directions:\n",
    "                i1, j1 = i + x, j + y\n",
    "                if i1 >= 0 and i1 < len(grid) and \\\n",
    "                   j1 >= 0 and j1 < len(grid[0]):\n",
    "                    if visited[i1][j1] == -1 and grid[i1][j1] == 1:\n",
    "                        area += dfs(i1, j1)\n",
    "            return area\n",
    "                    \n",
    "        \n",
    "        directions = [[-1, 0], [0, -1], [0, 1], [1, 0]]\n",
    "        visited = [[-1 for _ in range(len(grid[0]))] for _ in range(len(grid))]\n",
    "        maxArea = 0\n",
    "        for v in range(len(grid)):\n",
    "            for neighbor in range(len(grid[0])):\n",
    "                if visited[v][neighbor] == -1 and grid[v][neighbor] == 1:\n",
    "                    #maxArea = max(dfs(v, neighbor), maxArea)\n",
    "                    maxArea = max(bfs(v, neighbor), maxArea)\n",
    "        return maxArea\n",
    "        \n",
    "obj = Solution()\n",
    "print (obj.maxAreaOfIsland([[1,1,0,0,1],\n",
    "                            [1,1,0,1,1],\n",
    "                            [0,0,0,1,1],\n",
    "                            [0,0,0,1,1]])) # 4"
   ]
  },
  {
   "cell_type": "markdown",
   "metadata": {},
   "source": [
    "### 733. Flood Fill"
   ]
  },
  {
   "cell_type": "code",
   "execution_count": null,
   "metadata": {},
   "outputs": [],
   "source": []
  },
  {
   "cell_type": "markdown",
   "metadata": {},
   "source": [
    "### BFS Directed Graph"
   ]
  },
  {
   "cell_type": "code",
   "execution_count": null,
   "metadata": {},
   "outputs": [],
   "source": []
  },
  {
   "cell_type": "markdown",
   "metadata": {},
   "source": [
    "### 909. Snakes and Ladders"
   ]
  },
  {
   "cell_type": "code",
   "execution_count": null,
   "metadata": {},
   "outputs": [],
   "source": []
  },
  {
   "cell_type": "markdown",
   "metadata": {},
   "source": [
    "### 207. Course Schedule"
   ]
  },
  {
   "cell_type": "code",
   "execution_count": 223,
   "metadata": {},
   "outputs": [
    {
     "name": "stdout",
     "output_type": "stream",
     "text": [
      "True\n",
      "False\n"
     ]
    }
   ],
   "source": [
    "class Solution(object):\n",
    "    def canFinish(self, numCourses, prerequisites):\n",
    "        \"\"\"\n",
    "        :type numCourses: int\n",
    "        :type prerequisites: List[List[int]]\n",
    "        :rtype: bool\n",
    "        \"\"\"\n",
    "        V = numCourses\n",
    "        adjlist = [[] for _ in range(V)]\n",
    "        visited = [-1 for _ in range(V)]\n",
    "        arrival = [-1 for _ in range(V)]\n",
    "        departure = [-1 for _ in range(V)]\n",
    "        #self.timestamp = 0\n",
    "        timestamp = [0]\n",
    "        \n",
    "        for dst, src in prerequisites:\n",
    "            adjlist[src].append(dst)\n",
    "        \n",
    "        def dfs(source):\n",
    "            visited[source] = 1\n",
    "            #arrival[source] = self.timestamp\n",
    "            #self.timestamp += 1\n",
    "            arrival[source] = timestamp[0]\n",
    "            timestamp[0] += 1\n",
    "            \n",
    "            for neighbor in adjlist[source]:\n",
    "                if visited[neighbor] == -1:\n",
    "                    if dfs(neighbor):\n",
    "                        return True\n",
    "                else:\n",
    "                    # Cycle\n",
    "                    if departure[neighbor] == -1:\n",
    "                        # This is a back edge, hence a Cycle!\n",
    "                        return True\n",
    "            \n",
    "            #departure[source] = self.timestamp\n",
    "            #self.timestamp += 1\n",
    "            departure[source] = timestamp\n",
    "            timestamp[0] += 1\n",
    "            return False\n",
    "            \n",
    "        for v in range(V):\n",
    "            if visited[v] == -1:\n",
    "                if dfs(v):\n",
    "                    # Cycle found, course cannot be completed\n",
    "                    return False\n",
    "        return True # No cycle found anywhere\n",
    "\n",
    "obj = Solution()\n",
    "print(obj.canFinish(2, [[1,0]])) # True\n",
    "print(obj.canFinish(2, [[1,0],[0,1]])) # False"
   ]
  },
  {
   "cell_type": "markdown",
   "metadata": {},
   "source": [
    "### 332. Reconstruct Itinerary"
   ]
  },
  {
   "cell_type": "code",
   "execution_count": 117,
   "metadata": {},
   "outputs": [],
   "source": [
    "import collections\n",
    "import bisect\n",
    "def findItinerary1(tickets):\n",
    "    \"\"\"\n",
    "    :type tickets: List[List[str]]\n",
    "    :rtype: List[str]\n",
    "    \"\"\"\n",
    "    st = [] # route\n",
    "    def dfs(arr):\n",
    "        while graph[arr]:\n",
    "            #print(graph)\n",
    "            dfs(graph[arr].pop())\n",
    "        st.append(arr)\n",
    "            \n",
    "    graph = collections.defaultdict(list)\n",
    "    for src, dst in sorted(tickets)[::-1]:\n",
    "        graph[src].append(dst)\n",
    "        \n",
    "    dfs('JFK')\n",
    "    return st[::-1]\n",
    "\n",
    "def findItinerary(tickets):\n",
    "    graph = collections.defaultdict(list)\n",
    "    for src, dst in sorted(tickets)[::-1]:\n",
    "        graph[src].append(dst)\n",
    "    \n",
    "    path, route = ['JFK'], []\n",
    "    while path:\n",
    "        while graph[path[-1]]:\n",
    "            path.append(graph[path[-1]].pop())\n",
    "        route.append(path.pop())\n",
    "    return route[::-1]"
   ]
  },
  {
   "cell_type": "code",
   "execution_count": 118,
   "metadata": {},
   "outputs": [
    {
     "data": {
      "text/plain": [
       "['JFK', 'ATL', 'SFO', 'ATL', 'JFK']"
      ]
     },
     "execution_count": 118,
     "metadata": {},
     "output_type": "execute_result"
    }
   ],
   "source": [
    "tickets = [[\"JFK\",\"ATL\"],[\"SFO\",\"ATL\"],[\"ATL\",\"JFK\"],[\"ATL\",\"SFO\"]]\n",
    "findItinerary(tickets) # ['JFK', 'ATL', 'SFO', 'ATL', 'JFK']"
   ]
  },
  {
   "cell_type": "code",
   "execution_count": 119,
   "metadata": {},
   "outputs": [
    {
     "data": {
      "text/plain": [
       "['JFK',\n",
       " 'AXA',\n",
       " 'AUA',\n",
       " 'ADL',\n",
       " 'ANU',\n",
       " 'AUA',\n",
       " 'ANU',\n",
       " 'EZE',\n",
       " 'ADL',\n",
       " 'EZE',\n",
       " 'ANU',\n",
       " 'JFK',\n",
       " 'AXA',\n",
       " 'EZE',\n",
       " 'TIA',\n",
       " 'AUA',\n",
       " 'AXA',\n",
       " 'TIA',\n",
       " 'ADL',\n",
       " 'EZE',\n",
       " 'HBA']"
      ]
     },
     "execution_count": 119,
     "metadata": {},
     "output_type": "execute_result"
    }
   ],
   "source": [
    "tickets = [[\"EZE\",\"TIA\"],[\"EZE\",\"HBA\"],[\"AXA\",\"TIA\"],[\"JFK\",\"AXA\"],[\"ANU\",\"JFK\"],[\"ADL\",\"ANU\"],[\"TIA\",\"AUA\"],[\"ANU\",\"AUA\"],[\"ADL\",\"EZE\"],[\"ADL\",\"EZE\"],[\"EZE\",\"ADL\"],[\"AXA\",\"EZE\"],[\"AUA\",\"AXA\"],[\"JFK\",\"AXA\"],[\"AXA\",\"AUA\"],[\"AUA\",\"ADL\"],[\"ANU\",\"EZE\"],[\"TIA\",\"ADL\"],[\"EZE\",\"ANU\"],[\"AUA\",\"ANU\"]]\n",
    "findItinerary(tickets) # ['JFK','AXA','AUA','ADL','ANU','AUA','ANU','EZE','ADL','EZE','ANU','JFK','AXA','EZE','TIA','AUA','AXA','TIA','ADL','EZE','HBA']"
   ]
  },
  {
   "cell_type": "markdown",
   "metadata": {},
   "source": [
    "### Dijkstra's algorithm"
   ]
  },
  {
   "cell_type": "code",
   "execution_count": 140,
   "metadata": {},
   "outputs": [
    {
     "name": "stdout",
     "output_type": "stream",
     "text": [
      "a 0\n",
      "b 10\n",
      "d 60\n",
      "e 80\n",
      "f 81\n",
      "f 62\n",
      "e 20\n",
      "f 21\n",
      "c 20\n",
      "d 40\n",
      "e 60\n",
      "f 42\n",
      "e 53\n",
      "{'a': 0, 'b': 10, 'c': 20, 'd': 40, 'e': 20, 'f': 21}\n"
     ]
    }
   ],
   "source": [
    "# https://www.educative.io/edpresso/what-is-dijkstras-algorithm\n",
    "def shortestPath(distances, source):\n",
    "    adjlist = collections.defaultdict(list)\n",
    "    # building adj list graph\n",
    "    for src, dst, d in distances:\n",
    "        adjlist[src].append((dst, d))\n",
    "        # add the dst nodes to make adjlist size equal to number of vertices\n",
    "        if len(adjlist[dst]) == 0:\n",
    "            adjlist[dst] = []\n",
    "\n",
    "    # Total number of vertices\n",
    "    n = len(adjlist)\n",
    "    \n",
    "    # initially all nodes are inf distance apart\n",
    "    distance = {v:float('inf') for v in adjlist}\n",
    "    \n",
    "    # dfs approach\n",
    "    def dfs(src, d):\n",
    "        print(src, d)\n",
    "        if d >= distance[src]:\n",
    "            return\n",
    "        distance[src] = d\n",
    "        for neigh, dist in sorted(adjlist[src]):\n",
    "            dfs(neigh, d + dist)\n",
    "    dfs(source, 0)\n",
    "    \n",
    "    import heapq\n",
    "    # Dijkstra's approach\n",
    "    def dijkstra(src):\n",
    "        data = [(0, src)]\n",
    "        while data:\n",
    "            src, d = heapq.heappop(data)\n",
    "            for neigh, dist in sorted(adjlist[src]):\n",
    "                heapq.heappush(data, (neigh, d + dist))\n",
    "    \n",
    "    print(distance)\n",
    "    \n",
    "distances = [['a','b',10],\n",
    "             ['a','c',20],\n",
    "             ['b','d',50],\n",
    "             ['b','e',10],\n",
    "             ['c','d',20],\n",
    "             ['c','e',33],\n",
    "             ['d','f',2],\n",
    "             ['d','e',20],\n",
    "             ['e','f',1]]\n",
    "shortestPath(distances, 'a')"
   ]
  },
  {
   "cell_type": "code",
   "execution_count": null,
   "metadata": {},
   "outputs": [],
   "source": []
  }
 ],
 "metadata": {
  "kernelspec": {
   "display_name": "Python 3",
   "language": "python",
   "name": "python3"
  },
  "language_info": {
   "codemirror_mode": {
    "name": "ipython",
    "version": 3
   },
   "file_extension": ".py",
   "mimetype": "text/x-python",
   "name": "python",
   "nbconvert_exporter": "python",
   "pygments_lexer": "ipython3",
   "version": "3.6.5"
  }
 },
 "nbformat": 4,
 "nbformat_minor": 2
}
