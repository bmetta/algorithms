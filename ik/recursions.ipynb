{
 "cells": [
  {
   "cell_type": "markdown",
   "metadata": {},
   "source": [
    "### Tower of Hanoi"
   ]
  },
  {
   "cell_type": "code",
   "execution_count": 74,
   "metadata": {},
   "outputs": [],
   "source": [
    "def towerOfHanoi(n, src, dst, aux):\n",
    "    if n == 0:\n",
    "        return\n",
    "    \n",
    "    towerOfHanoi(n - 1, src, aux, dst)\n",
    "    print(\"Move\", n, \"from\", src, \"to\", dst)\n",
    "    towerOfHanoi(n - 1, aux, dst, src)"
   ]
  },
  {
   "cell_type": "code",
   "execution_count": 88,
   "metadata": {},
   "outputs": [
    {
     "name": "stdout",
     "output_type": "stream",
     "text": [
      "Move 1 from A to B\n",
      "Move 2 from A to C\n",
      "Move 1 from B to C\n",
      "Move 3 from A to B\n",
      "Move 1 from C to A\n",
      "Move 2 from C to B\n",
      "Move 1 from A to B\n"
     ]
    }
   ],
   "source": [
    "towerOfHanoi(3, 'A', 'B', 'C')"
   ]
  },
  {
   "cell_type": "markdown",
   "metadata": {},
   "source": [
    "### Enumerate all possible binary strings of length n"
   ]
  },
  {
   "cell_type": "code",
   "execution_count": 8,
   "metadata": {},
   "outputs": [
    {
     "data": {
      "text/plain": [
       "['000', '001', '010', '011', '100', '101', '110', '111']"
      ]
     },
     "execution_count": 8,
     "metadata": {},
     "output_type": "execute_result"
    }
   ],
   "source": [
    "# possible binary strings of lenght 3\n",
    "# problem: we cant extend this solution if n is more than 3\n",
    "def binaryStrings():\n",
    "    res = []\n",
    "    for i in range(2):\n",
    "        for j in range(2):\n",
    "            for k in range(2):\n",
    "                res.append(str(i) + str(j) + str(k))\n",
    "    return res\n",
    "\n",
    "binaryStrings()"
   ]
  },
  {
   "cell_type": "code",
   "execution_count": 35,
   "metadata": {},
   "outputs": [
    {
     "data": {
      "text/plain": [
       "['000', '001', '010', '011', '100', '101', '110', '111']"
      ]
     },
     "execution_count": 35,
     "metadata": {},
     "output_type": "execute_result"
    }
   ],
   "source": [
    "# BSF recursive approach\n",
    "# Total binary strings: 2^n\n",
    "# Time complexity: 2^n * n\n",
    "# Space complexity: 2^n\n",
    "def binaryStrings(n):\n",
    "    if n == 1:\n",
    "        return ['0', '1']\n",
    "    prev_result = binaryStrings(n - 1)\n",
    "    result = []\n",
    "    for s in prev_result:\n",
    "        result.append(s + '0')\n",
    "        result.append(s + '1')\n",
    "    return result\n",
    "\n",
    "binaryStrings(3)"
   ]
  },
  {
   "cell_type": "code",
   "execution_count": 36,
   "metadata": {},
   "outputs": [
    {
     "data": {
      "text/plain": [
       "['000', '001', '010', '011', '100', '101', '110', '111']"
      ]
     },
     "execution_count": 36,
     "metadata": {},
     "output_type": "execute_result"
    }
   ],
   "source": [
    "# BSF iterative approach \n",
    "# Time complexity: 2^n * n\n",
    "# Space complexity: 2^n\n",
    "def binaryStrings(n):\n",
    "    res = ['0', '1']\n",
    "    if n == 1:\n",
    "        return res\n",
    "\n",
    "    for i in range(1, n):\n",
    "        new_res = []\n",
    "        for s in res:\n",
    "            new_res.append(s + '0')\n",
    "            new_res.append(s + '1')\n",
    "        res = new_res\n",
    "    \n",
    "    return res\n",
    "\n",
    "binaryStrings(3)"
   ]
  },
  {
   "cell_type": "code",
   "execution_count": 19,
   "metadata": {},
   "outputs": [
    {
     "data": {
      "text/plain": [
       "['000', '001', '010', '011', '100', '101', '110', '111']"
      ]
     },
     "execution_count": 19,
     "metadata": {},
     "output_type": "execute_result"
    }
   ],
   "source": [
    "# DFS approach\n",
    "# Time complexity: 2^n * n\n",
    "# Space complexity: n\n",
    "def binaryStrings(n):\n",
    "    def bsHelper(n, slate, res):\n",
    "        if n == 0:\n",
    "            res.append(slate)\n",
    "            return\n",
    "\n",
    "        bsHelper(n - 1, slate + '0', res)\n",
    "        bsHelper(n - 1, slate + '1', res)\n",
    "        \n",
    "        return res\n",
    "\n",
    "    return bsHelper(n, \"\", [])\n",
    "    \n",
    "binaryStrings(3)"
   ]
  },
  {
   "cell_type": "markdown",
   "metadata": {},
   "source": [
    "### Permutations without repetitions"
   ]
  },
  {
   "cell_type": "markdown",
   "metadata": {},
   "source": [
    "* Permutations with repetitions: Binary strings\n",
    "* Permutations without repetitions: All permutations of a set of n distinct chars (repetition not allowed)\n",
    "    * n!"
   ]
  },
  {
   "cell_type": "code",
   "execution_count": 32,
   "metadata": {},
   "outputs": [
    {
     "data": {
      "text/plain": [
       "['abc', 'acb', 'bac', 'bca', 'cab', 'cba']"
      ]
     },
     "execution_count": 32,
     "metadata": {},
     "output_type": "execute_result"
    }
   ],
   "source": [
    "# Time complexity: n! * n => n + n(n-1) + n(n-1)(n-2) + ....; n is add to result at each node\n",
    "# Space complexity: n\n",
    "def permutations(arr):\n",
    "    def pHelper(arr, slate, result):\n",
    "        if len(arr) == 0:\n",
    "            result.append(slate[:])\n",
    "            return\n",
    "        for i in range(len(arr)):\n",
    "            pHelper(arr[:i] + arr[i+1:], slate + arr[i], result)\n",
    "        return result\n",
    "    \n",
    "    return pHelper(arr, \"\", [])\n",
    "\n",
    "permutations(\"abc\")"
   ]
  },
  {
   "cell_type": "markdown",
   "metadata": {},
   "source": [
    "### 784. Letter Case Permutations"
   ]
  },
  {
   "cell_type": "code",
   "execution_count": 47,
   "metadata": {},
   "outputs": [
    {
     "data": {
      "text/plain": [
       "['a1b1', 'a1B1', 'A1b1', 'A1B1']"
      ]
     },
     "execution_count": 47,
     "metadata": {},
     "output_type": "execute_result"
    }
   ],
   "source": [
    "# Combinatorial search and enumeration problem: Exponential problem\n",
    "# Permutations problem: order matters\n",
    "# devide and conquer implementation: DFS\n",
    "def permutations(s):\n",
    "    def helper(s, i, slate, result):\n",
    "        if i == len(s):\n",
    "            result.append(slate)\n",
    "            #res.append(slate[:])\n",
    "            return result\n",
    "        \n",
    "        if s[i].isdigit():\n",
    "            helper(s, i + 1, slate + s[i], result)\n",
    "        else: # Alphabet\n",
    "            helper(s, i + 1, slate + s[i].lower(), result)\n",
    "            helper(s, i + 1, slate + s[i].upper(), result)\n",
    "        return result\n",
    "    \n",
    "    return helper(s, 0, \"\", [])\n",
    "\n",
    "permutations(\"a1b1\")"
   ]
  },
  {
   "cell_type": "code",
   "execution_count": 53,
   "metadata": {},
   "outputs": [
    {
     "data": {
      "text/plain": [
       "['a1b1', 'a1B1', 'A1b1', 'A1B1']"
      ]
     },
     "execution_count": 53,
     "metadata": {},
     "output_type": "execute_result"
    }
   ],
   "source": [
    "# Optimizations: immutable to mutable string\n",
    "# Mutable solution will be preferred and it uses less space\n",
    "# Master copy extended till the tail\n",
    "# Time Complexity: O(2^n * n)\n",
    "# Space Complexity: O(n)\n",
    "def permutations(s):\n",
    "    def helper(s, i, slate, result):\n",
    "        if i == len(s):\n",
    "            #result.append(slate[:])\n",
    "            result.append(\"\".join(slate))\n",
    "            return result\n",
    "        \n",
    "        if s[i].isdigit():\n",
    "            slate.append(s[i])\n",
    "            helper(s, i + 1, slate, result)\n",
    "            slate.pop()\n",
    "        else: # Alphabet\n",
    "            slate.append(s[i].lower())\n",
    "            helper(s, i + 1, slate, result)\n",
    "            slate.pop()\n",
    "\n",
    "            slate.append(s[i].upper())\n",
    "            helper(s, i + 1, slate, result)\n",
    "            slate.pop()\n",
    "        return result\n",
    "    \n",
    "    return helper(s, 0, [], [])\n",
    "\n",
    "permutations(\"a1b1\")"
   ]
  },
  {
   "cell_type": "code",
   "execution_count": 54,
   "metadata": {},
   "outputs": [
    {
     "data": {
      "text/plain": [
       "['a1b1', 'a1B1', 'A1b1', 'A1B1']"
      ]
     },
     "execution_count": 54,
     "metadata": {},
     "output_type": "execute_result"
    }
   ],
   "source": [
    "# Combinatorial search and enumeration problem: Exponential problem\n",
    "# Permutations problem: order matters\n",
    "# devide and conquer implementation: DFS\n",
    "# Time Complexity: O(2^n * n)\n",
    "# Space Complexity: O(n)\n",
    "def permutations(s):\n",
    "    def helper(s, i, result):\n",
    "        if i == len(s):\n",
    "            result.append(s[:])\n",
    "            return result\n",
    "\n",
    "        if s[i].isdigit():\n",
    "            helper(s, i + 1, result)\n",
    "        else: # Alphabet\n",
    "            helper(s, i + 1, result)\n",
    "            \n",
    "            s[i] = s[i].upper()\n",
    "            helper(s, i + 1, result)\n",
    "            s[i] = s[i].lower()\n",
    "        return result\n",
    "    result = []\n",
    "    helper(list(s), 0, result)\n",
    "    return map(\"\".join, result)\n",
    "\n",
    "list(permutations(\"a1b1\"))"
   ]
  },
  {
   "cell_type": "code",
   "execution_count": 43,
   "metadata": {},
   "outputs": [
    {
     "data": {
      "text/plain": [
       "['a1b1', 'A1b1', 'a1B1', 'A1B1']"
      ]
     },
     "execution_count": 43,
     "metadata": {},
     "output_type": "execute_result"
    }
   ],
   "source": [
    "#Iterative approach\n",
    "# Time Complexity: O(2^n * n)\n",
    "# Space Complexity: O(2^n * n)\n",
    "def permutations(s):\n",
    "    result = [[]]\n",
    "    for char in s:\n",
    "        n = len(result)\n",
    "        for i in range(n):\n",
    "            if char.isalpha():\n",
    "                result.append(result[i][:])\n",
    "                result[i].append(char.lower())\n",
    "                result[n+i].append(char.upper())\n",
    "            else: # digit\n",
    "                result[i].append(char)\n",
    "    return map(\"\".join, result)\n",
    "\n",
    "list(permutations(\"a1b1\"))"
   ]
  },
  {
   "cell_type": "markdown",
   "metadata": {},
   "source": [
    "### 78. Subsets"
   ]
  },
  {
   "cell_type": "code",
   "execution_count": 71,
   "metadata": {},
   "outputs": [
    {
     "data": {
      "text/plain": [
       "[[], [3], [2], [2, 3], [1], [1, 3], [1, 2], [1, 2, 3]]"
      ]
     },
     "execution_count": 71,
     "metadata": {},
     "output_type": "execute_result"
    }
   ],
   "source": [
    "# Combinations problem: turns out to be permutations of binary strings\n",
    "# Time complexity: 2^n * n\n",
    "# Space complexity: n\n",
    "def subsets(nums):\n",
    "    res = []\n",
    "    def helper(nums, i, slate):\n",
    "        if i == len(nums):\n",
    "            res.append(slate[:])\n",
    "            return\n",
    "        \n",
    "        # Exclude nums[i]\n",
    "        helper(nums, i + 1, slate)\n",
    "        \n",
    "        # Include nums[i]\n",
    "        slate.append(nums[i])\n",
    "        helper(nums, i + 1, slate)\n",
    "        slate.pop()\n",
    "\n",
    "    helper(nums, 0, [])\n",
    "    return res\n",
    "\n",
    "subsets([1, 2, 3])"
   ]
  },
  {
   "cell_type": "code",
   "execution_count": 46,
   "metadata": {},
   "outputs": [
    {
     "data": {
      "text/plain": [
       "[[], ['x'], ['x', 'y'], ['y']]"
      ]
     },
     "execution_count": 46,
     "metadata": {},
     "output_type": "execute_result"
    }
   ],
   "source": [
    "# Optimized\n",
    "def subsets(nums):\n",
    "    def helper(nums, start, slate, res):\n",
    "        res.append(slate[:])\n",
    "        for i in range(start, len(nums)):\n",
    "            slate.append(nums[i])\n",
    "            helper(nums, i + 1, slate, res)\n",
    "            slate.pop()\n",
    "        \n",
    "    res = []\n",
    "    helper(nums, 0, [], res)\n",
    "    return res\n",
    "\n",
    "#subsets([1, 2, 3, 4])\n",
    "subsets(\"xy\")"
   ]
  },
  {
   "cell_type": "markdown",
   "metadata": {},
   "source": [
    "### 46. Permutations"
   ]
  },
  {
   "cell_type": "code",
   "execution_count": 74,
   "metadata": {},
   "outputs": [
    {
     "data": {
      "text/plain": [
       "[[1, 2, 3], [1, 3, 2], [2, 1, 3], [2, 3, 1], [3, 2, 1], [3, 1, 2]]"
      ]
     },
     "execution_count": 74,
     "metadata": {},
     "output_type": "execute_result"
    }
   ],
   "source": [
    "# Permutations problem\n",
    "# Time complexity\n",
    "# Space complexity\n",
    "def permutations(nums): \n",
    "    def helper(nums, start, res):\n",
    "        if start == len(nums):\n",
    "            res.append(nums[:])\n",
    "            return\n",
    "        for i in range(start, len(nums)):\n",
    "            nums[start], nums[i] = nums[i], nums[start]\n",
    "            helper(nums, start + 1, res)\n",
    "            nums[start], nums[i] = nums[i], nums[start]\n",
    "    \n",
    "    res = []\n",
    "    helper(nums, 0, res)\n",
    "    return res\n",
    "\n",
    "permutations([1, 2, 3])"
   ]
  },
  {
   "cell_type": "markdown",
   "metadata": {},
   "source": [
    "Number of permutations/Combinations for a set of n distinct elements\n",
    "* Permutations = n!\n",
    "* Combinations/Subsets = 2^n\n",
    "* Permutations has always bigger than Subsets (combinations)"
   ]
  },
  {
   "cell_type": "markdown",
   "metadata": {},
   "source": [
    "### 47. Permutations II"
   ]
  },
  {
   "cell_type": "code",
   "execution_count": 86,
   "metadata": {},
   "outputs": [
    {
     "data": {
      "text/plain": [
       "[[1, 1, 2], [1, 2, 1], [2, 1, 1]]"
      ]
     },
     "execution_count": 86,
     "metadata": {},
     "output_type": "execute_result"
    }
   ],
   "source": [
    "# Return possible unique permutations, removing duplicate permutations\n",
    "#        abcb\n",
    "#     /   |  |   \\\n",
    "#    a   b   c   b\n",
    "#        |      |\n",
    "#        |      |\n",
    "#        |      |\n",
    "# Prune one of the duplicate path using hash map\n",
    "def permutations(nums):\n",
    "    def helper(nums, start, result):\n",
    "        if start == len(nums):\n",
    "            result.append(nums[:])\n",
    "            return\n",
    "        \n",
    "        unique = {}\n",
    "        for i in range(start, len(nums)):\n",
    "            # avoid duplicate paths\n",
    "            if unique.get(nums[i], False) == False:\n",
    "                unique[nums[i]] = True\n",
    "                nums[start], nums[i] = nums[i], nums[start]\n",
    "                helper(nums, start + 1, result)\n",
    "                nums[start], nums[i] = nums[i], nums[start]\n",
    "    \n",
    "    result = []\n",
    "    helper(nums, 0, result)\n",
    "    return result\n",
    "\n",
    "permutations([1, 1, 2])"
   ]
  },
  {
   "cell_type": "code",
   "execution_count": 87,
   "metadata": {},
   "outputs": [],
   "source": [
    "# TODO: Iterative approach\n",
    "# Check for leetcode solution submitted"
   ]
  },
  {
   "cell_type": "markdown",
   "metadata": {},
   "source": [
    "### 90. Subsets II"
   ]
  },
  {
   "cell_type": "code",
   "execution_count": 36,
   "metadata": {
    "scrolled": false
   },
   "outputs": [
    {
     "data": {
      "text/plain": [
       "[[],\n",
       " [4],\n",
       " [2],\n",
       " [2, 4],\n",
       " [2, 2],\n",
       " [2, 2, 4],\n",
       " [1],\n",
       " [1, 4],\n",
       " [1, 2],\n",
       " [1, 2, 4],\n",
       " [1, 2, 2],\n",
       " [1, 2, 2, 4]]"
      ]
     },
     "execution_count": 36,
     "metadata": {},
     "output_type": "execute_result"
    }
   ],
   "source": [
    "def subsetsWithDup(nums):\n",
    "    def getDupeCount(nums, start):\n",
    "        n = len(nums)\n",
    "        for i in range(start+1, n):\n",
    "            if nums[i] != nums[start]:\n",
    "                return i - start\n",
    "        return n - start\n",
    "        \n",
    "    def helper(nums, i, slate, result):\n",
    "        if i == len(nums):\n",
    "            result.append(slate[:])\n",
    "            return\n",
    "        \n",
    "        num_dupes = getDupeCount(nums, i)\n",
    "        #print(i, num_dupes)\n",
    "        # Exclude nums[i]\n",
    "        helper(nums, i + num_dupes, slate, result)\n",
    "        \n",
    "        # Include nums[i]\n",
    "        for j in range(num_dupes):\n",
    "            #print(nums, i, i + j + 1, nums[i : i + j + 1])\n",
    "            helper(nums, i + num_dupes, slate + nums[i : i + j + 1], result)\n",
    "        \n",
    "        return result\n",
    "    \n",
    "    result = []\n",
    "    nums.sort()\n",
    "    helper(nums, 0, [], result)\n",
    "    return result\n",
    "\n",
    "#subsetsWithDup([1, 2, 2, 2, 3])\n",
    "#subsetsWithDup([4, 4, 4, 1, 4])\n",
    "subsetsWithDup([1, 2, 2, 4])"
   ]
  },
  {
   "cell_type": "code",
   "execution_count": 43,
   "metadata": {},
   "outputs": [
    {
     "data": {
      "text/plain": [
       "[[],\n",
       " [1],\n",
       " [1, 4],\n",
       " [1, 4, 4],\n",
       " [1, 4, 4, 4],\n",
       " [1, 4, 4, 4, 4],\n",
       " [4],\n",
       " [4, 4],\n",
       " [4, 4, 4],\n",
       " [4, 4, 4, 4]]"
      ]
     },
     "execution_count": 43,
     "metadata": {},
     "output_type": "execute_result"
    }
   ],
   "source": [
    "# Optimized\n",
    "#              1224\n",
    "#        /      |   |  \\\n",
    "#       1       2   X   4\n",
    "#    /  |  \\   |  \\\n",
    "#   12  X 14  22  24\n",
    "#  /  \\       |\n",
    "# 122 124    224\n",
    "#  |\n",
    "# 1224\n",
    "def subsets(nums):\n",
    "    def helper(nums, start, slate, res):\n",
    "        res.append(slate[:])\n",
    "        for i in range(start, len(nums)):\n",
    "            if i > start and nums[i - 1] == nums[i]:\n",
    "                continue\n",
    "            slate.append(nums[i])\n",
    "            helper(nums, i + 1, slate, res)\n",
    "            slate.pop()\n",
    "        \n",
    "    res = []\n",
    "    nums.sort()\n",
    "    helper(nums, 0, [], res)\n",
    "    return res\n",
    "\n",
    "#subsets([1, 2, 2, 4])\n",
    "subsets([4, 4, 4, 1, 4])"
   ]
  },
  {
   "cell_type": "code",
   "execution_count": null,
   "metadata": {},
   "outputs": [],
   "source": []
  }
 ],
 "metadata": {
  "kernelspec": {
   "display_name": "Python 3",
   "language": "python",
   "name": "python3"
  },
  "language_info": {
   "codemirror_mode": {
    "name": "ipython",
    "version": 3
   },
   "file_extension": ".py",
   "mimetype": "text/x-python",
   "name": "python",
   "nbconvert_exporter": "python",
   "pygments_lexer": "ipython3",
   "version": "3.6.5"
  }
 },
 "nbformat": 4,
 "nbformat_minor": 2
}
