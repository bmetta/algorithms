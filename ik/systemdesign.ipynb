{
 "cells": [
  {
   "cell_type": "markdown",
   "metadata": {},
   "source": [
    "### Design Twitter"
   ]
  },
  {
   "cell_type": "code",
   "execution_count": 153,
   "metadata": {},
   "outputs": [],
   "source": [
    "import collections\n",
    "class Twitter(object):\n",
    "\n",
    "    def __init__(self):\n",
    "        \"\"\"\n",
    "        Initialize your data structure here.\n",
    "        \"\"\"\n",
    "        #self.user_followers = {}\n",
    "        #self.user_tweets = {}\n",
    "        self.user_followers = collections.defaultdict(set)\n",
    "        self.user_tweets = collections.defaultdict(list)\n",
    "        self.tweets = []\n",
    "\n",
    "    def postTweet(self, userId, tweetId):\n",
    "        \"\"\"\n",
    "        Compose a new tweet.\n",
    "        :type userId: int\n",
    "        :type tweetId: int\n",
    "        :rtype: None\n",
    "        \"\"\"\n",
    "        #self.user_tweets.setdefault(userId, []).append(len(self.tweets))\n",
    "        self.user_tweets[userId].append(len(self.tweets))\n",
    "        self.tweets.append(tweetId)\n",
    "\n",
    "        #self.log()\n",
    "    def getNewsFeed(self, userId):\n",
    "        \"\"\"\n",
    "        Retrieve the 10 most recent tweet ids in the user's news feed. Each item in the news feed must be posted by users who the user followed or by the user herself. Tweets must be ordered from most recent to least recent.\n",
    "        :type userId: int\n",
    "        :rtype: List[int]\n",
    "        \"\"\"\n",
    "        tids = self.user_tweets[userId][-10:]\n",
    "        for user in self.user_followers[userId]:\n",
    "            tids.extend(self.user_tweets[user][-10:])\n",
    "        tids.sort(reverse=True)\n",
    "        return [self.tweets[i] for i in tids[:10]]\n",
    "\n",
    "    def follow(self, followerId, followeeId):\n",
    "        \"\"\"\n",
    "        Follower follows a followee. If the operation is invalid, it should be a no-op.\n",
    "        :type followerId: int\n",
    "        :type followeeId: int\n",
    "        :rtype: None\n",
    "        \"\"\"\n",
    "        if followerId == followeeId:\n",
    "            return\n",
    "        \n",
    "        #self.user_followers.setdefault(followerId, set()).add(followeeId)\n",
    "        if followeeId not in self.user_followers[followerId]:\n",
    "            self.user_followers[followerId].add(followeeId)\n",
    "        #self.log()\n",
    "\n",
    "    def unfollow(self, followerId, followeeId):\n",
    "        \"\"\"\n",
    "        Follower unfollows a followee. If the operation is invalid, it should be a no-op.\n",
    "        :type followerId: int\n",
    "        :type followeeId: int\n",
    "        :rtype: None\n",
    "        \"\"\"\n",
    "        if followerId == followeeId:\n",
    "            return\n",
    "        \n",
    "        if followeeId in self.user_followers[followerId]:\n",
    "            self.user_followers[followerId].remove(followeeId)\n",
    "        #self.log()\n",
    "    \n",
    "    def log(self):\n",
    "        print(\"Followers:\", self.user_followers)\n",
    "        print(\"User Tweets:\", self.user_tweets)  \n",
    "        print(\"Tweets:\", self.tweets)\n"
   ]
  },
  {
   "cell_type": "code",
   "execution_count": 154,
   "metadata": {},
   "outputs": [
    {
     "name": "stdout",
     "output_type": "stream",
     "text": [
      "news:  [5]\n",
      "news:  [6, 5]\n",
      "news:  [5]\n"
     ]
    }
   ],
   "source": [
    "twitter = Twitter()\n",
    "# User 1 posts a new tweet (id = 5).\n",
    "twitter.postTweet(1, 5)\n",
    "# User 1's news feed should return a list with 1 tweet id -> [5].\n",
    "news = twitter.getNewsFeed(1) # [5]\n",
    "print(\"news: \", news)\n",
    "# User 1 follows user 2.\n",
    "twitter.follow(1, 2)\n",
    "# User 2 posts a new tweet (id = 6).\n",
    "twitter.postTweet(2, 6)\n",
    "# User 1's news feed should return a list with 2 tweet ids -> [6, 5].\n",
    "# Tweet id 6 should precede tweet id 5 because it is posted after tweet id 5.\n",
    "news = twitter.getNewsFeed(1)\n",
    "print(\"news: \", news) # [6, 5]\n",
    "# User 1 unfollows user 2.\n",
    "twitter.unfollow(1, 2)\n",
    "# User 1's news feed should return a list with 1 tweet id -> [5],\n",
    "# since user 1 is no longer following user 2.\n",
    "news = twitter.getNewsFeed(1);\n",
    "print(\"news: \", news) # [5]"
   ]
  },
  {
   "cell_type": "code",
   "execution_count": 155,
   "metadata": {},
   "outputs": [
    {
     "name": "stdout",
     "output_type": "stream",
     "text": [
      "[3, 5]\n"
     ]
    }
   ],
   "source": [
    "twitter = Twitter()\n",
    "twitter.postTweet(1, 5)\n",
    "twitter.postTweet(1, 3)\n",
    "news = twitter.getNewsFeed(1) # [3, 5]\n",
    "print(news)"
   ]
  },
  {
   "cell_type": "code",
   "execution_count": 156,
   "metadata": {},
   "outputs": [
    {
     "name": "stdout",
     "output_type": "stream",
     "text": [
      "[4]\n"
     ]
    }
   ],
   "source": [
    "twitter = Twitter()\n",
    "twitter.postTweet(1, 4)\n",
    "twitter.postTweet(2, 5)\n",
    "twitter.unfollow(1, 2)\n",
    "news = twitter.getNewsFeed(1) # [4]\n",
    "print(news)"
   ]
  },
  {
   "cell_type": "code",
   "execution_count": 157,
   "metadata": {},
   "outputs": [
    {
     "name": "stdout",
     "output_type": "stream",
     "text": [
      "[5]\n"
     ]
    }
   ],
   "source": [
    "[\"Twitter\",\"postTweet\",\"follow\",\"follow\",\"getNewsFeed\"]\n",
    "[[],[2,5],[1,2],[1,2],[1]]\n",
    "twitter = Twitter()\n",
    "twitter.postTweet(2, 5)\n",
    "twitter.follow(1, 2)\n",
    "twitter.follow(1, 2)\n",
    "news = twitter.getNewsFeed(1) # [5]\n",
    "print(news)"
   ]
  },
  {
   "cell_type": "code",
   "execution_count": null,
   "metadata": {},
   "outputs": [],
   "source": []
  }
 ],
 "metadata": {
  "kernelspec": {
   "display_name": "Python 3",
   "language": "python",
   "name": "python3"
  },
  "language_info": {
   "codemirror_mode": {
    "name": "ipython",
    "version": 3
   },
   "file_extension": ".py",
   "mimetype": "text/x-python",
   "name": "python",
   "nbconvert_exporter": "python",
   "pygments_lexer": "ipython3",
   "version": "3.6.5"
  }
 },
 "nbformat": 4,
 "nbformat_minor": 2
}
