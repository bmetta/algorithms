{
 "cells": [
  {
   "cell_type": "markdown",
   "metadata": {},
   "source": [
    "### Bubble Sort"
   ]
  },
  {
   "cell_type": "code",
   "execution_count": 326,
   "metadata": {},
   "outputs": [],
   "source": [
    "# Sorts from the begining of the list\n",
    "def bubbleSort(nums):\n",
    "    n = len(nums)\n",
    "    # Tracks the sorted elements placed at list begin\n",
    "    for i in range(1, n):\n",
    "        for j in range(i, n)[::-1]:\n",
    "            if nums[j - 1] > nums[j]:\n",
    "                nums[j - 1], nums[j] = nums[j], nums[j - 1]"
   ]
  },
  {
   "cell_type": "code",
   "execution_count": 325,
   "metadata": {},
   "outputs": [],
   "source": [
    "# Sorts from the ending of the list\n",
    "def bubbleSort(nums):\n",
    "    n = len(nums)\n",
    "    # Tracks the sorted elements placed at list end\n",
    "    for i in range(n):\n",
    "        for j in range(1, n - i):\n",
    "            if nums[j - 1] > nums[j]:\n",
    "                nums[j - 1], nums[j] = nums[j], nums[j - 1]"
   ]
  },
  {
   "cell_type": "code",
   "execution_count": 327,
   "metadata": {},
   "outputs": [
    {
     "name": "stdout",
     "output_type": "stream",
     "text": [
      "[1, 3, 4, 5, 7, 9, 10]\n",
      "[1, 3, 4, 5, 7, 9, 10]\n",
      "[1, 3, 4, 5, 7, 9, 10]\n",
      "[1, 3]\n",
      "[1]\n",
      "[]\n"
     ]
    }
   ],
   "source": [
    "nums = [5, 1, 3, 10, 9, 7, 4]\n",
    "bubbleSort(nums)\n",
    "print(nums)\n",
    "\n",
    "nums = [1, 3, 4, 5, 7, 9, 10]\n",
    "bubbleSort(nums)\n",
    "print(nums)\n",
    "\n",
    "nums = [10, 9, 7, 5, 4, 3, 1]\n",
    "bubbleSort(nums)\n",
    "print(nums)\n",
    "\n",
    "nums = [3, 1]\n",
    "bubbleSort(nums)\n",
    "print(nums)\n",
    "\n",
    "nums = [1]\n",
    "bubbleSort(nums)\n",
    "print(nums)\n",
    "\n",
    "nums = []\n",
    "bubbleSort(nums)\n",
    "print(nums)"
   ]
  },
  {
   "cell_type": "markdown",
   "metadata": {},
   "source": [
    "### Selection Sort"
   ]
  },
  {
   "cell_type": "code",
   "execution_count": 320,
   "metadata": {},
   "outputs": [],
   "source": [
    "# Placing the small elements at begining of the array\n",
    "def selectionSort(nums):\n",
    "    for i in range(len(nums) - 1):\n",
    "        # Find smallest num between i to end\n",
    "        small = i\n",
    "        for j in range(i+1, len(nums)):\n",
    "            if nums[small] > nums[j]:\n",
    "                small = j\n",
    "        # Swap the min element with position i\n",
    "        nums[i], nums[small] = nums[small], nums[i]"
   ]
  },
  {
   "cell_type": "code",
   "execution_count": 316,
   "metadata": {},
   "outputs": [],
   "source": [
    "# Placing the larger elements at end of the array\n",
    "def selectionSort(nums):\n",
    "    for i in range(len(nums))[::-1]:\n",
    "        # Find the largest element from 0 to ith index\n",
    "        large = i\n",
    "        for j in range(i):\n",
    "            if nums[large] < nums[j]:\n",
    "                large = j\n",
    "        # Move to element to the end of the list\n",
    "        nums[i], nums[large] = nums[large], nums[i]"
   ]
  },
  {
   "cell_type": "code",
   "execution_count": 315,
   "metadata": {},
   "outputs": [
    {
     "name": "stdout",
     "output_type": "stream",
     "text": [
      "[1, 3, 4, 5, 7, 9, 10]\n",
      "[1, 3, 4, 5, 7, 9, 10]\n",
      "[1, 3, 4, 5, 7, 9, 10]\n",
      "[1, 3]\n",
      "[1]\n",
      "[]\n"
     ]
    }
   ],
   "source": [
    "nums = [5, 1, 3, 10, 9, 7, 4]\n",
    "selectionSort(nums)\n",
    "print(nums)\n",
    "\n",
    "nums = [1, 3, 4, 5, 7, 9, 10]\n",
    "selectionSort(nums)\n",
    "print(nums)\n",
    "\n",
    "nums = [10, 9, 7, 5, 4, 3, 1]\n",
    "selectionSort(nums)\n",
    "print(nums)\n",
    "\n",
    "nums = [3, 1]\n",
    "selectionSort(nums)\n",
    "print(nums)\n",
    "\n",
    "nums = [1]\n",
    "selectionSort(nums)\n",
    "print(nums)\n",
    "\n",
    "nums = []\n",
    "selectionSort(nums)\n",
    "print(nums)"
   ]
  },
  {
   "cell_type": "markdown",
   "metadata": {},
   "source": [
    "### Insertion Sort"
   ]
  },
  {
   "cell_type": "code",
   "execution_count": 388,
   "metadata": {},
   "outputs": [],
   "source": [
    "# Iterative approach\n",
    "# Time complexity\n",
    "#   Worst case: O(n^2)  if its reverse sorted\n",
    "#   Average case: O(n^2)\n",
    "#   Best case: O(n) if its sorted\n",
    "def insertionSort(nums):\n",
    "    n = len(nums)\n",
    "    for i in range(1, n):\n",
    "        j, last = i - 1, nums[i]\n",
    "        while j >=0 and nums[j] > last:\n",
    "            nums[j + 1] = nums[j]\n",
    "            j = j - 1\n",
    "        #print(j); j goes to -1, hence cant use the for loop instead of while loop\n",
    "        nums[j + 1] = last"
   ]
  },
  {
   "cell_type": "code",
   "execution_count": 763,
   "metadata": {},
   "outputs": [],
   "source": [
    "# Iterative approach\n",
    "# Time complexity\n",
    "#   Worst case: O(n^2)  if its reverse sorted\n",
    "#   Average case: O(n^2)\n",
    "#   Best case: O(n) if its sorted\n",
    "def insertionSort(nums):\n",
    "    n = len(nums)\n",
    "    for i in range(1, n):\n",
    "        j, last = i, nums[i]\n",
    "        while j > 0 and nums[j - 1] > last:\n",
    "            nums[j] = nums[j - 1]\n",
    "            j = j - 1\n",
    "        nums[j] = last"
   ]
  },
  {
   "cell_type": "code",
   "execution_count": 355,
   "metadata": {},
   "outputs": [],
   "source": [
    "# Recursive approach\n",
    "def insertionSort(nums):\n",
    "    def sortUtil(nums, n):\n",
    "        if n < 2:\n",
    "            return\n",
    "\n",
    "        sortUtil(nums, n - 1)\n",
    "\n",
    "        i, last = n - 2, nums[n - 1]\n",
    "        while i >= 0 and nums[i] > last:\n",
    "            nums[i + 1] = nums[i]\n",
    "            i = i - 1\n",
    "        nums[i + 1] = last\n",
    "        return\n",
    "    \n",
    "    sortUtil(nums, len(nums))"
   ]
  },
  {
   "cell_type": "code",
   "execution_count": 764,
   "metadata": {},
   "outputs": [
    {
     "name": "stdout",
     "output_type": "stream",
     "text": [
      "[1, 3, 4, 5, 7, 9, 10]\n",
      "[1, 3, 4, 5, 7, 9, 10]\n",
      "[1, 3, 4, 5, 7, 9, 10]\n",
      "[1, 3]\n",
      "[1]\n",
      "[]\n"
     ]
    }
   ],
   "source": [
    "nums = [5, 1, 3, 10, 9, 7, 4]\n",
    "insertionSort(nums)\n",
    "print(nums)\n",
    "\n",
    "nums = [1, 3, 4, 5, 7, 9, 10]\n",
    "insertionSort(nums)\n",
    "print(nums)\n",
    "\n",
    "nums = [10, 9, 7, 5, 4, 3, 1]\n",
    "insertionSort(nums)\n",
    "print(nums)\n",
    "\n",
    "nums = [3, 1]\n",
    "insertionSort(nums)\n",
    "print(nums)\n",
    "\n",
    "nums = [1]\n",
    "insertionSort(nums)\n",
    "print(nums)\n",
    "\n",
    "nums = []\n",
    "insertionSort(nums)\n",
    "print(nums)"
   ]
  },
  {
   "cell_type": "markdown",
   "metadata": {},
   "source": [
    "### Merge Sort"
   ]
  },
  {
   "cell_type": "code",
   "execution_count": 408,
   "metadata": {},
   "outputs": [],
   "source": [
    "# Time Complexity\n",
    "# Best, Average, Worst case: O(nlogn)\n",
    "def mergeSort(nums):\n",
    "    def merge(nums, l, m, r):\n",
    "        left = nums[l : m+1]\n",
    "        right = nums[m+1 : r+1]\n",
    "        \n",
    "        i, j = 0, 0\n",
    "        while i < len(left) and j < len(right):\n",
    "            if left[i] <= right[j]:\n",
    "                nums[l] = left[i]\n",
    "                i += 1\n",
    "            else:\n",
    "                nums[l] = right[j]\n",
    "                j += 1\n",
    "            l += 1\n",
    "\n",
    "        while i < len(left):\n",
    "            nums[l] = left[i]\n",
    "            i += 1\n",
    "            l += 1\n",
    "\n",
    "        while j < len(right):\n",
    "            nums[l] = right[j]\n",
    "            j += 1\n",
    "            l += 1\n",
    "            \n",
    "    def mergeSortUtil(nums, l, r):\n",
    "        if l >= r:\n",
    "            return\n",
    "        \n",
    "        m = l + (r - l)//2\n",
    "        mergeSortUtil(nums, l, m)\n",
    "        mergeSortUtil(nums, m + 1, r)\n",
    "        merge(nums, l, m, r)\n",
    "    \n",
    "    mergeSortUtil(nums, 0, len(nums) - 1)"
   ]
  },
  {
   "cell_type": "code",
   "execution_count": 409,
   "metadata": {},
   "outputs": [
    {
     "name": "stdout",
     "output_type": "stream",
     "text": [
      "[1, 3, 4, 5, 7, 9, 10]\n",
      "[1, 3, 4, 5, 7, 9, 10]\n",
      "[1, 3, 4, 5, 7, 9, 10]\n",
      "[1, 3]\n",
      "[1]\n",
      "[]\n"
     ]
    }
   ],
   "source": [
    "nums = [5, 1, 3, 10, 9, 7, 4]\n",
    "mergeSort(nums)\n",
    "print(nums)\n",
    "\n",
    "nums = [1, 3, 4, 5, 7, 9, 10]\n",
    "mergeSort(nums)\n",
    "print(nums)\n",
    "\n",
    "nums = [10, 9, 7, 5, 4, 3, 1]\n",
    "mergeSort(nums)\n",
    "print(nums)\n",
    "\n",
    "nums = [3, 1]\n",
    "mergeSort(nums)\n",
    "print(nums)\n",
    "\n",
    "nums = [1]\n",
    "mergeSort(nums)\n",
    "print(nums)\n",
    "\n",
    "nums = []\n",
    "mergeSort(nums)\n",
    "print(nums)"
   ]
  },
  {
   "cell_type": "markdown",
   "metadata": {},
   "source": [
    "### Quick Sort"
   ]
  },
  {
   "cell_type": "code",
   "execution_count": 80,
   "metadata": {},
   "outputs": [],
   "source": [
    "# \n",
    "import random\n",
    "def partition1(nums, l, h):\n",
    "    p = random.randrange(l, h+1)\n",
    "    print(p)\n",
    "    nums[l], nums[p] = nums[p], nums[l]\n",
    "    #p = l\n",
    "    w = l + 1\n",
    "    for r in range(l + 1, h + 1):\n",
    "        if nums[r] < nums[p]:\n",
    "            nums[r], nums[w] = nums[w], nums[r]\n",
    "            w += 1\n",
    "            \n",
    "    nums[w-1], nums[l] = nums[l], nums[w-1]\n",
    "    return w - 1\n",
    "\n",
    "# Lomuto’s Partition Scheme\n",
    "def partition(nums, l, h):\n",
    "    #p = random.randrange(l, h+1)\n",
    "    #nums[h], nums[p] = nums[p], nums[h]\n",
    "    p = nums[h]\n",
    "    i = l\n",
    "    for j in range(l, h-1):\n",
    "        if nums[j] < p:\n",
    "            nums[i], nums[j] = nums[j], nums[i]\n",
    "            i += 1\n",
    "    nums[i], nums[h] = nums[h], nums[i]\n",
    "    return i\n",
    "\n",
    "def quickSort(nums):\n",
    "    def quickSortHelper(nums, start, end):\n",
    "        if start < end:\n",
    "            pos = partition(nums, start, end)\n",
    "            print(nums)\n",
    "            quickSortHelper(nums, start, pos-1)\n",
    "            quickSortHelper(nums, pos+1, end)\n",
    "    \n",
    "    quickSortHelper(nums, 0, len(nums)-1)"
   ]
  },
  {
   "cell_type": "code",
   "execution_count": 81,
   "metadata": {
    "scrolled": true
   },
   "outputs": [
    {
     "name": "stdout",
     "output_type": "stream",
     "text": [
      "[1, 3, 4, 10, 9, 7, 5]\n",
      "[3, 1, 4, 10, 9, 7, 5]\n",
      "[3, 1, 4, 5, 9, 7, 10]\n",
      "[3, 1, 4, 5, 9, 10, 7]\n",
      "[3, 1, 4, 5, 9, 10, 7]\n"
     ]
    }
   ],
   "source": [
    "nums = [5, 1, 3, 10, 9, 7, 4]\n",
    "quickSort(nums)\n",
    "print(nums)\n",
    "\n",
    "nums = [1, 3, 4, 5, 7, 9, 10]\n",
    "#quickSort(nums)\n",
    "#print(nums)\n",
    "\n",
    "nums = [10, 9, 7, 5, 4, 3, 1]\n",
    "#quickSort(nums)\n",
    "#print(nums)\n",
    "\n",
    "nums = [3, 1]\n",
    "#quickSort(nums)\n",
    "#print(nums)\n",
    "\n",
    "nums = [1]\n",
    "#quickSort(nums)\n",
    "#print(nums)\n",
    "\n",
    "nums = [5, 1, 3, 1, 1, 5, 9, 9, 7]\n",
    "#quickSort(nums)\n",
    "#print(nums)"
   ]
  },
  {
   "cell_type": "markdown",
   "metadata": {},
   "source": [
    "### Hoares partitioning"
   ]
  },
  {
   "cell_type": "code",
   "execution_count": 21,
   "metadata": {},
   "outputs": [
    {
     "name": "stdout",
     "output_type": "stream",
     "text": [
      "[1, 3, 4, 5, 9, 7, 10]\n",
      "[3, 2, 1, 4, 8, 7, 5, 6]\n",
      "[1, 9, 7, 5, 4, 3, 10]\n",
      "[5, 5, 4, 7, 7, 7, 9]\n",
      "[1, 3]\n",
      "[1]\n"
     ]
    }
   ],
   "source": [
    "# Partition from left and right\n",
    "def hoaresPartition(a):\n",
    "    def partition(l, h):\n",
    "        p = a[l]\n",
    "        i = l + 1\n",
    "        for j in range(l + 1, h + 1):\n",
    "            if a[j] < p:\n",
    "                a[i], a[j] = a[j], a[i]\n",
    "                i += 1\n",
    "        a[i - 1], a[l] = a[l], a[i - 1]\n",
    "    \n",
    "    partition(0, len(nums) - 1)\n",
    "    return nums\n",
    "\n",
    "numlist =  [[3, 1, 4, 5, 9, 7, 10], \n",
    "            [4, 2, 8, 7, 1, 3, 5, 6],\n",
    "            [10, 9, 7, 5, 4, 3, 1],\n",
    "            [7, 9, 7, 5, 4, 7, 5],\n",
    "            [3, 1],\n",
    "            [1]\n",
    "           ]\n",
    "for nums in numlist:\n",
    "    print(hoaresPartition(nums))"
   ]
  },
  {
   "cell_type": "markdown",
   "metadata": {},
   "source": [
    "### Lomuto's partitioning"
   ]
  },
  {
   "cell_type": "code",
   "execution_count": 20,
   "metadata": {},
   "outputs": [
    {
     "name": "stdout",
     "output_type": "stream",
     "text": [
      "[3, 1, 4, 5, 9, 7, 10]\n",
      "[4, 2, 1, 3, 5, 6, 8, 7]\n",
      "[1, 9, 7, 5, 4, 3, 10]\n",
      "[5, 4, 5, 7, 9, 7, 7]\n",
      "[1, 3]\n",
      "[1]\n"
     ]
    }
   ],
   "source": [
    "# Lomuto’s Partition Scheme\n",
    "def lomutoPartition(a):\n",
    "    def partition(l, h):\n",
    "        p = a[h]\n",
    "        i = l\n",
    "        for j in range(l, h): # until last but one\n",
    "            if a[j] <= p:\n",
    "                a[i], a[j] = a[j], a[i]\n",
    "                i += 1\n",
    "        a[i], a[h] = a[h], a[i]\n",
    "    \n",
    "    partition(0, len(nums)-1)\n",
    "    return nums\n",
    "\n",
    "numlist =  [[3, 1, 4, 5, 9, 7, 10], \n",
    "            [4, 2, 8, 7, 1, 3, 5, 6],\n",
    "            [10, 9, 7, 5, 4, 3, 1],\n",
    "            [7, 9, 7, 5, 4, 7, 5],\n",
    "            [3, 1],\n",
    "            [1]\n",
    "           ]\n",
    "for nums in numlist:\n",
    "    print(lomutoPartition(nums))"
   ]
  },
  {
   "cell_type": "markdown",
   "metadata": {},
   "source": [
    "### 349. Intersection of Two Arrays"
   ]
  },
  {
   "cell_type": "code",
   "execution_count": 429,
   "metadata": {},
   "outputs": [],
   "source": [
    "# Time complexity: O(max(M, N))\n",
    "# Space complexity: O(1)\n",
    "def intersection(nums1, nums2):\n",
    "    \"\"\"\n",
    "    :type nums1: List[int]\n",
    "    :type nums2: List[int]\n",
    "    :rtype: List[int]\n",
    "    \"\"\"\n",
    "    nums1.sort()\n",
    "    nums2.sort()\n",
    "    result = []\n",
    "    i, j = 0, 0\n",
    "    while i < len(nums1) and j < len(nums2):\n",
    "        if nums1[i] < nums2[j]:\n",
    "            i += 1\n",
    "        elif nums1[i] > nums2[j]:\n",
    "            j += 1\n",
    "        else:\n",
    "            if len(result) == 0 or result[-1] != nums1[i]:\n",
    "                result.append(nums1[i])\n",
    "            i += 1\n",
    "            j += 1\n",
    "\n",
    "    return result"
   ]
  },
  {
   "cell_type": "code",
   "execution_count": 432,
   "metadata": {
    "scrolled": true
   },
   "outputs": [
    {
     "name": "stdout",
     "output_type": "stream",
     "text": [
      "[2]\n",
      "[4, 9]\n"
     ]
    }
   ],
   "source": [
    "print(intersection([1,2,2,1], [2,2]))\n",
    "print(intersection([4,9,5], [9,4,9,8,4]))"
   ]
  },
  {
   "cell_type": "code",
   "execution_count": 434,
   "metadata": {},
   "outputs": [],
   "source": [
    "# TODO\n",
    "def intersection(nums1, nums2):\n",
    "    \"\"\"\n",
    "    :type nums1: List[int] => size is large\n",
    "    :type nums2: List[int] => size is small; Solution: binary search each ele of small list in the large list\n",
    "    :rtype: List[int]\n",
    "    \"\"\"\n",
    "    ;"
   ]
  },
  {
   "cell_type": "markdown",
   "metadata": {},
   "source": [
    "### 905. Sort Array By Parity"
   ]
  },
  {
   "cell_type": "code",
   "execution_count": 435,
   "metadata": {},
   "outputs": [],
   "source": [
    "def sortArrayByParity(A):\n",
    "    \"\"\"\n",
    "    :type A: List[int]\n",
    "    :rtype: List[int]\n",
    "    \"\"\"\n",
    "    w = 0\n",
    "    for r in range(len(A)):\n",
    "        if A[r] % 2 == 0:\n",
    "            A[r], A[w] = A[w], A[r]\n",
    "            w += 1\n",
    "    return A"
   ]
  },
  {
   "cell_type": "code",
   "execution_count": 436,
   "metadata": {},
   "outputs": [
    {
     "name": "stdout",
     "output_type": "stream",
     "text": [
      "[2, 4, 3, 1]\n"
     ]
    }
   ],
   "source": [
    "print(sortArrayByParity([3,1,2,4]))"
   ]
  },
  {
   "cell_type": "markdown",
   "metadata": {},
   "source": [
    "### 215. Kth Largest Element in an Array"
   ]
  },
  {
   "cell_type": "code",
   "execution_count": 525,
   "metadata": {},
   "outputs": [],
   "source": [
    "import random\n",
    "def findKthLargest(nums, k):\n",
    "    \"\"\"\n",
    "    :type nums: List[int]\n",
    "    :type k: int\n",
    "    :rtype: int\n",
    "    \"\"\"\n",
    "    def partition(nums, start, end):\n",
    "        p = random.randrange(start, end+1)\n",
    "        nums[start], nums[p] = nums[p], nums[start]\n",
    "        \n",
    "        p = start\n",
    "        w = start + 1\n",
    "        for r in range(start + 1, end + 1):\n",
    "            if nums[r] > nums[p]:\n",
    "                nums[r], nums[w] = nums[w], nums[r]\n",
    "                w += 1\n",
    "        nums[w - 1], nums[p] = nums[p], nums[w - 1]\n",
    "        return w - 1\n",
    "\n",
    "    start, end = 0, len(nums) - 1\n",
    "    while start <= end:\n",
    "        p = partition(nums, start, end)\n",
    "        #print(start, p, end, nums)\n",
    "        if p > (k - 1):\n",
    "            end = p - 1\n",
    "        elif p < (k - 1):\n",
    "            start = p + 1\n",
    "        else:\n",
    "            return nums[k - 1]            "
   ]
  },
  {
   "cell_type": "code",
   "execution_count": 526,
   "metadata": {},
   "outputs": [
    {
     "name": "stdout",
     "output_type": "stream",
     "text": [
      "5\n",
      "4\n",
      "3\n",
      "2\n",
      "1\n",
      "0\n"
     ]
    }
   ],
   "source": [
    "print(findKthLargest([2,1,0,4,5,3], 1)) # 5 [5, 4, 3, 2, 1, 0]\n",
    "print(findKthLargest([2,1,0,4,5,3], 2)) # 4\n",
    "print(findKthLargest([2,1,0,4,5,3], 3)) # 3\n",
    "print(findKthLargest([2,1,0,4,5,3], 4)) # 2\n",
    "print(findKthLargest([2,1,0,4,5,3], 5)) # 1\n",
    "print(findKthLargest([2,1,0,4,5,3], 6)) # 0"
   ]
  },
  {
   "cell_type": "markdown",
   "metadata": {},
   "source": [
    "### 973. K Closest Points to Origin"
   ]
  },
  {
   "cell_type": "code",
   "execution_count": 519,
   "metadata": {},
   "outputs": [],
   "source": [
    "# Time complexity: O(nlogn)\n",
    "def kClosest(points, K):\n",
    "    \"\"\"\n",
    "    :type points: List[List[int]]\n",
    "    :type K: int\n",
    "    :rtype: List[List[int]]\n",
    "    \"\"\"\n",
    "    points.sort(key = lambda p: p[0]**2 + p[1]**2)\n",
    "    return points[:K]"
   ]
  },
  {
   "cell_type": "code",
   "execution_count": 539,
   "metadata": {},
   "outputs": [],
   "source": [
    "# Time complexity: O(n)\n",
    "def kClosest(points, K):\n",
    "    \"\"\"\n",
    "    :type points: List[List[int]]\n",
    "    :type K: int\n",
    "    :rtype: List[List[int]]\n",
    "    \"\"\"\n",
    "    d = lambda i: points[i][0]**2 + points[i][1]**2\n",
    "    def partition(points, start, end):\n",
    "        p = random.randrange(start, end + 1)\n",
    "        points[start], points[p] = points[p], points[start]\n",
    "        p = d(start)\n",
    "        w = start + 1\n",
    "        for r in range(start + 1, end + 1):\n",
    "            if d(r) < p:\n",
    "                points[r], points[w] = points[w], points[r]\n",
    "                w += 1\n",
    "        points[w - 1], points[start] = points[start], points[w - 1]\n",
    "        return w - 1\n",
    "\n",
    "    def sortUptoK(points, start, end, K):\n",
    "        if start >= end:\n",
    "            return\n",
    "        p = partition(points, start, end)\n",
    "        if p > K:\n",
    "            sortUptoK(points, start, p - 1, K)\n",
    "        elif p < K:\n",
    "            sortUptoK(points, p + 1, end, K)\n",
    "        else:\n",
    "            return\n",
    "\n",
    "    sortUptoK(points, 0, len(points) - 1, K)\n",
    "    return points[:K]"
   ]
  },
  {
   "cell_type": "code",
   "execution_count": 540,
   "metadata": {},
   "outputs": [
    {
     "name": "stdout",
     "output_type": "stream",
     "text": [
      "[[-2, 2]]\n",
      "[[-2, 4], [3, 3]]\n",
      "[[1, 0], [0, 1]]\n"
     ]
    }
   ],
   "source": [
    "print(kClosest([[1,3],[-2,2]], 1))\n",
    "print(kClosest([[3,3],[5,-1],[-2,4]], 2))\n",
    "print(kClosest([[0,1],[1,0]], 2))"
   ]
  },
  {
   "cell_type": "markdown",
   "metadata": {},
   "source": [
    "### 703. Kth Largest Element in a Stream"
   ]
  },
  {
   "cell_type": "code",
   "execution_count": 549,
   "metadata": {},
   "outputs": [],
   "source": [
    "import heapq\n",
    "class KthLargest(object):\n",
    "\n",
    "    def __init__(self, k, nums):\n",
    "        \"\"\"\n",
    "        :type k: int\n",
    "        :type nums: List[int]\n",
    "        \"\"\"\n",
    "        self.hq = []\n",
    "        self.capacity = k\n",
    "        for i in range(len(nums)):\n",
    "            self.add(nums[i])\n",
    "\n",
    "    # TODO: Optimize the following logic\n",
    "    def add(self, val):\n",
    "        \"\"\"\n",
    "        :type val: int\n",
    "        :rtype: int\n",
    "        \"\"\"\n",
    "        if len(self.hq) == self.capacity:\n",
    "            if val <= self.hq[0]:\n",
    "                return self.hq[0]\n",
    "            heapq.heappop(self.hq)\n",
    "            \n",
    "        heapq.heappush(self.hq, val)\n",
    "        return self.hq[0]"
   ]
  },
  {
   "cell_type": "code",
   "execution_count": 548,
   "metadata": {},
   "outputs": [
    {
     "name": "stdout",
     "output_type": "stream",
     "text": [
      "4\n",
      "5\n",
      "5\n",
      "8\n",
      "8\n"
     ]
    }
   ],
   "source": [
    "kth = KthLargest(3, [4,5,8,2])\n",
    "print(kth.add(3)) # 4\n",
    "print(kth.add(5)) # 5\n",
    "print(kth.add(10))# 5\n",
    "print(kth.add(9)) # 8\n",
    "print(kth.add(4)) # 8"
   ]
  },
  {
   "cell_type": "markdown",
   "metadata": {},
   "source": [
    "### 295. Find Median from Data Stream"
   ]
  },
  {
   "cell_type": "code",
   "execution_count": 572,
   "metadata": {},
   "outputs": [],
   "source": [
    "# TODO: Optimize the solution\n",
    "class MedianFinder(object):\n",
    "\n",
    "    def __init__(self):\n",
    "        \"\"\"\n",
    "        initialize your data structure here.\n",
    "        \"\"\"\n",
    "        self.maxHeap = []\n",
    "        self.minHeap = []\n",
    "        \n",
    "    def addNum(self, num):\n",
    "        \"\"\"\n",
    "        :type num: int\n",
    "        :rtype: None\n",
    "        \"\"\"\n",
    "        # insert into queue\n",
    "        heapq.heappush(self.maxHeap, num)\n",
    "        heapq._heapify_max(self.maxHeap)\n",
    "        \n",
    "        heapq.heappush(self.minHeap, heapq._heappop_max(self.maxHeap))\n",
    "        \n",
    "        #print(self.maxHeap, self.minHeap)\n",
    "        # balance the queues\n",
    "        if len(self.maxHeap) < len(self.minHeap):\n",
    "            heapq.heappush(self.maxHeap, heapq.heappop(self.minHeap))\n",
    "            heapq._heapify_max(self.maxHeap)\n",
    "        #print(self.maxHeap, self.minHeap)\n",
    "\n",
    "    def findMedian(self):\n",
    "        \"\"\"\n",
    "        :rtype: float\n",
    "        \"\"\"\n",
    "        if len(self.maxHeap) > len(self.minHeap):\n",
    "            return self.maxHeap[0]\n",
    "        else:\n",
    "            return (self.maxHeap[0] + self.minHeap[0])/2\n",
    "\n",
    "# Your MedianFinder object will be instantiated and called as such:\n",
    "# obj = MedianFinder()\n",
    "# obj.addNum(num)\n",
    "# param_2 = obj.findMedian()"
   ]
  },
  {
   "cell_type": "code",
   "execution_count": 573,
   "metadata": {},
   "outputs": [
    {
     "name": "stdout",
     "output_type": "stream",
     "text": [
      "41\n",
      "38.0\n",
      "41\n",
      "38.0\n",
      "41\n",
      "51.5\n"
     ]
    }
   ],
   "source": [
    "[41, 35, 62, 5, 97, 108]\n",
    "obj = MedianFinder()\n",
    "obj.addNum(41)\n",
    "print(obj.findMedian())\n",
    "obj.addNum(35)\n",
    "print(obj.findMedian())\n",
    "obj.addNum(62)\n",
    "print(obj.findMedian())\n",
    "obj.addNum(5)\n",
    "print(obj.findMedian())\n",
    "obj.addNum(97)\n",
    "print(obj.findMedian())\n",
    "obj.addNum(108)\n",
    "print(obj.findMedian())"
   ]
  },
  {
   "cell_type": "code",
   "execution_count": null,
   "metadata": {},
   "outputs": [],
   "source": []
  },
  {
   "cell_type": "code",
   "execution_count": 603,
   "metadata": {},
   "outputs": [],
   "source": [
    "from queue import PriorityQueue\n",
    "def mergeArrays(arr):\n",
    "    #\n",
    "    # Write your code here.\n",
    "    #\n",
    "    q = PriorityQueue()\n",
    "    order = 1\n",
    "    if arr[0][0] > arr[0][-1]:\n",
    "        order = -1 \n",
    "    for i in range(len(arr)):\n",
    "        q.put((order * arr[i][0], i, 0))\n",
    "    res = []\n",
    "    while q.qsize() > 0:\n",
    "        val, i, j = q.get()\n",
    "        res.append(order * val)\n",
    "        j += 1\n",
    "        if j < len(arr[i]):\n",
    "            q.put((order * arr[i][j], i, j))\n",
    "    return res"
   ]
  },
  {
   "cell_type": "code",
   "execution_count": 604,
   "metadata": {},
   "outputs": [
    {
     "name": "stdout",
     "output_type": "stream",
     "text": [
      "[0, 1, 2, 3, 4, 5, 6, 7, 8, 9, 10, 11]\n",
      "[11, 10, 9, 8, 7, 6, 5, 4, 3, 2, 1, 0]\n"
     ]
    }
   ],
   "source": [
    "arr = [[1, 3, 5, 7],\n",
    "       [2, 4, 6, 8],\n",
    "       [0, 9, 10, 11]]\n",
    "print(mergeArrays(arr))\n",
    "\n",
    "arr = [[7, 5, 3, 1],\n",
    "       [8, 6, 4, 2],\n",
    "       [11, 10, 9, 0]]\n",
    "print(mergeArrays(arr))"
   ]
  },
  {
   "cell_type": "markdown",
   "metadata": {},
   "source": [
    "### Dutch National Flag"
   ]
  },
  {
   "cell_type": "code",
   "execution_count": 731,
   "metadata": {},
   "outputs": [],
   "source": [
    "def dutch_flag_sort(balls):\n",
    "    n = len(balls)\n",
    "    i, r, b = 0, 0, n - 1\n",
    "    while i <= b:\n",
    "        if balls[i] == 'R':\n",
    "            balls[r], balls[i] = balls[i], balls[r]\n",
    "            i += 1\n",
    "            r += 1\n",
    "        elif balls[i] == 'B':\n",
    "            balls[b], balls[i] = balls[i], balls[b]\n",
    "            b -= 1\n",
    "        else:\n",
    "            i += 1\n",
    "    return balls"
   ]
  },
  {
   "cell_type": "code",
   "execution_count": 727,
   "metadata": {},
   "outputs": [],
   "source": [
    "def dutch_flag_sort(balls):\n",
    "    i, lo, hi = 0, 0, len(balls) - 1\n",
    "    while i <= hi:\n",
    "        #print(lo, mi, hi, balls)\n",
    "        if balls[i] == 'R':\n",
    "            balls[i], balls[lo] = balls[lo], balls[i]\n",
    "            i += 1\n",
    "            lo += 1\n",
    "        elif balls[i] == 'B':\n",
    "            balls[i], balls[hi] = balls[hi], balls[i]\n",
    "            hi -= 1\n",
    "        else: #balls[mi] == 'G'\n",
    "            i += 1\n",
    "    \n",
    "    return balls"
   ]
  },
  {
   "cell_type": "code",
   "execution_count": 732,
   "metadata": {},
   "outputs": [
    {
     "name": "stdout",
     "output_type": "stream",
     "text": [
      "['R', 'R', 'G', 'G', 'G', 'G', 'B', 'B']\n",
      "['R']\n",
      "['R', 'R']\n",
      "['R', 'G', 'B']\n"
     ]
    }
   ],
   "source": [
    "print(dutch_flag_sort(['G', 'B', 'G', 'G', 'R', 'B', 'R', 'G']))\n",
    "print(dutch_flag_sort(['R']))\n",
    "print(dutch_flag_sort(['R', 'R']))\n",
    "print(dutch_flag_sort(['R', 'G', 'B']))"
   ]
  },
  {
   "cell_type": "markdown",
   "metadata": {},
   "source": [
    "### Top K"
   ]
  },
  {
   "cell_type": "code",
   "execution_count": 159,
   "metadata": {},
   "outputs": [],
   "source": [
    "import heapq\n",
    "def topK(arr, k):\n",
    "    heap = []\n",
    "    count = 0\n",
    "    for a in arr:\n",
    "        if count < k:\n",
    "            heapq.heappush(heap, a)\n",
    "        elif a > heap[0]:\n",
    "            heapq.heappop(heap)\n",
    "            heapq.heappush(heap, a)\n",
    "        count += 1\n",
    "        #print(heap)\n",
    "    return heap"
   ]
  },
  {
   "cell_type": "code",
   "execution_count": 161,
   "metadata": {},
   "outputs": [
    {
     "name": "stdout",
     "output_type": "stream",
     "text": [
      "[4, 5]\n",
      "[8, 8, 9, 10]\n"
     ]
    }
   ],
   "source": [
    "print(topK([1,5,4,4,2], 2)) #[1,2,4,4,5]\n",
    "print(topK([4,8,9,6,6,2,10,2,8,1,2], 4)) # [1,2,2,2,4,6,6,8,8,9,10]"
   ]
  },
  {
   "cell_type": "code",
   "execution_count": 191,
   "metadata": {},
   "outputs": [
    {
     "name": "stdout",
     "output_type": "stream",
     "text": [
      "0 1 3\n",
      "2 2 3\n"
     ]
    },
    {
     "data": {
      "text/plain": [
       "3"
      ]
     },
     "execution_count": 191,
     "metadata": {},
     "output_type": "execute_result"
    }
   ],
   "source": [
    "def binarysearch(arr, lo, hi, x):\n",
    "    while lo < hi:\n",
    "        mi = lo + (hi - lo)//2\n",
    "        print(lo, mi, hi)\n",
    "        if arr[mi] == x:\n",
    "            return mi\n",
    "        elif x < arr[mi]:\n",
    "            hi = mi - 1\n",
    "        else:\n",
    "            lo = mi + 1\n",
    "    return lo\n",
    "arr = [2,4,6,8]\n",
    "binarysearch(arr, 0, len(arr) - 1, 10)"
   ]
  },
  {
   "cell_type": "code",
   "execution_count": 13,
   "metadata": {},
   "outputs": [
    {
     "name": "stdout",
     "output_type": "stream",
     "text": [
      "[1, 3, 2, 4, 8, 10, 9, 6]\n",
      "[1, 2, 3, 4, 5, 6, 7]\n",
      "[1, 6, 5, 4, 3, 2, 7]\n"
     ]
    }
   ],
   "source": [
    "def hoares(a, l, r):\n",
    "    p = a[l]\n",
    "    i = l + 1\n",
    "    for j in range(i, r + 1):\n",
    "        if a[j] <= p:\n",
    "            a[i], a[j] = a[j], a[i]\n",
    "            i += 1\n",
    "    a[i - 1], a[l] = a[l], a[i - 1]\n",
    "\n",
    "a = [4,8,9,6,3,10,2,1]; hoarse(a, 0, len(a) - 1); print(a) # [1,3,2,4,8,10,9,6]\n",
    "a = [1,2,3,4,5,6,7];    hoarse(a, 0, len(a) - 1); print(a) # [1,2,3,4,5,6,7]\n",
    "a = [7,6,5,4,3,2,1];    hoarse(a, 0, len(a) - 1); print(a) # [1,6,5,4,3,2,7]"
   ]
  },
  {
   "cell_type": "code",
   "execution_count": 17,
   "metadata": {},
   "outputs": [
    {
     "name": "stdout",
     "output_type": "stream",
     "text": [
      "[3, 2, 4, 6, 5, 10, 8, 9]\n",
      "[1, 2, 3, 4, 5, 6, 7]\n",
      "[1, 6, 5, 4, 3, 2, 7]\n"
     ]
    }
   ],
   "source": [
    "def lomuto(a, l, r):\n",
    "    p = a[r]\n",
    "    i = l\n",
    "    for j in range(i, r):\n",
    "        if a[j] <= p:\n",
    "            a[i], a[j] = a[j], a[i]\n",
    "            i += 1\n",
    "    a[i], a[r] = a[r], a[i]\n",
    "    \n",
    "a = [5,8,9,6,3,10,2,4]; lomuto(a, 0, len(a) - 1); print(a)\n",
    "a = [1,2,3,4,5,6,7];    lomuto(a, 0, len(a) - 1); print(a)\n",
    "a = [7,6,5,4,3,2,1];    lomuto(a, 0, len(a) - 1); print(a)"
   ]
  },
  {
   "cell_type": "code",
   "execution_count": 23,
   "metadata": {},
   "outputs": [
    {
     "name": "stdout",
     "output_type": "stream",
     "text": [
      "[2, 3, 4, 5, 6, 8, 9, 10]\n"
     ]
    }
   ],
   "source": [
    "def partition(a, l, r):\n",
    "    p = a[r]\n",
    "    i = l\n",
    "    for j in range(i, r):\n",
    "        if a[j] <= p:\n",
    "            a[i], a[j] = a[j], a[i]\n",
    "            i += 1\n",
    "    a[i], a[r] = a[r], a[i]\n",
    "    return i\n",
    "\n",
    "def quicksort(a, l, r):\n",
    "    if l > r:\n",
    "        return\n",
    "    p = partition(a, l, r)\n",
    "    quicksort(a, l, p - 1)\n",
    "    quicksort(a, p + 1, r)\n",
    "    \n",
    "a = [5,8,9,6,3,10,2,4]\n",
    "quicksort(a, 0, len(a) - 1)\n",
    "print(a)"
   ]
  },
  {
   "cell_type": "code",
   "execution_count": null,
   "metadata": {},
   "outputs": [],
   "source": []
  }
 ],
 "metadata": {
  "kernelspec": {
   "display_name": "Python 3",
   "language": "python",
   "name": "python3"
  },
  "language_info": {
   "codemirror_mode": {
    "name": "ipython",
    "version": 3
   },
   "file_extension": ".py",
   "mimetype": "text/x-python",
   "name": "python",
   "nbconvert_exporter": "python",
   "pygments_lexer": "ipython3",
   "version": "3.6.5"
  }
 },
 "nbformat": 4,
 "nbformat_minor": 2
}
