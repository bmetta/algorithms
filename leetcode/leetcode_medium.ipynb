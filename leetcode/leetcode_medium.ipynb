{
 "cells": [
  {
   "cell_type": "markdown",
   "metadata": {},
   "source": [
    "### 3. Longest Substring Without Repeating Characters"
   ]
  },
  {
   "cell_type": "code",
   "execution_count": 35,
   "metadata": {},
   "outputs": [],
   "source": [
    "# sliding window\n",
    "# win_start = left most unique character\n",
    "# window length = current char position - win_start\n",
    "def lengthOfLongestSubstring(s):\n",
    "    charMap = {}\n",
    "    win_start, max_win_len = 0, 0\n",
    "    for i, c in enumerate(s):\n",
    "        if c in charMap:\n",
    "            # abca => if i = 3, win_start = 0 -> 1\n",
    "            # abcb => if i = 3, win_start = 0 -> 2\n",
    "            win_start = max(charMap[c] + 1, win_start)\n",
    "        charMap[c] = i\n",
    "        max_win_len = max(i - win_start + 1, max_win_len)\n",
    "    return max_win_len"
   ]
  },
  {
   "cell_type": "code",
   "execution_count": 34,
   "metadata": {},
   "outputs": [
    {
     "name": "stdout",
     "output_type": "stream",
     "text": [
      "PASS\n",
      "PASS\n",
      "PASS\n",
      "PASS\n",
      "PASS\n",
      "PASS\n",
      "PASS\n"
     ]
    }
   ],
   "source": [
    "print (\"PASS\" if lengthOfLongestSubstring(\"a\") == 1 else \"FAIL\")\n",
    "print (\"PASS\" if lengthOfLongestSubstring(\"ab\") == 2 else \"FAIL\")\n",
    "print (\"PASS\" if lengthOfLongestSubstring(\"abc\") == 3 else \"FAIL\")\n",
    "print (\"PASS\" if lengthOfLongestSubstring(\"pwwkew\") == 3 else \"FAIL\")\n",
    "print (\"PASS\" if lengthOfLongestSubstring(\"pwwkpew\") == 4 else \"FAIL\")\n",
    "print (\"PASS\" if lengthOfLongestSubstring(\"abcabcbb\") == 3 else \"FAIL\")\n",
    "print (\"PASS\" if lengthOfLongestSubstring(\"bbbbb\") == 1 else \"FAIL\")"
   ]
  },
  {
   "cell_type": "markdown",
   "metadata": {},
   "source": [
    "### 15. 3Sum"
   ]
  },
  {
   "cell_type": "code",
   "execution_count": 59,
   "metadata": {},
   "outputs": [],
   "source": [
    "def threeSum(nums):\n",
    "    result = []\n",
    "    nums = sorted(nums)\n",
    "    for a in range(len(nums) - 2):\n",
    "        # ignore dupliates\n",
    "        if a > 0 and nums[a] == nums[a - 1]:\n",
    "            a += 1\n",
    "            continue\n",
    "\n",
    "        b, c = a + 1, len(nums) - 1\n",
    "        while b < c:\n",
    "            #print (nums[a], nums[b], nums[c])\n",
    "            # ignore duplicates\n",
    "            if b - 1 > a and nums[b] == nums[b - 1]:\n",
    "                b += 1\n",
    "                continue\n",
    "            if c < len(nums) - 1 and nums[c] == nums[c + 1]:\n",
    "                c -= 1\n",
    "                continue\n",
    "            \n",
    "            sum = nums[a] + nums[b] + nums[c]\n",
    "            if sum < 0:\n",
    "                b += 1\n",
    "            elif sum > 0:\n",
    "                c -= 1\n",
    "            else:\n",
    "                result.append([nums[a], nums[b], nums[c]])\n",
    "                b += 1\n",
    "                c -= 1\n",
    "    return result"
   ]
  },
  {
   "cell_type": "code",
   "execution_count": 60,
   "metadata": {},
   "outputs": [
    {
     "name": "stdout",
     "output_type": "stream",
     "text": [
      "[[-2, 0, 2]]\n",
      "[[-1, -1, 2], [-1, 0, 1]]\n",
      "[[-4, -2, 6], [-4, 0, 4], [-4, 1, 3], [-4, 2, 2], [-2, -2, 4], [-2, 0, 2]]\n",
      "[[-5, 1, 4], [-4, 0, 4], [-4, 1, 3], [-2, -2, 4], [-2, 1, 1], [0, 0, 0]]\n",
      "[[-1, -1, 2]]\n"
     ]
    }
   ],
   "source": [
    "print(threeSum([-2,0,0,2,2])) # [[-2, 0, 2]]\n",
    "print(threeSum([-1,0,1,2,-1,-4])) # [[-1, -1, 2], [-1, 0, 1]]\n",
    "print(threeSum([-4,-2,-2,-2,0,1,2,2,2,3,3,4,4,6,6])) # [[-4, -2, 6], [-4, 0, 4], [-4, 1, 3], [-4, 2, 2], [-2, -2, 4], [-2, 0, 2]]\n",
    "print(threeSum([-4,-2,1,-5,-4,-4,4,-2,0,4,0,-2,3,1,-5,0])) # [[-5, 1, 4], [-4, 0, 4], [-4, 1, 3], [-2, -2, 4], [-2, 1, 1], [0, 0, 0]]\n",
    "print(threeSum([-1,-1,2,2])) # [[-1, -1, 2]]"
   ]
  },
  {
   "cell_type": "code",
   "execution_count": null,
   "metadata": {},
   "outputs": [],
   "source": []
  },
  {
   "cell_type": "code",
   "execution_count": null,
   "metadata": {},
   "outputs": [],
   "source": []
  }
 ],
 "metadata": {
  "kernelspec": {
   "display_name": "Python 3",
   "language": "python",
   "name": "python3"
  },
  "language_info": {
   "codemirror_mode": {
    "name": "ipython",
    "version": 3
   },
   "file_extension": ".py",
   "mimetype": "text/x-python",
   "name": "python",
   "nbconvert_exporter": "python",
   "pygments_lexer": "ipython3",
   "version": "3.6.5"
  }
 },
 "nbformat": 4,
 "nbformat_minor": 2
}
