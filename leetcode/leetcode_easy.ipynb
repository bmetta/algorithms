{
 "cells": [
  {
   "cell_type": "markdown",
   "metadata": {},
   "source": [
    "### 1. Two Sum"
   ]
  },
  {
   "cell_type": "code",
   "execution_count": 7,
   "metadata": {},
   "outputs": [],
   "source": [
    "def twoSum(nums, target):\n",
    "    numMap = {}\n",
    "    for i, num in enumerate(nums):\n",
    "        first = target - num\n",
    "        if first in numMap:\n",
    "            return [numMap[first], i]\n",
    "        numMap[num] = i"
   ]
  },
  {
   "cell_type": "code",
   "execution_count": 10,
   "metadata": {},
   "outputs": [
    {
     "name": "stdout",
     "output_type": "stream",
     "text": [
      "[0, 1]\n",
      "[0, 3]\n"
     ]
    }
   ],
   "source": [
    "print (twoSum([2, 7], 9))\n",
    "print (twoSum([2, 7, 11, 15], 17))"
   ]
  },
  {
   "cell_type": "markdown",
   "metadata": {},
   "source": [
    "### 7. Reverse Integer"
   ]
  },
  {
   "cell_type": "code",
   "execution_count": 46,
   "metadata": {},
   "outputs": [],
   "source": [
    "def reverse(x):\n",
    "    # Get the sign of integer\n",
    "    sign = -1 if x < 0 else 1\n",
    "    x = abs(x)\n",
    "    \n",
    "    # Reverse the integer\n",
    "    res = 0\n",
    "    while (x):\n",
    "        res = res*10 + x%10\n",
    "        x = int(x/10)\n",
    "\n",
    "    res = sign*res\n",
    "    # check for the integer overflow\n",
    "    if (res < -pow(2, 31) or res > (pow(2, 31) - 1)):\n",
    "        return 0\n",
    "    return res"
   ]
  },
  {
   "cell_type": "code",
   "execution_count": 47,
   "metadata": {},
   "outputs": [
    {
     "name": "stdout",
     "output_type": "stream",
     "text": [
      "321\n",
      "-21\n",
      "0\n"
     ]
    }
   ],
   "source": [
    "print (reverse(123))\n",
    "print (reverse(-120))\n",
    "print (reverse(1534236469))"
   ]
  },
  {
   "cell_type": "markdown",
   "metadata": {},
   "source": [
    "### 9. Palindrome number"
   ]
  },
  {
   "cell_type": "code",
   "execution_count": 64,
   "metadata": {},
   "outputs": [],
   "source": [
    "# Approach 1\n",
    "def isPalindrome(n):\n",
    "    strn = str(n)\n",
    "    return strn == strn[: :-1]"
   ]
  },
  {
   "cell_type": "code",
   "execution_count": 8,
   "metadata": {},
   "outputs": [],
   "source": [
    "def isPalindrome(n):\n",
    "    # negative number or number ends with zero\n",
    "    if n < 0 or (n%10 == 0 and n != 0):\n",
    "        return False\n",
    "    \n",
    "    # split the number into two equal halfs\n",
    "    # eg: n = 12321; n = 12, rev_n = 123\n",
    "    # eg: n = 1221;  n = 12, rev_n = 12\n",
    "    rev_n = 0\n",
    "    while (n > rev_n):\n",
    "        rev_n = rev_n*10 + n%10\n",
    "        n = int(n/10)\n",
    "    #print (n, rev_n)\n",
    "    return n == rev_n or n == int(rev_n/10)"
   ]
  },
  {
   "cell_type": "code",
   "execution_count": 6,
   "metadata": {},
   "outputs": [
    {
     "name": "stdout",
     "output_type": "stream",
     "text": [
      "True\n",
      "False\n",
      "True\n"
     ]
    }
   ],
   "source": [
    "print(isPalindrome(121))  # True\n",
    "print(isPalindrome(1210)) # False\n",
    "print(isPalindrome(0))    # True"
   ]
  },
  {
   "cell_type": "markdown",
   "metadata": {},
   "source": [
    "### 13. Roman to Integer"
   ]
  },
  {
   "cell_type": "code",
   "execution_count": 17,
   "metadata": {},
   "outputs": [],
   "source": [
    "def romanToInt(s):\n",
    "    rtoi = {'I': 1, 'V': 5, 'X': 10, 'L': 50, 'C': 100, 'D': 500, 'M': 1000}\n",
    "    res, last = 0, 0\n",
    "    \n",
    "    for ch in s:\n",
    "        cur = int(rtoi[ch])\n",
    "        res += cur\n",
    "        if last < cur:\n",
    "            res -= last*2\n",
    "        last = cur\n",
    "    return res"
   ]
  },
  {
   "cell_type": "code",
   "execution_count": 19,
   "metadata": {},
   "outputs": [],
   "source": [
    "import sys\n",
    "def romanToInt(s):\n",
    "    rtoi = {'I': 1, 'V': 5, 'X': 10, 'L': 50, 'C': 100, 'D': 500, 'M': 1000}\n",
    "    if s == \"\":\n",
    "        return 0\n",
    "    if len(s) == 1:\n",
    "        return rtoi[s[0]]\n",
    "    \n",
    "    num = rtoi[s[-1]]\n",
    "    for i in range(len(s))[:-1]:\n",
    "        sign = -1 if rtoi[s[i]] < rtoi[s[i + 1]] else 1\n",
    "        num += sign * rtoi[s[i]]\n",
    "    return num"
   ]
  },
  {
   "cell_type": "code",
   "execution_count": 20,
   "metadata": {},
   "outputs": [
    {
     "name": "stdout",
     "output_type": "stream",
     "text": [
      "PASS\n",
      "PASS\n",
      "PASS\n",
      "PASS\n",
      "PASS\n"
     ]
    }
   ],
   "source": [
    "print (\"PASS\" if 4 == romanToInt(\"IV\") else \"FAIL\") # -1 + 5 = 4\n",
    "print (\"PASS\" if 90 == romanToInt(\"XC\") else \"FAIL\") # -10 + 100 = 90\n",
    "print (\"PASS\" if 3 == romanToInt(\"III\") else \"FAIL\") # 1 + 1 + 1 = 3\n",
    "#print (romanToInt(\"IIII\")) \n",
    "print (\"PASS\" if 58 == romanToInt(\"LVIII\") else \"FAIL\") # 50 + 5 + 3 = 58\n",
    "print (\"PASS\" if 1994 == romanToInt(\"MCMXCIV\") else \"FAIL\") # 1000 - 100 + 1000 + 10 - 1 + 5 = 1994"
   ]
  },
  {
   "cell_type": "markdown",
   "metadata": {},
   "source": [
    "### 14. Longest Common Prefix"
   ]
  },
  {
   "cell_type": "code",
   "execution_count": 21,
   "metadata": {},
   "outputs": [],
   "source": [
    "# Approach 1: Horizontal Scanning\n",
    "#    get the first string\n",
    "#    for each remaining strings\n",
    "#       find the common prefix\n",
    "# Time complexity  : O(S); S sum of all characters in all strings\n",
    "# Space complexity : O(1)\n",
    "\n",
    "import re\n",
    "def longestCommonPrefix(strs):\n",
    "    if strs == \"\" or len(strs) == 0:\n",
    "        return \"\"\n",
    "    \n",
    "    prefix = strs[0]\n",
    "    for i in range(1, len(strs)):\n",
    "        while re.match(prefix, strs[i]) == None:\n",
    "            prefix = prefix[:-1]\n",
    "            if prefix == \"\":\n",
    "                return \"\"\n",
    "    return prefix"
   ]
  },
  {
   "cell_type": "code",
   "execution_count": 121,
   "metadata": {},
   "outputs": [],
   "source": [
    "# Approach 2: Vertical Scanning\n",
    "#    for each char from first string\n",
    "#        compare with the char at the same position in other strings\n",
    "# Time complexity\n",
    "#        worst case: O(m * n); m is length, n is num of strings\n",
    "#        best case : O(n * minLen); minLen is small string of all strings\n",
    "# Space complexity : O(1)\n",
    "\n",
    "def longestCommonPrefix(strs):\n",
    "    if strs == \"\" or len(strs) == 0:\n",
    "        return \"\"\n",
    "    \n",
    "    for col in range(len(strs[0])):\n",
    "        for row in range(1, len(strs)):\n",
    "            if col < len(strs[row]) and strs[0][col] != strs[row][col]:\n",
    "                return strs[0][:col]\n",
    "    return strs[0]"
   ]
  },
  {
   "cell_type": "code",
   "execution_count": 124,
   "metadata": {},
   "outputs": [],
   "source": [
    "# Approach 3: Devide & Conquer\n",
    "#    get common prefix from the two strings by deviding into groups\n",
    "#    conquer the results finally\n",
    "# Time complexity\n",
    "#        worst case: O(m * n); m is length, n is num of strings\n",
    "#        best case : O(minLen * n)\n",
    "# Space complexity : O(m log n); log n recursive call, each call needs m space to store the result\n",
    "\n",
    "def longestCommonPrefix(strs):\n",
    "    if strs == \"\" or len(strs) == 0:\n",
    "        return \"\"\n",
    "\n",
    "    return longestCommonPrefixUtil(strs, 0, len(strs) - 1)\n",
    "    \n",
    "def longestCommonPrefixUtil(strs, l, h):\n",
    "    if l == h:\n",
    "        return strs[l]\n",
    "    \n",
    "    m = int((l + h)/2)\n",
    "    left_prefix = longestCommonPrefixUtil(strs, l, m)\n",
    "    right_prefix = longestCommonPrefixUtil(strs, m + 1, h)\n",
    "    return commonPrefix(left_prefix, right_prefix)\n",
    "\n",
    "def commonPrefix(str1, str2):\n",
    "    min_len = min(len(str1), len(str2))\n",
    "    for i in range(min_len):\n",
    "        if (str1[i] != str2[i]):\n",
    "            return str1[:i]\n",
    "    return str1[:min_len]"
   ]
  },
  {
   "cell_type": "code",
   "execution_count": 126,
   "metadata": {},
   "outputs": [],
   "source": [
    "# Approach 4: Binary Search\n",
    "#    get the smallest string length out of all the strings\n",
    "#    search that present in all strings in binary search\n",
    "# Time complexity  : O(S * log n); S length of all strings, n num of strings\n",
    "# Space complexity : O(1)\n",
    "\n",
    "import sys\n",
    "def longestCommonPrefix(strs):\n",
    "    if strs == \"\" or len(strs) == 0:\n",
    "        return \"\"\n",
    "    \n",
    "    min_len = sys.maxsize\n",
    "    for s in strs:\n",
    "        min_len = min(min_len, len(s))\n",
    "\n",
    "    l = 1\n",
    "    h = min_len\n",
    "    while(l <= h):\n",
    "        m = int((l + h)/2)\n",
    "        if isCommonPrefix(strs, m):\n",
    "            l = m + 1\n",
    "        else:\n",
    "            h = m - 1\n",
    "    length = int((l + h)/2)\n",
    "    return strs[0][:length]\n",
    "\n",
    "def isCommonPrefix(strs, length):\n",
    "    str1 = strs[0][:length]\n",
    "    for i in range(1, len(strs)):\n",
    "        if re.match(str1, strs[i][:length]) == None:\n",
    "            return False\n",
    "    return True"
   ]
  },
  {
   "cell_type": "code",
   "execution_count": 127,
   "metadata": {},
   "outputs": [],
   "source": [
    "# Approach 5: Using Trie data structure\n",
    "# Time complexity\n",
    "#         preprocessing O(S); S is number of all characters in array\n",
    "#         LCP query : O(m); m is query length\n",
    "# Space complexity : O(S)\n",
    "\n",
    "class TrieNode:\n",
    "    def __init__(self):\n",
    "        self.children = [None]*26\n",
    "        self.isEnd = False\n",
    "\n",
    "class Trie:\n",
    "    def __init__(self):\n",
    "        self.root = self.getNode()\n",
    "    \n",
    "    def getNode(self):\n",
    "        return TrieNode()\n",
    "        \n",
    "    def insert(self, string):\n",
    "        if string == \"\":\n",
    "            return\n",
    "        \n",
    "        crawl = self.root\n",
    "        for ch in string:\n",
    "            index = ord(ch) - ord('a')\n",
    "            if not crawl.children[index]:\n",
    "                crawl.children[index] = self.getNode()\n",
    "            crawl = crawl.children[index]\n",
    "        crawl.isEnd = True\n",
    "\n",
    "    def longestCommonPrefix(self):\n",
    "        return self.commonPrefix(self.root, \"\")\n",
    "    \n",
    "    # each node should have only one child\n",
    "    # isEnd reached\n",
    "    def commonPrefix(self, crawl, prefix):\n",
    "        if crawl.isEnd:\n",
    "            return prefix\n",
    "        \n",
    "        # only one child\n",
    "        child_count = 0\n",
    "        for i in range(26):\n",
    "            if crawl.children[i]:\n",
    "                child_count += 1\n",
    "            if child_count > 1:\n",
    "                return prefix\n",
    "        \n",
    "        for i in range(26):\n",
    "            if crawl.children[i]:\n",
    "                ch = chr(i + ord('a'))\n",
    "                return self.commonPrefix(crawl.children[i], prefix + ch)\n",
    "        return \"\"\n",
    "\n",
    "def longestCommonPrefix(strs):\n",
    "    if strs == \"\" or len(strs) == 0:\n",
    "        return \"\"\n",
    "    \n",
    "    t = Trie()\n",
    "    for string in strs:\n",
    "        #print(\"inserting:\", string)\n",
    "        if string == \"\":\n",
    "            return \"\"\n",
    "        t.insert(string)\n",
    "    \n",
    "    return t.longestCommonPrefix()"
   ]
  },
  {
   "cell_type": "code",
   "execution_count": 118,
   "metadata": {},
   "outputs": [
    {
     "name": "stdout",
     "output_type": "stream",
     "text": [
      "longest prefix: lee\n",
      "longest prefix: fl\n",
      "longest prefix: \n",
      "longest prefix: \n",
      "longest prefix: \n",
      "longest prefix: \n"
     ]
    }
   ],
   "source": [
    "print(\"longest prefix:\", longestCommonPrefix([\"leets\", \"leetcode\", \"leet\", \"leeds\"]))\n",
    "print(\"longest prefix:\", longestCommonPrefix([\"flower\",\"flow\",\"flight\"]))\n",
    "print(\"longest prefix:\", longestCommonPrefix([\"dog\",\"racecar\",\"car\"]))\n",
    "print(\"longest prefix:\", longestCommonPrefix([\"\"]))\n",
    "print(\"longest prefix:\", longestCommonPrefix([\"\", \"b\"]))\n",
    "print(\"longest prefix:\", longestCommonPrefix([]))"
   ]
  },
  {
   "cell_type": "markdown",
   "metadata": {},
   "source": [
    "### 20. Valid parentheses"
   ]
  },
  {
   "cell_type": "code",
   "execution_count": 72,
   "metadata": {},
   "outputs": [],
   "source": [
    "def isValidParentheses(s):\n",
    "    right_parens = {'}' : '{', ')' : '(', ']' : '['}\n",
    "    stack = []\n",
    "    for paren in s:\n",
    "        if paren not in right_parens.keys():\n",
    "            stack.append(paren)\n",
    "        else: #if paren in right_parens.keys():\n",
    "            if not stack or right_parens[paren] != stack.pop():\n",
    "                return False\n",
    "    return not stack"
   ]
  },
  {
   "cell_type": "code",
   "execution_count": 73,
   "metadata": {},
   "outputs": [
    {
     "name": "stdout",
     "output_type": "stream",
     "text": [
      "True\n",
      "False\n",
      "True\n",
      "False\n",
      "True\n",
      "False\n",
      "True\n"
     ]
    }
   ],
   "source": [
    "print(isValidParentheses(\"()\")) # True\n",
    "print(isValidParentheses(\"(\")) # False\n",
    "print(isValidParentheses(\"()[]{}\")) # True\n",
    "print(isValidParentheses(\"(]\")) # False\n",
    "print(isValidParentheses(\"{[]}\")) # True\n",
    "print(isValidParentheses(\"){\")) # False\n",
    "print(isValidParentheses(\"\")) # True"
   ]
  },
  {
   "cell_type": "markdown",
   "metadata": {},
   "source": [
    "### 26. Remove Duplicates from Sorted Array"
   ]
  },
  {
   "cell_type": "code",
   "execution_count": 74,
   "metadata": {},
   "outputs": [],
   "source": [
    "def removeDuplicates(nums):\n",
    "    if len(nums) < 2: return nums\n",
    "    \n",
    "    w = 1\n",
    "    for r in range(1, len(nums)):\n",
    "        if nums[r] != nums[w - 1]:\n",
    "            nums[w] = nums[r]\n",
    "            w += 1\n",
    "\n",
    "    return nums[ : w]"
   ]
  },
  {
   "cell_type": "code",
   "execution_count": 75,
   "metadata": {},
   "outputs": [
    {
     "name": "stdout",
     "output_type": "stream",
     "text": [
      "[1, 2, 3]\n",
      "[0, 1, 2, 3, 4]\n"
     ]
    }
   ],
   "source": [
    "print(removeDuplicates([1,1,2,2,2,3,3]))\n",
    "print(removeDuplicates([0,0,1,1,1,2,2,3,3,4]))"
   ]
  },
  {
   "cell_type": "markdown",
   "metadata": {},
   "source": [
    "### 27. Remove element"
   ]
  },
  {
   "cell_type": "code",
   "execution_count": 103,
   "metadata": {},
   "outputs": [],
   "source": [
    "# Traverse from first and replace the match vals\n",
    "# to values from the last\n",
    "def removeElement(nums, val):\n",
    "    if len(nums) < 2: return nums\n",
    "    \n",
    "    end = len(nums)\n",
    "    for i in range(len(nums))[::-1]:\n",
    "        if nums[i] == val:\n",
    "            nums[i] = nums[end - 1]\n",
    "            end -= 1\n",
    "    return nums[: end]"
   ]
  },
  {
   "cell_type": "code",
   "execution_count": 104,
   "metadata": {},
   "outputs": [],
   "source": [
    "# Traverse from last and replace the match vals\n",
    "# to values from the last\n",
    "def removeElement(nums, val):\n",
    "    if len(nums) < 2: return nums\n",
    "    \n",
    "    start = 0\n",
    "    end = len(nums)\n",
    "    while start < end:\n",
    "        if nums[start] == val:\n",
    "            nums[start] = nums[end - 1]\n",
    "            end -= 1\n",
    "        else:\n",
    "            start += 1\n",
    "\n",
    "    return nums[:start]"
   ]
  },
  {
   "cell_type": "code",
   "execution_count": 111,
   "metadata": {},
   "outputs": [],
   "source": [
    "# Traverse from first and replace the match vals\n",
    "# to next values\n",
    "def removeElement(nums, val):\n",
    "    if len(nums) < 2: return nums\n",
    "    \n",
    "    start = 0\n",
    "    for i in range(len(nums)):\n",
    "        if nums[i] != val:\n",
    "            nums[start] = nums[i]\n",
    "            start += 1\n",
    "    return nums[:start]"
   ]
  },
  {
   "cell_type": "code",
   "execution_count": 112,
   "metadata": {},
   "outputs": [
    {
     "name": "stdout",
     "output_type": "stream",
     "text": [
      "[1, 3, 4, 3]\n",
      "[1, 3]\n",
      "[1, 3]\n"
     ]
    }
   ],
   "source": [
    "print(removeElement([1, 2, 3, 4, 2, 3, 2], 2))\n",
    "print(removeElement([1, 2, 2, 3, 2], 2))\n",
    "print(removeElement([1, 2, 3, 2], 2))"
   ]
  },
  {
   "cell_type": "markdown",
   "metadata": {},
   "source": [
    "### 28. Implement strStr()"
   ]
  },
  {
   "cell_type": "code",
   "execution_count": 172,
   "metadata": {},
   "outputs": [],
   "source": [
    "def strStr(haystack, needle):\n",
    "    if needle == \"\": return 0\n",
    "    if len(haystack) < len(needle): return -1\n",
    "    \n",
    "    for i in range(len(haystack) - len(needle) + 1):\n",
    "        if (haystack[i : i + len(needle)] == needle):\n",
    "            return i\n",
    "    return -1"
   ]
  },
  {
   "cell_type": "code",
   "execution_count": 173,
   "metadata": {},
   "outputs": [
    {
     "name": "stdout",
     "output_type": "stream",
     "text": [
      "2\n",
      "-1\n",
      "-1\n",
      "-1\n",
      "0\n"
     ]
    }
   ],
   "source": [
    "print(strStr(\"hello\", \"ll\"))\n",
    "print(strStr(\"aaaaaa\", \"bba\"))\n",
    "print(strStr(\"aaa\", \"aaaaa\"))\n",
    "print(strStr(\"mississippi\", \"issipi\"))\n",
    "print(strStr(\"a\", \"a\"))"
   ]
  },
  {
   "cell_type": "markdown",
   "metadata": {},
   "source": [
    "### 35. Search Insert position"
   ]
  },
  {
   "cell_type": "code",
   "execution_count": 115,
   "metadata": {},
   "outputs": [],
   "source": [
    "def searchInsert(nums, target):\n",
    "    low = 0\n",
    "    high = len(nums) - 1\n",
    "    while (low <= high):\n",
    "        mid = (low + high)//2\n",
    "        if (target == nums[mid]):\n",
    "            return mid\n",
    "        \n",
    "        if (target < nums[mid]):\n",
    "            high = mid - 1\n",
    "        elif (target > nums[mid]):\n",
    "            low = mid + 1\n",
    "    #print (low, high)\n",
    "    return (low + high)//2 + 1"
   ]
  },
  {
   "cell_type": "code",
   "execution_count": 117,
   "metadata": {},
   "outputs": [],
   "source": [
    "def InsertPosition(arr, key):\n",
    "    lo, hi = 0, len(arr) - 1\n",
    "    while lo <= hi:\n",
    "        mi = int(lo + (hi - lo)/2)\n",
    "        if arr[mi] < key: lo = mi + 1\n",
    "        elif arr[mi] >= key: hi = mi - 1\n",
    "        #print (lo, mi, hi)\n",
    "    return lo;"
   ]
  },
  {
   "cell_type": "code",
   "execution_count": 118,
   "metadata": {
    "scrolled": true
   },
   "outputs": [
    {
     "name": "stdout",
     "output_type": "stream",
     "text": [
      "2\n",
      "1\n",
      "4\n",
      "0\n",
      "1\n"
     ]
    }
   ],
   "source": [
    "print (searchInsert([1,3,5,6], 5)) # 2\n",
    "print (searchInsert([1,3,5,6], 2)) # 1\n",
    "print (searchInsert([1,3,5,6], 7)) # 4\n",
    "print (searchInsert([1,3,5,6], 0)) # 0\n",
    "print (searchInsert([1,3], 2)) # 1"
   ]
  },
  {
   "cell_type": "markdown",
   "metadata": {},
   "source": [
    "### 38. Count and Say"
   ]
  },
  {
   "cell_type": "code",
   "execution_count": 221,
   "metadata": {},
   "outputs": [],
   "source": [
    "def countAndSay(n):\n",
    "    if n is 1: return \"1\"\n",
    "    \n",
    "    res = \"1\"\n",
    "    for _ in range(n - 1):\n",
    "        count = 1\n",
    "        aux = \"\"\n",
    "        i = 1\n",
    "        while i < len(res):\n",
    "            if res[i] == res[i - 1]:\n",
    "                count += 1\n",
    "            else:\n",
    "                aux += str(count) + res[i - 1]\n",
    "                count = 1\n",
    "            i += 1\n",
    "        aux += str(count) + res[i - 1]\n",
    "        res = aux\n",
    "        #print(i, res)\n",
    "    return res"
   ]
  },
  {
   "cell_type": "code",
   "execution_count": 219,
   "metadata": {},
   "outputs": [],
   "source": [
    "def countAndSay(n):\n",
    "    if n is 1: return \"1\"\n",
    "    \n",
    "    res = \"1\"\n",
    "    for _ in range(n - 1):\n",
    "        count = 1\n",
    "        aux = \"\"\n",
    "        for i in range(1, len(res)):\n",
    "            if res[i] == res[i - 1]:\n",
    "                count += 1\n",
    "            else:\n",
    "                aux += str(count) + res[i - 1]\n",
    "                count = 1\n",
    "        aux += str(count) + res[len(res) - 1]\n",
    "        res = aux\n",
    "        #print(i, res)\n",
    "    return res"
   ]
  },
  {
   "cell_type": "code",
   "execution_count": 222,
   "metadata": {},
   "outputs": [
    {
     "name": "stdout",
     "output_type": "stream",
     "text": [
      "True\n",
      "True\n",
      "True\n",
      "True\n",
      "True\n",
      "True\n",
      "True\n"
     ]
    }
   ],
   "source": [
    "print(\"1\" == countAndSay(1))\n",
    "print(\"11\" == countAndSay(2))\n",
    "print(\"21\" == countAndSay(3))\n",
    "print(\"1211\" == countAndSay(4))\n",
    "print(\"111221\" == countAndSay(5))\n",
    "print(\"312211\" == countAndSay(6))\n",
    "print(\"13112221\" == countAndSay(7))"
   ]
  },
  {
   "cell_type": "markdown",
   "metadata": {},
   "source": [
    "### 53. Maximum Subarray"
   ]
  },
  {
   "cell_type": "code",
   "execution_count": 41,
   "metadata": {},
   "outputs": [],
   "source": [
    "import sys\n",
    "def maxSubArray(nums):\n",
    "    maxSum = -sys.maxsize - 1\n",
    "    curSum = 0\n",
    "    for num in nums:\n",
    "        curSum = max(curSum + num, num)\n",
    "        maxSum = max(maxSum, curSum)\n",
    "    return maxSum"
   ]
  },
  {
   "cell_type": "code",
   "execution_count": 229,
   "metadata": {},
   "outputs": [],
   "source": [
    "import sys\n",
    "def maxSubArray(nums):\n",
    "    return maxSum(nums, 0, len(nums) - 1)\n",
    "\n",
    "def maxSum(nums, l, h):\n",
    "    if (l == h):\n",
    "        return nums[l]\n",
    "    \n",
    "    m = (l + h)//2\n",
    "    left_max = -sys.maxsize - 1\n",
    "    left_sum = 0\n",
    "    for i in range(m + 1)[::-1]:\n",
    "        left_sum += nums[i]\n",
    "        left_max = max(left_max, left_sum)\n",
    "    \n",
    "    right_max = -sys.maxsize - 1\n",
    "    right_sum = 0\n",
    "    for i in range(m + 1, h + 1):\n",
    "        right_sum += nums[i]\n",
    "        right_max = max(right_max, right_sum)\n",
    "\n",
    "    middle_max = left_max + right_max\n",
    "    \n",
    "    return max(max(maxSum(nums, l, m),\n",
    "                   maxSum(nums, m + 1, h)),\n",
    "               middle_max)"
   ]
  },
  {
   "cell_type": "code",
   "execution_count": 230,
   "metadata": {},
   "outputs": [
    {
     "name": "stdout",
     "output_type": "stream",
     "text": [
      "6\n"
     ]
    }
   ],
   "source": [
    "print(maxSubArray([-2,1,-3,4,-1,2,1,-5,4])) #6\n",
    "#print(maxSubArray([-1])) #-1"
   ]
  },
  {
   "cell_type": "markdown",
   "metadata": {},
   "source": [
    "### 58. Length of Last Word"
   ]
  },
  {
   "cell_type": "code",
   "execution_count": 272,
   "metadata": {},
   "outputs": [],
   "source": [
    "def lengthOfLastWord(s):\n",
    "    wordEnd = -1\n",
    "    for i in range(len(s))[::-1]:\n",
    "        if s[i] == ' ' and wordEnd != -1:\n",
    "            return wordEnd - i\n",
    "        elif s[i] != ' ' and wordEnd == -1:\n",
    "            wordEnd = i\n",
    "    return wordEnd + 1"
   ]
  },
  {
   "cell_type": "code",
   "execution_count": 274,
   "metadata": {},
   "outputs": [],
   "source": [
    "def lengthOfLastWord(s):\n",
    "    length = 0\n",
    "    for i in range(len(s))[::-1]:\n",
    "        if length > 0 and s[i] == ' ':\n",
    "            return length\n",
    "        elif s[i] != ' ':\n",
    "            length += 1\n",
    "    return length"
   ]
  },
  {
   "cell_type": "code",
   "execution_count": 278,
   "metadata": {},
   "outputs": [
    {
     "name": "stdout",
     "output_type": "stream",
     "text": [
      "5\n",
      "1\n",
      "2\n",
      "1\n",
      "0\n",
      "0\n"
     ]
    }
   ],
   "source": [
    "print (lengthOfLastWord(\"Hello World\")) # 5\n",
    "print (lengthOfLastWord(\"d\")) # 1\n",
    "print (lengthOfLastWord(\"dd\")) # 2\n",
    "print (lengthOfLastWord(\"d  \")) # 1\n",
    "print (lengthOfLastWord(\"\")) # 0\n",
    "print (lengthOfLastWord(\" \")) # 0"
   ]
  },
  {
   "cell_type": "markdown",
   "metadata": {},
   "source": [
    "### 66. Plus One"
   ]
  },
  {
   "cell_type": "code",
   "execution_count": 120,
   "metadata": {},
   "outputs": [],
   "source": [
    "def plusOne(digits):\n",
    "    carry = 1\n",
    "    for i in range(len(digits))[::-1]:\n",
    "        digit = digits[i] + carry\n",
    "        carry = digit // 10\n",
    "        digits[i] = digit % 10\n",
    "        #print (i, digit, carry)\n",
    "\n",
    "    if carry != 0:\n",
    "        digits.insert(0, carry)\n",
    "        \n",
    "    return digits"
   ]
  },
  {
   "cell_type": "code",
   "execution_count": 279,
   "metadata": {},
   "outputs": [],
   "source": [
    "def plusOne(digits):\n",
    "    for i in range(len(digits))[::-1]:\n",
    "        if (digits[i] == 9):\n",
    "            digits[i] = 0\n",
    "        else:\n",
    "            digits[i] += 1\n",
    "            return digits\n",
    "    return [1] + digits"
   ]
  },
  {
   "cell_type": "code",
   "execution_count": 280,
   "metadata": {},
   "outputs": [
    {
     "name": "stdout",
     "output_type": "stream",
     "text": [
      "[1, 2, 4]\n",
      "[1, 3, 0]\n",
      "[2, 0, 0]\n",
      "[1, 0, 0, 0]\n",
      "[1]\n"
     ]
    }
   ],
   "source": [
    "print (plusOne([1, 2, 3]))\n",
    "print (plusOne([1, 2, 9]))\n",
    "print (plusOne([1, 9, 9]))\n",
    "print (plusOne([9, 9, 9]))\n",
    "print (plusOne([]))"
   ]
  },
  {
   "cell_type": "markdown",
   "metadata": {},
   "source": [
    "### 67. Add Binary"
   ]
  },
  {
   "cell_type": "code",
   "execution_count": 282,
   "metadata": {},
   "outputs": [],
   "source": [
    "def addBinary(a, b):\n",
    "    output = \"\"\n",
    "    i, j = len(a), len(b)\n",
    "    carry = 0\n",
    "    while carry != 0 or i > 0 or j > 0:\n",
    "        digit = getDigit(a, i) + getDigit(b, j)\n",
    "        digit += 1 if carry == 1 else 0\n",
    "        i -= 1; j -= 1\n",
    "        output = str('1' if digit % 2 != 0 else '0') + output\n",
    "        carry = 0 if digit < 2 else 1\n",
    "    return output\n",
    "\n",
    "def getDigit(s, i):\n",
    "    if i > 0 and s[i - 1] == '1':\n",
    "        return 1\n",
    "    return 0"
   ]
  },
  {
   "cell_type": "code",
   "execution_count": 283,
   "metadata": {},
   "outputs": [
    {
     "name": "stdout",
     "output_type": "stream",
     "text": [
      "100\n",
      "10101\n"
     ]
    }
   ],
   "source": [
    "print(addBinary(\"11\", \"1\"))\n",
    "print(addBinary(\"1010\", \"1011\"))"
   ]
  },
  {
   "cell_type": "markdown",
   "metadata": {},
   "source": [
    "### 69. Sqrt(x)\n",
    "https://www.cnblogs.com/AnnieKim/archive/2013/04/18/3028607.html"
   ]
  },
  {
   "cell_type": "code",
   "execution_count": 306,
   "metadata": {},
   "outputs": [],
   "source": [
    "def mySqrt(x):\n",
    "    lo, hi = 1, x/2 + 1\n",
    "    while lo <= hi:\n",
    "        mi = (lo + hi)//2\n",
    "        exp = mi * mi\n",
    "        if x > exp:\n",
    "            lo = mi + 1\n",
    "        elif x < exp:\n",
    "            hi = mi - 1\n",
    "        else:\n",
    "            return mi\n",
    "    return hi"
   ]
  },
  {
   "cell_type": "code",
   "execution_count": 307,
   "metadata": {},
   "outputs": [
    {
     "name": "stdout",
     "output_type": "stream",
     "text": [
      "1.0\n",
      "1.0\n",
      "1.0\n",
      "2.0\n",
      "2.0\n",
      "2.0\n",
      "2.0\n",
      "2.0\n",
      "3.0\n"
     ]
    }
   ],
   "source": [
    "print(mySqrt(1)) # 1\n",
    "print(mySqrt(2)) # 1\n",
    "print(mySqrt(3)) # 1\n",
    "print(mySqrt(4)) # 2\n",
    "print(mySqrt(5)) # 2\n",
    "print(mySqrt(6)) # 2\n",
    "print(mySqrt(7)) # 2\n",
    "print(mySqrt(8)) # 2\n",
    "print(mySqrt(9)) # 3"
   ]
  },
  {
   "cell_type": "markdown",
   "metadata": {},
   "source": [
    "### 70. Climbing Stairs"
   ]
  },
  {
   "cell_type": "code",
   "execution_count": 308,
   "metadata": {},
   "outputs": [],
   "source": [
    "def climbStairs(n):\n",
    "    if n == 0:\n",
    "        return 1\n",
    "    if n < 0:\n",
    "        return 0\n",
    "    \n",
    "    for i in range(n):\n",
    "        return climbStairs(n - 1) + climbStairs(n - 2)\n",
    "    "
   ]
  },
  {
   "cell_type": "code",
   "execution_count": 310,
   "metadata": {},
   "outputs": [],
   "source": [
    "def climbStairs(n):\n",
    "    if n <= 2:\n",
    "        return n\n",
    "    \n",
    "    a, b = 1, 1\n",
    "    for i in range(2, n + 1):\n",
    "        a, b = b, a + b\n",
    "    return b"
   ]
  },
  {
   "cell_type": "code",
   "execution_count": 312,
   "metadata": {},
   "outputs": [],
   "source": [
    "def climbStairs(n):\n",
    "    if n <= 2:\n",
    "        return n\n",
    "    \n",
    "    arr = [0] * (n + 1)\n",
    "    arr[0], arr[1], arr[2] = 0, 1, 2\n",
    "    for i in range(3, n + 1):\n",
    "        arr[i] = arr[i - 1] + arr[i - 2]\n",
    "    return arr[n]\n"
   ]
  },
  {
   "cell_type": "code",
   "execution_count": 313,
   "metadata": {},
   "outputs": [
    {
     "name": "stdout",
     "output_type": "stream",
     "text": [
      "0\n",
      "1\n",
      "2\n",
      "3\n",
      "5\n",
      "8\n",
      "13\n",
      "14930352\n"
     ]
    }
   ],
   "source": [
    "print(climbStairs(0))\n",
    "print(climbStairs(1))\n",
    "print(climbStairs(2))\n",
    "print(climbStairs(3))\n",
    "print(climbStairs(4))\n",
    "print(climbStairs(5))\n",
    "print(climbStairs(6))\n",
    "print(climbStairs(35))"
   ]
  },
  {
   "cell_type": "markdown",
   "metadata": {},
   "source": [
    "### 88. Merge Sorted Array"
   ]
  },
  {
   "cell_type": "code",
   "execution_count": 315,
   "metadata": {},
   "outputs": [],
   "source": [
    "def merge(nums1, m, nums2, n):\n",
    "    while (m > 0 and n > 0):\n",
    "        if (nums1[m - 1] <= nums2[n - 1]):\n",
    "            nums1[m + n - 1] = nums2[n - 1]\n",
    "            n -= 1\n",
    "        else:\n",
    "            nums1[m + n - 1] = nums1[m - 1]\n",
    "            m -= 1\n",
    "    if (n > 0):\n",
    "        nums1[:n] = nums2[:n]"
   ]
  },
  {
   "cell_type": "code",
   "execution_count": 319,
   "metadata": {},
   "outputs": [
    {
     "name": "stdout",
     "output_type": "stream",
     "text": [
      "[1, 2, 2, 3, 5, 6]\n",
      "[1, 2, 3, 4, 5, 6]\n",
      "[1]\n",
      "[1, 2]\n"
     ]
    }
   ],
   "source": [
    "a = [1,2,3,0,0,0]; merge(a, 3, [2,5,6], 3); print(a)\n",
    "a = [4,5,6,0,0,0]; merge(a, 3, [1,2,3], 3); print(a)\n",
    "a = [0]; merge(a, 0, [1], 1); print(a)\n",
    "a = [2,0]; merge(a, 1, [1], 1); print(a)"
   ]
  },
  {
   "cell_type": "markdown",
   "metadata": {},
   "source": [
    "### 100. Same Tree"
   ]
  },
  {
   "cell_type": "code",
   "execution_count": 331,
   "metadata": {},
   "outputs": [],
   "source": [
    "# recursive\n",
    "def isSameTree1(p, q):\n",
    "    if p == None and q == None: return True\n",
    "    if p == None or q == None: return False\n",
    "\n",
    "    return p.val == q.val and \\\n",
    "           isSameTree(p.left, q.left) and \\\n",
    "           isSameTree(p.right, q.right)\n",
    "\n",
    "# iterative using stack\n",
    "def isSameTree(p, q):\n",
    "    stack = []\n",
    "    stack.append((p, q))\n",
    "    while len(stack) > 0:\n",
    "        p, q = stack.pop(0)\n",
    "        \n",
    "        if p == None and q == None: continue\n",
    "        if p == None or q == None: return False\n",
    "        if p.val != q.val: return False\n",
    "        \n",
    "        stack.append((p.left, q.left))\n",
    "        stack.append((p.right, q.right))\n",
    "    return True"
   ]
  },
  {
   "cell_type": "code",
   "execution_count": 332,
   "metadata": {},
   "outputs": [
    {
     "name": "stdout",
     "output_type": "stream",
     "text": [
      "False\n",
      "True\n",
      "True\n",
      "False\n",
      "False\n"
     ]
    }
   ],
   "source": [
    "class TreeNode:\n",
    "    def __init__(self, x, left=None, right=None):\n",
    "        self.val = x\n",
    "        self.left = left\n",
    "        self.right = right\n",
    "\n",
    "    def display(self, root, ind):\n",
    "        if root == None:\n",
    "            return\n",
    "        print(\" \"*ind, root.val)\n",
    "        self.display(root.left, ind + 2)\n",
    "        self.display(root.right, ind + 2)\n",
    "\n",
    "p = TreeNode(1)\n",
    "p.left = TreeNode(2)\n",
    "q = TreeNode(1)\n",
    "q.right = TreeNode(2)\n",
    "print(isSameTree(p, q)) # False\n",
    "\n",
    "p = TreeNode(1)\n",
    "p.left = TreeNode(2)\n",
    "p.right = TreeNode(3)\n",
    "q = TreeNode(1)\n",
    "q.left = TreeNode(2)\n",
    "q.right = TreeNode(3)\n",
    "#q.display(q, 1)\n",
    "\n",
    "print(isSameTree(p, q)) # True\n",
    "print(isSameTree(None, None)) # True\n",
    "print(isSameTree(None, q)) # False\n",
    "print(isSameTree(p, None)) # False"
   ]
  },
  {
   "cell_type": "markdown",
   "metadata": {},
   "source": [
    "### 119. Pascal's Triangle II"
   ]
  },
  {
   "cell_type": "code",
   "execution_count": 361,
   "metadata": {},
   "outputs": [],
   "source": [
    "def getRow(rowIndex):\n",
    "    row = [1] * (rowIndex + 1)\n",
    "    for r in range(0, rowIndex + 1):\n",
    "        prev = row[0]\n",
    "        for c in range(1, r):\n",
    "            cur = row[c]\n",
    "            row[c] = prev + cur\n",
    "            prev = cur\n",
    "    return row"
   ]
  },
  {
   "cell_type": "code",
   "execution_count": 355,
   "metadata": {},
   "outputs": [],
   "source": [
    "def getRow(rowIndex):\n",
    "    row = [1] * (rowIndex + 1)\n",
    "    for r in range(0, rowIndex + 1):\n",
    "        old = row[0]\n",
    "        for c in range(1, r):\n",
    "            row[c] = old + row[c]\n",
    "            old = row[c]\n",
    "    return row"
   ]
  },
  {
   "cell_type": "code",
   "execution_count": 362,
   "metadata": {},
   "outputs": [
    {
     "name": "stdout",
     "output_type": "stream",
     "text": [
      "[1]\n",
      "[1, 1]\n",
      "[1, 2, 1]\n",
      "[1, 3, 3, 1]\n",
      "[1, 4, 6, 4, 1]\n",
      "[1, 5, 10, 10, 5, 1]\n"
     ]
    }
   ],
   "source": [
    "print (getRow(0)) # [1]\n",
    "print (getRow(1)) # [1, 1]\n",
    "print (getRow(2)) # [1, 2, 1]\n",
    "print (getRow(3)) # [1, 3, 3, 1]\n",
    "print (getRow(4)) # [1, 4, 6, 4, 1]\n",
    "print (getRow(5)) # [1, 5, 10, 10, 5, 1]"
   ]
  },
  {
   "cell_type": "markdown",
   "metadata": {},
   "source": [
    "### 121 Best Time to Buy and Sell Stock"
   ]
  },
  {
   "cell_type": "code",
   "execution_count": 389,
   "metadata": {},
   "outputs": [],
   "source": [
    "def maxProfit(prices):\n",
    "    if len(prices) < 2: return 0\n",
    "    \n",
    "    maxPrice = 0 # Tracking Selling price\n",
    "    maxProfit = 0\n",
    "    for i in range(0, len(prices))[::-1]:\n",
    "        if prices[i] > maxPrice:\n",
    "            maxPrice = prices[i]\n",
    "        maxProfit = max(maxProfit, maxPrice - prices[i])\n",
    "    return maxProfit"
   ]
  },
  {
   "cell_type": "code",
   "execution_count": 390,
   "metadata": {},
   "outputs": [],
   "source": [
    "import sys\n",
    "def maxProfit(prices):\n",
    "    if len(prices) < 2: return 0\n",
    "\n",
    "    minPrice = sys.maxsize # Tracking buying price\n",
    "    maxProfit = 0\n",
    "    for i in range(len(prices)):\n",
    "        if prices[i] < minPrice:\n",
    "            minPrice = prices[i]\n",
    "        maxProfit = max(prices[i] - minPrice, maxProfit)\n",
    "        #print(i, minPrice, maxProfit)\n",
    "    return maxProfit"
   ]
  },
  {
   "cell_type": "code",
   "execution_count": 391,
   "metadata": {},
   "outputs": [
    {
     "name": "stdout",
     "output_type": "stream",
     "text": [
      "5\n",
      "0\n",
      "4\n"
     ]
    }
   ],
   "source": [
    "print(maxProfit([7,1,5,3,6,4])) # 5 \n",
    "print(maxProfit([7,6,4,3,1])) # 0\n",
    "print(maxProfit([1,2,3,4,5])) # 4"
   ]
  },
  {
   "cell_type": "markdown",
   "metadata": {},
   "source": [
    "### 122. Best Time to Buy and Sell Stock II"
   ]
  },
  {
   "cell_type": "code",
   "execution_count": 2,
   "metadata": {},
   "outputs": [],
   "source": [
    "import sys\n",
    "def maxProfit(prices):\n",
    "    if len(prices) < 2: return 0\n",
    "\n",
    "    maxProfit = 0\n",
    "    for i in range(1, len(prices)):\n",
    "        if prices[i] > prices[i - 1]:\n",
    "            maxProfit += (prices[i] - prices[i - 1])\n",
    "    return maxProfit"
   ]
  },
  {
   "cell_type": "code",
   "execution_count": 4,
   "metadata": {},
   "outputs": [
    {
     "name": "stdout",
     "output_type": "stream",
     "text": [
      "7\n",
      "0\n",
      "4\n",
      "15\n",
      "8\n"
     ]
    }
   ],
   "source": [
    "print(maxProfit([7,1,5,3,6,4]))\n",
    "print(maxProfit([7,6,4,3,1]))\n",
    "print(maxProfit([1,2,3,4,5]))\n",
    "print(maxProfit([1,2,4,2,5,7,2,4,9,0]))\n",
    "print(maxProfit([1,2,4,2,5,7]))"
   ]
  },
  {
   "cell_type": "markdown",
   "metadata": {},
   "source": [
    "### 125 Valid Palindrome"
   ]
  },
  {
   "cell_type": "code",
   "execution_count": 22,
   "metadata": {},
   "outputs": [],
   "source": [
    "def isPalindrome(s):\n",
    "    l, h = 0, len(s) - 1\n",
    "    while l < h:\n",
    "        #print(s[l], s[h])\n",
    "        if not s[l].isalnum():\n",
    "            l += 1\n",
    "            continue\n",
    "        if not s[h].isalnum():\n",
    "            h -= 1\n",
    "            continue\n",
    "        if s[l].lower() != s[h].lower():\n",
    "            return False\n",
    "        l +=1\n",
    "        h -= 1\n",
    "    return True"
   ]
  },
  {
   "cell_type": "code",
   "execution_count": 23,
   "metadata": {},
   "outputs": [
    {
     "name": "stdout",
     "output_type": "stream",
     "text": [
      "True\n",
      "True\n",
      "False\n",
      "False\n",
      "True\n",
      "True\n"
     ]
    }
   ],
   "source": [
    "print(isPalindrome(\"A man, a plan, a canal: Panama\")) # True\n",
    "print(isPalindrome(\"mala ya, la, m\")) # True\n",
    "print(isPalindrome(\"race a car\")) # False\n",
    "print(isPalindrome(\"0P\")) # False\n",
    "print(isPalindrome(\"p,,, \")) # True\n",
    "print(isPalindrome(\",,, \")) # True"
   ]
  },
  {
   "cell_type": "markdown",
   "metadata": {},
   "source": [
    "### 136. Single Number"
   ]
  },
  {
   "cell_type": "code",
   "execution_count": 481,
   "metadata": {},
   "outputs": [],
   "source": [
    "def singleNumber(nums):\n",
    "    res = 0\n",
    "    for num in nums:\n",
    "        res ^= num\n",
    "    return res"
   ]
  },
  {
   "cell_type": "code",
   "execution_count": 483,
   "metadata": {},
   "outputs": [
    {
     "name": "stdout",
     "output_type": "stream",
     "text": [
      "1\n",
      "4\n"
     ]
    }
   ],
   "source": [
    "print(singleNumber([2,2,1]))\n",
    "print(singleNumber([4,1,2,1,2]))"
   ]
  },
  {
   "cell_type": "markdown",
   "metadata": {},
   "source": [
    "### 155. Min Stack"
   ]
  },
  {
   "cell_type": "code",
   "execution_count": 27,
   "metadata": {},
   "outputs": [],
   "source": [
    "class MinStack:\n",
    "\n",
    "    def __init__(self):\n",
    "        \"\"\"\n",
    "        initialize your data structure here.\n",
    "        \"\"\"\n",
    "        self.data = []\n",
    "        self.mindata = []\n",
    "\n",
    "    def push(self, x):\n",
    "        \"\"\"\n",
    "        :type x: int\n",
    "        :rtype: void\n",
    "        \"\"\"\n",
    "        self.data.append(x)\n",
    "        \n",
    "        if self.mindata == []:\n",
    "            self.mindata.append(x)\n",
    "        else:\n",
    "            self.mindata.append(min(x, self.mindata[-1]))\n",
    "\n",
    "    def pop(self):\n",
    "        \"\"\"\n",
    "        :rtype: void\n",
    "        \"\"\"\n",
    "        self.data.pop()\n",
    "        self.mindata.pop()\n",
    "        return\n",
    "    \n",
    "    def top(self):\n",
    "        \"\"\"\n",
    "        :rtype: int\n",
    "        \"\"\"\n",
    "        return self.data[-1]\n",
    "\n",
    "    def getMin(self):\n",
    "        \"\"\"\n",
    "        :rtype: int\n",
    "        \"\"\"\n",
    "        if self.mindata == []:\n",
    "            return float(\"inf\")\n",
    "        return self.mindata[-1]\n"
   ]
  },
  {
   "cell_type": "code",
   "execution_count": 25,
   "metadata": {},
   "outputs": [],
   "source": [
    "class MinStack:\n",
    "\n",
    "    def __init__(self):\n",
    "        \"\"\"\n",
    "        initialize your data structure here.\n",
    "        \"\"\"\n",
    "        self.stack = []\n",
    "\n",
    "    def push(self, x):\n",
    "        \"\"\"\n",
    "        :type x: int\n",
    "        :rtype: void\n",
    "        \"\"\"\n",
    "        val = {\n",
    "            'val': x,\n",
    "            'min': min(x, self.getMin())\n",
    "        }\n",
    "        self.stack.append(val)\n",
    "\n",
    "    def pop(self):\n",
    "        \"\"\"\n",
    "        :rtype: void\n",
    "        \"\"\"\n",
    "        self.stack.pop()\n",
    "        return\n",
    "    \n",
    "    def top(self):\n",
    "        \"\"\"\n",
    "        :rtype: int\n",
    "        \"\"\"\n",
    "        return self.stack[-1]['val']\n",
    "\n",
    "    def getMin(self):\n",
    "        \"\"\"\n",
    "        :rtype: int\n",
    "        \"\"\"\n",
    "        if self.stack == []:\n",
    "            return float(\"inf\")\n",
    "        return self.stack[-1]['min']\n"
   ]
  },
  {
   "cell_type": "code",
   "execution_count": 28,
   "metadata": {},
   "outputs": [
    {
     "name": "stdout",
     "output_type": "stream",
     "text": [
      "-3\n",
      "0\n",
      "-2\n"
     ]
    }
   ],
   "source": [
    "minStack = MinStack()\n",
    "minStack.push(-2)\n",
    "minStack.push(0)\n",
    "minStack.push(-3)\n",
    "print(minStack.getMin())   # Returns -3.\n",
    "minStack.pop()\n",
    "print(minStack.top())      # Returns 0.\n",
    "print(minStack.getMin())   # Returns -2."
   ]
  },
  {
   "cell_type": "code",
   "execution_count": 30,
   "metadata": {},
   "outputs": [
    {
     "name": "stdout",
     "output_type": "stream",
     "text": [
      "0\n",
      "0\n",
      "0\n",
      "2\n"
     ]
    }
   ],
   "source": [
    "minStack = MinStack()\n",
    "minStack.push(2)\n",
    "minStack.push(0)\n",
    "minStack.push(3)\n",
    "minStack.push(0)\n",
    "print(minStack.getMin()) # 0\n",
    "minStack.pop()\n",
    "print(minStack.getMin()) # 0\n",
    "minStack.pop()\n",
    "print(minStack.getMin()) # 0\n",
    "minStack.pop()\n",
    "print(minStack.getMin()) # 2\n"
   ]
  },
  {
   "cell_type": "markdown",
   "metadata": {},
   "source": [
    "### 167. Two Sum II - Input array is sorted"
   ]
  },
  {
   "cell_type": "code",
   "execution_count": 539,
   "metadata": {},
   "outputs": [],
   "source": [
    "def twoSum(numbers, target):\n",
    "    l, h = 1, len(numbers)\n",
    "    while l < h:\n",
    "        if (numbers[l - 1] + numbers[h - 1]) < target:\n",
    "            l += 1\n",
    "        elif (numbers[l - 1] + numbers[h - 1]) > target:\n",
    "            h -= 1\n",
    "        else:\n",
    "            return l, h"
   ]
  },
  {
   "cell_type": "code",
   "execution_count": 540,
   "metadata": {},
   "outputs": [
    {
     "name": "stdout",
     "output_type": "stream",
     "text": [
      "(1, 2)\n",
      "(2, 3)\n",
      "(3, 4)\n"
     ]
    }
   ],
   "source": [
    "print(twoSum([2,7,11,15], 9))\n",
    "print(twoSum([2,7,11,15], 18))\n",
    "print(twoSum([2,7,11,15], 26))"
   ]
  },
  {
   "cell_type": "markdown",
   "metadata": {},
   "source": [
    "### 168. Excel Sheet Column Title"
   ]
  },
  {
   "cell_type": "code",
   "execution_count": 573,
   "metadata": {},
   "outputs": [],
   "source": [
    "def convertToTitle(n):\n",
    "    res = \"\"\n",
    "    while n > 0:\n",
    "        n -= 1\n",
    "        char = chr((n % 26) + ord('A'))\n",
    "        res += char\n",
    "        n //= 26\n",
    "    return res[::-1]"
   ]
  },
  {
   "cell_type": "code",
   "execution_count": 581,
   "metadata": {},
   "outputs": [],
   "source": [
    "def convertToTitle(n):\n",
    "    res = \"\"\n",
    "    while n > 0:\n",
    "        n -= 1\n",
    "        n, r = divmod(n, 26)\n",
    "        res = chr(r + ord('A')) + res\n",
    "    return res"
   ]
  },
  {
   "cell_type": "code",
   "execution_count": 760,
   "metadata": {
    "scrolled": true
   },
   "outputs": [
    {
     "name": "stdout",
     "output_type": "stream",
     "text": [
      "A\n",
      "AB\n",
      "ZY\n",
      "AZ\n",
      "SZ\n",
      "CUZ\n",
      "NTP\n"
     ]
    }
   ],
   "source": [
    "print (convertToTitle(1)) # A\n",
    "print (convertToTitle(28)) # AB\n",
    "print (convertToTitle(701)) # ZY\n",
    "print (convertToTitle(52)) # AZ\n",
    "print (convertToTitle(520)) # SZ\n",
    "print (convertToTitle(2600)) # CUZ\n",
    "print (convertToTitle(10000)) # NTP"
   ]
  },
  {
   "cell_type": "markdown",
   "metadata": {},
   "source": [
    "### 169. Majority Element"
   ]
  },
  {
   "cell_type": "code",
   "execution_count": 596,
   "metadata": {},
   "outputs": [],
   "source": [
    "# Brute Force\n",
    "# Time complexity O(n^2)\n",
    "# Space complexity O(1)\n",
    "def majorityElement(nums):\n",
    "    majorityCount = len(nums)//2\n",
    "    for num in nums:\n",
    "        count = 0\n",
    "        for ele in nums:\n",
    "            if ele == num:\n",
    "                count += 1\n",
    "        if count > majorityCount:\n",
    "            return num"
   ]
  },
  {
   "cell_type": "code",
   "execution_count": 608,
   "metadata": {},
   "outputs": [],
   "source": [
    "# Hash Map\n",
    "# Time complexity O(n)\n",
    "# Space complexity O(n)\n",
    "def majorityElement(nums):\n",
    "    majorityCount = len(nums)//2\n",
    "    numMap = {}\n",
    "    for num in nums:\n",
    "        count = numMap.get(num, 0) + 1\n",
    "        numMap[num] = count\n",
    "        if count > majorityCount:\n",
    "            return num"
   ]
  },
  {
   "cell_type": "code",
   "execution_count": 610,
   "metadata": {},
   "outputs": [],
   "source": [
    "# Sorting\n",
    "# Time complexity O(n lg n)\n",
    "# Space complexity O(1)\n",
    "def majorityElement(nums):\n",
    "    nums = sorted(nums)\n",
    "    return nums[len(nums)//2]"
   ]
  },
  {
   "cell_type": "code",
   "execution_count": 690,
   "metadata": {},
   "outputs": [],
   "source": [
    "# Divide and Conquer\n",
    "# Time complexity O(n lg n)\n",
    "# Space complexity O(lgn)\n",
    "def majorityElementRec(nums, lo, hi):#, ind):\n",
    "    if lo == hi:\n",
    "        #print(\" \"*ind, lo, hi, nums[lo])\n",
    "        return nums[lo]\n",
    "\n",
    "    mi = (hi - lo)//2 + lo\n",
    "    lh = majorityElementRec(nums, lo, mi)#, ind + 6)\n",
    "    rh = majorityElementRec(nums, mi + 1, hi)#, ind + 6)\n",
    "    if lh == rh:\n",
    "        #print(\" \"*ind, lo, hi, lh, rh)\n",
    "        return lh\n",
    "    lc = sum(1 for i in range(lo, hi + 1) if nums[i] == lh)\n",
    "    rc = sum(1 for i in range(lo, hi + 1) if nums[i] == rh)\n",
    "    lrm = lh if lc > rc else rh\n",
    "    #print(\" \"*ind, lo, hi, lrm)\n",
    "    return lrm\n",
    "    \n",
    "def majorityElement(nums):\n",
    "    return majorityElementRec(nums, 0, len(nums) - 1)#, 1)"
   ]
  },
  {
   "cell_type": "code",
   "execution_count": 697,
   "metadata": {},
   "outputs": [],
   "source": [
    "# Boyer-Moore Voting Algorithm\n",
    "# Time complexity O(n)\n",
    "# Space complexity O(1)\n",
    "def majorityElement(nums):\n",
    "    candidate = None\n",
    "    count = 0\n",
    "    for i in range(len(nums)):\n",
    "        if count == 0:\n",
    "            candidate = i\n",
    "        count += (1 if nums[i] == nums[candidate] else -1)\n",
    "    return nums[candidate]"
   ]
  },
  {
   "cell_type": "code",
   "execution_count": 696,
   "metadata": {},
   "outputs": [
    {
     "name": "stdout",
     "output_type": "stream",
     "text": [
      "3\n",
      "2\n",
      "7\n",
      "5\n"
     ]
    }
   ],
   "source": [
    "print(majorityElement([3,2,3])) # 3\n",
    "print(majorityElement([2,2,1,1,1,2,2])) # 2\n",
    "print(majorityElement([7,7,5,7,5,1,5,7,5,5,7,7,7,7,7,7])) # 7\n",
    "print(majorityElement([7,7,5,7,5,1,5,7,5,5,7,7,5,5,5,5])) # 5"
   ]
  },
  {
   "cell_type": "markdown",
   "metadata": {},
   "source": [
    "### 170. Two Sum III - Data structure design"
   ]
  },
  {
   "cell_type": "code",
   "execution_count": 714,
   "metadata": {},
   "outputs": [],
   "source": [
    "class TwoSum(object):\n",
    "\n",
    "    def __init__(self):\n",
    "        \"\"\"\n",
    "        Initialize your data structure here.\n",
    "        \"\"\"\n",
    "        self.nums = []\n",
    "\n",
    "    def add(self, number):\n",
    "        \"\"\"\n",
    "        Add the number to an internal data structure..\n",
    "        :type number: int\n",
    "        :rtype: void\n",
    "        \"\"\"\n",
    "        if self.nums == []:\n",
    "            self.nums.insert(0, number)\n",
    "            return\n",
    "        for i in range(len(self.nums)):\n",
    "            if self.nums[i] > number:\n",
    "                self.nums.insert(i, number)\n",
    "                return\n",
    "        self.nums.append(number)\n",
    "\n",
    "        #self.nums.append(number)\n",
    "        #self.nums = sorted(self.nums)\n",
    "        \n",
    "    def find(self, value):\n",
    "        \"\"\"\n",
    "        Find if there exists any pair of numbers which sum is equal to the value.\n",
    "        :type value: int\n",
    "        :rtype: bool\n",
    "        \"\"\"\n",
    "        print(self.nums)\n",
    "        lo, hi = 0, len(self.nums) - 1\n",
    "        while lo < hi:\n",
    "            if (self.nums[lo] + self.nums[hi]) < value:\n",
    "                lo += 1\n",
    "            elif (self.nums[lo] + self.nums[hi]) > value:\n",
    "                hi -= 1\n",
    "            else:\n",
    "                return True\n",
    "        return False\n",
    "        "
   ]
  },
  {
   "cell_type": "code",
   "execution_count": 746,
   "metadata": {},
   "outputs": [],
   "source": [
    "class TwoSum(object):\n",
    "\n",
    "    def __init__(self):\n",
    "        \"\"\"\n",
    "        Initialize your data structure here.\n",
    "        \"\"\"\n",
    "        self.nums = {}\n",
    "\n",
    "    def add(self, number):\n",
    "        \"\"\"\n",
    "        Add the number to an internal data structure..\n",
    "        :type number: int\n",
    "        :rtype: void\n",
    "        \"\"\"\n",
    "        self.nums[number] = self.nums.get(number, 0) + 1\n",
    "        \n",
    "    def find(self, value):\n",
    "        \"\"\"\n",
    "        Find if there exists any pair of numbers which sum is equal to the value.\n",
    "        :type value: int\n",
    "        :rtype: bool\n",
    "        \"\"\"\n",
    "        d = self.nums\n",
    "        for n in d:\n",
    "            t = value - n\n",
    "            if t in d and d[t] - (t is n):\n",
    "                return True\n",
    "        return False"
   ]
  },
  {
   "cell_type": "code",
   "execution_count": 747,
   "metadata": {},
   "outputs": [
    {
     "name": "stdout",
     "output_type": "stream",
     "text": [
      "True\n",
      "False\n",
      "True\n",
      "True\n",
      "False\n",
      "True\n"
     ]
    }
   ],
   "source": [
    "obj = TwoSum()\n",
    "obj.add(1)\n",
    "obj.add(5)\n",
    "obj.add(3)\n",
    "obj.add(-1)\n",
    "obj.add(5)\n",
    "\n",
    "print(obj.find(4)) # True\n",
    "print(obj.find(3)) # False\n",
    "print(obj.find(6)) # True\n",
    "print(obj.find(8)) # True\n",
    "print(obj.find(9)) # False\n",
    "print(obj.find(10)) # True"
   ]
  },
  {
   "cell_type": "markdown",
   "metadata": {},
   "source": [
    "### 171. Excel Sheet Column Number"
   ]
  },
  {
   "cell_type": "code",
   "execution_count": 757,
   "metadata": {},
   "outputs": [],
   "source": [
    "def titleToNumber(s):\n",
    "    if s == \"\": return 0\n",
    "    mul = 1\n",
    "    number = 0\n",
    "    for c in s[::-1]:\n",
    "        number = number + mul * (ord(c) - ord('A') + 1)\n",
    "        mul *= 26\n",
    "    return number"
   ]
  },
  {
   "cell_type": "code",
   "execution_count": 761,
   "metadata": {},
   "outputs": [
    {
     "name": "stdout",
     "output_type": "stream",
     "text": [
      "1\n",
      "28\n",
      "701\n",
      "52\n",
      "520\n",
      "2600\n",
      "10000\n"
     ]
    }
   ],
   "source": [
    "print (titleToNumber('A')) # 1\n",
    "print (titleToNumber('AB')) # 28\n",
    "print (titleToNumber('ZY')) # 701\n",
    "print (titleToNumber('AZ')) # 52\n",
    "print (titleToNumber('SZ')) # 520\n",
    "print (titleToNumber('CUZ')) # 2600\n",
    "print (titleToNumber('NTP')) # 10000"
   ]
  },
  {
   "cell_type": "markdown",
   "metadata": {},
   "source": [
    "### 172. Factorial Trailing Zeroes\n",
    "All trailing zeros are come from even_num x 5, we have more even_num than 5, so only count factor 5.\n",
    "\n",
    "4! = 1x2x3x4 = 24, we haven’t encountered any 5 yet, so we don’t have any trailing zero.\n",
    "\n",
    "5! = 1x2x3x4x5 = 120, we have one trailing zero. either 2×5, or 4×5 can contribute to that zero.\n",
    "\n",
    "9! = 362880, we only encountered 5 once, so 1 trailing zero as expected.\n",
    "\n",
    "10! = 3628800, 2 trailing zeros, since we have two numbers that have factor 5, one is 5 and the other is 10 (2×5)\n",
    "\n",
    "What about 100! then?\n",
    "\n",
    "100/5 = 20, we have 20 numbers have factor 5: 5, 10, 15, 20, 25, …, 95, 100.\n",
    "\n",
    "Is the number of trailing zero 20? No, it’s 24, why?\n",
    "\n",
    "Within that 20 numbers, we have 4 of them: 25 (5×5), 50 (2x5x5), 75 (3x5x5), 100 (4x5x5) that have an extra factor of 5.\n",
    "\n",
    "So, for a given number n, we are looking how many numbers <=n have factor 5, 5×5, 5x5x5, …\n",
    "\n",
    "Summing those numbers up we got the answer.\n",
    "\n",
    "e.g. 1000! has 249 trailing zeros:\n",
    "\n",
    "1000/5 = 200\n",
    "\n",
    "1000/25 = 40\n",
    "\n",
    "1000/125 = 8\n",
    "\n",
    "1000/625 = 1\n",
    "\n",
    "200 + 40 + 8 + 1 = 249\n",
    "\n",
    "alternatively, we can do the following\n",
    "\n",
    "1000/5 = 200\n",
    "\n",
    "200/5 = 40\n",
    "\n",
    "40/5 = 8\n",
    "\n",
    "8/5 = 1\n",
    "\n",
    "1/5 = 0\n",
    "\n",
    "200 + 40 + 8 + 1 + 0 = 249\n",
    "\n"
   ]
  },
  {
   "cell_type": "code",
   "execution_count": 776,
   "metadata": {},
   "outputs": [],
   "source": [
    "def trailingZeroes(n):\n",
    "    count = 0\n",
    "    while n > 0:\n",
    "        n = n//5\n",
    "        count += n\n",
    "    return count"
   ]
  },
  {
   "cell_type": "code",
   "execution_count": 774,
   "metadata": {},
   "outputs": [],
   "source": [
    "# Time complexity O(log5 n)\n",
    "def trailingZeroes(n):\n",
    "    return (0 if n < 5 else n//5 + trailingZeroes(n//5))"
   ]
  },
  {
   "cell_type": "code",
   "execution_count": 777,
   "metadata": {},
   "outputs": [
    {
     "name": "stdout",
     "output_type": "stream",
     "text": [
      "0\n",
      "1\n",
      "249\n"
     ]
    }
   ],
   "source": [
    "print(trailingZeroes(3))\n",
    "print(trailingZeroes(5))\n",
    "print(trailingZeroes(1000))"
   ]
  },
  {
   "cell_type": "markdown",
   "metadata": {},
   "source": [
    "### 189. Rotate Array"
   ]
  },
  {
   "cell_type": "code",
   "execution_count": 816,
   "metadata": {},
   "outputs": [],
   "source": [
    "# Brute Force\n",
    "# Time complexity O(n*k)\n",
    "# Space complexity O(1)\n",
    "def rotate(nums, k):\n",
    "    while(k > 0):\n",
    "        last = nums[-1]\n",
    "        for i in range(len(nums)-1, 0, -1):\n",
    "            nums[i] = nums[i-1]\n",
    "        nums[0] = last\n",
    "        k -= 1"
   ]
  },
  {
   "cell_type": "code",
   "execution_count": 35,
   "metadata": {},
   "outputs": [],
   "source": [
    "# Using Reverse\n",
    "# Time complexity O(n), three passes\n",
    "# Space complexity O(1)\n",
    "def rotate(nums, k):\n",
    "    if len(nums) < 2: return\n",
    "    k = k % len(nums)\n",
    "    if k == 0: return\n",
    "    \n",
    "    reverse(nums, 0, len(nums)) # [7,6,5,4,3,2,1]\n",
    "    reverse(nums, 0, k)         # [5,6,7,4,3,2,1]\n",
    "    reverse(nums, k, len(nums)) # [5,6,7,1,2,3,4]\n",
    "    \n",
    "def reverse(nums, lo, hi):\n",
    "    while lo < hi:\n",
    "        nums[lo], nums[hi - 1] = nums[hi - 1], nums[lo]\n",
    "        lo += 1\n",
    "        hi -= 1"
   ]
  },
  {
   "cell_type": "code",
   "execution_count": 34,
   "metadata": {},
   "outputs": [
    {
     "name": "stdout",
     "output_type": "stream",
     "text": [
      "[7, 1, 2, 3, 4, 5, 6]\n",
      "[6, 7, 1, 2, 3, 4, 5]\n",
      "[5, 6, 7, 1, 2, 3, 4]\n",
      "[4, 5, 6, 7, 1, 2, 3]\n",
      "[3, 4, 5, 6, 7, 1, 2]\n",
      "[2, 3, 4, 5, 6, 7, 1]\n",
      "[1, 2, 3, 4, 5, 6, 7]\n",
      "[-1]\n",
      "[2, 1]\n"
     ]
    }
   ],
   "source": [
    "nums = [1,2,3,4,5,6,7]; rotate(nums, 1); print(nums)\n",
    "nums = [1,2,3,4,5,6,7]; rotate(nums, 2); print(nums)\n",
    "nums = [1,2,3,4,5,6,7]; rotate(nums, 3); print(nums)\n",
    "nums = [1,2,3,4,5,6,7]; rotate(nums, 4); print(nums)\n",
    "nums = [1,2,3,4,5,6,7]; rotate(nums, 5); print(nums)\n",
    "nums = [1,2,3,4,5,6,7]; rotate(nums, 6); print(nums)\n",
    "nums = [1,2,3,4,5,6,7]; rotate(nums, 7); print(nums)\n",
    "nums = [-1]; rotate(nums, 2); print(nums)\n",
    "nums = [1, 2]; rotate(nums, 3); print(nums)"
   ]
  },
  {
   "cell_type": "markdown",
   "metadata": {},
   "source": [
    "### 190. Reverse Bits"
   ]
  },
  {
   "cell_type": "code",
   "execution_count": 162,
   "metadata": {},
   "outputs": [],
   "source": [
    "def reverseBits(n):\n",
    "    ans = 0\n",
    "    for i in range(32):\n",
    "        set_mask = (n >> i) & 1\n",
    "        if set_mask != 0:\n",
    "            ans |= set_mask << (31 - i)\n",
    "    return ans"
   ]
  },
  {
   "cell_type": "code",
   "execution_count": 163,
   "metadata": {},
   "outputs": [
    {
     "name": "stdout",
     "output_type": "stream",
     "text": [
      "637534208\n",
      "3355443200\n",
      "2181038080\n",
      "964176192\n"
     ]
    }
   ],
   "source": [
    "print(reverseBits(100)) # 637534208\n",
    "print(reverseBits(19)) # 3355443200\n",
    "print(reverseBits(65)) # 2181038080\n",
    "print(reverseBits(43261596)) # 964176192"
   ]
  },
  {
   "cell_type": "markdown",
   "metadata": {},
   "source": [
    "### 191. Number of 1 Bits"
   ]
  },
  {
   "cell_type": "code",
   "execution_count": 171,
   "metadata": {},
   "outputs": [],
   "source": [
    "def hammingWeight(n):\n",
    "    count = 0\n",
    "    while n:\n",
    "        n &= (n - 1)\n",
    "        count += 1\n",
    "    return count"
   ]
  },
  {
   "cell_type": "code",
   "execution_count": 172,
   "metadata": {},
   "outputs": [
    {
     "name": "stdout",
     "output_type": "stream",
     "text": [
      "2\n",
      "3\n"
     ]
    }
   ],
   "source": [
    "print(hammingWeight(10)) # 2\n",
    "print(hammingWeight(11)) # 3"
   ]
  },
  {
   "cell_type": "markdown",
   "metadata": {},
   "source": [
    "### 198. House Robber"
   ]
  },
  {
   "cell_type": "code",
   "execution_count": 191,
   "metadata": {},
   "outputs": [],
   "source": [
    "# dynamic programming\n",
    "def rob(nums):\n",
    "    prevMax = 0\n",
    "    curMax = 0\n",
    "    for num in nums:\n",
    "        newMax = max(prevMax + num, curMax)\n",
    "        prevMax = curMax\n",
    "        curMax = newMax\n",
    "    return curMax"
   ]
  },
  {
   "cell_type": "code",
   "execution_count": 193,
   "metadata": {},
   "outputs": [
    {
     "name": "stdout",
     "output_type": "stream",
     "text": [
      "1100\n",
      "4\n",
      "12\n",
      "4\n"
     ]
    }
   ],
   "source": [
    "print(rob([100,79,100,1000])) # 1100\n",
    "print(rob([1,2,3,1]))   # 4\n",
    "print(rob([2,7,9,3,1])) # 12\n",
    "print(rob([2,1,1,2]))   # 4"
   ]
  },
  {
   "cell_type": "markdown",
   "metadata": {},
   "source": [
    "### 202. Happy Number"
   ]
  },
  {
   "cell_type": "code",
   "execution_count": 226,
   "metadata": {},
   "outputs": [],
   "source": [
    "def isHappy(n):\n",
    "    while n != 1 and n != 4:\n",
    "        n = digitsSum(n)\n",
    "    return n == 1\n",
    "\n",
    "def digitsSum(n):\n",
    "    sum = 0\n",
    "    while n:\n",
    "        sum += (n % 10) * (n % 10)\n",
    "        n //= 10\n",
    "    return sum"
   ]
  },
  {
   "cell_type": "code",
   "execution_count": 237,
   "metadata": {},
   "outputs": [],
   "source": [
    "def isHappy(n):\n",
    "    numMap = {}\n",
    "    while n != 1:\n",
    "        numMap[n] = True\n",
    "        n = digitsSum(n)\n",
    "        if numMap.get(n, False):\n",
    "            return False\n",
    "    return n == 1\n",
    "\n",
    "def digitsSum(n):\n",
    "    sum = 0\n",
    "    while n:\n",
    "        sum += (n % 10) * (n % 10)\n",
    "        n //= 10\n",
    "    return sum"
   ]
  },
  {
   "cell_type": "code",
   "execution_count": 238,
   "metadata": {},
   "outputs": [
    {
     "name": "stdout",
     "output_type": "stream",
     "text": [
      "True\n",
      "False\n",
      "False\n",
      "False\n",
      "False\n",
      "False\n",
      "True\n",
      "False\n",
      "False\n",
      "True\n",
      "False\n"
     ]
    }
   ],
   "source": [
    "print(isHappy(1))\n",
    "print(isHappy(2))\n",
    "print(isHappy(3))\n",
    "print(isHappy(4))\n",
    "print(isHappy(5))\n",
    "print(isHappy(6))\n",
    "print(isHappy(7))\n",
    "print(isHappy(8))\n",
    "print(isHappy(9))\n",
    "print(isHappy(10))\n",
    "print(isHappy(11))"
   ]
  },
  {
   "cell_type": "markdown",
   "metadata": {},
   "source": [
    "### 204. Count Primes"
   ]
  },
  {
   "cell_type": "code",
   "execution_count": 304,
   "metadata": {},
   "outputs": [],
   "source": [
    "def countPrimes(n):\n",
    "    if n <= 2: return 0\n",
    "\n",
    "    primeCount = 0\n",
    "    for i in range(2, n):\n",
    "        primeCount += (1 if isPrime(i) else 0)\n",
    "        #print(i, primeCount)\n",
    "    return primeCount\n",
    "\n",
    "def isPrime(num):\n",
    "    numBy2 = num\n",
    "    if num > 6:\n",
    "        numBy2 = num // 2\n",
    "    for i in range(2, numBy2):\n",
    "        if num % i == 0:\n",
    "            #print(num, \"False\")\n",
    "            return False\n",
    "    #print(num, \"True\")\n",
    "    return True"
   ]
  },
  {
   "cell_type": "code",
   "execution_count": 309,
   "metadata": {},
   "outputs": [],
   "source": [
    "def countPrimes(n):\n",
    "    num=[1 for x in range(n)] \n",
    "    i = 2\n",
    "    while i * i < n:\n",
    "        j = 2\n",
    "        while j*i < n:\n",
    "            num[j*i] = 0\n",
    "            j += 1\n",
    "        i += 1\n",
    "        while num[i] == 0 and i * i < n:\n",
    "            i += 1\n",
    "\n",
    "    return sum(num[2::])"
   ]
  },
  {
   "cell_type": "code",
   "execution_count": 310,
   "metadata": {},
   "outputs": [
    {
     "name": "stdout",
     "output_type": "stream",
     "text": [
      "0\n",
      "1\n",
      "2\n",
      "2\n",
      "3\n",
      "3\n",
      "4\n",
      "41537\n"
     ]
    }
   ],
   "source": [
    "print (countPrimes(2)) # 0\n",
    "print (countPrimes(3)) # 1\n",
    "print (countPrimes(4)) # 2\n",
    "print (countPrimes(5)) # 3\n",
    "print (countPrimes(6)) # 3\n",
    "print (countPrimes(7)) # 4\n",
    "print (countPrimes(10)) # 4\n",
    "print (countPrimes(499979))"
   ]
  },
  {
   "cell_type": "markdown",
   "metadata": {},
   "source": [
    "### 205. Isomorphic Strings"
   ]
  },
  {
   "cell_type": "code",
   "execution_count": 4,
   "metadata": {},
   "outputs": [],
   "source": [
    "def isIsomorphic(s, t):\n",
    "    if len(s) != len(t):\n",
    "        return False\n",
    "    \n",
    "    isoMap = {}\n",
    "    for i in range(len(s)):\n",
    "        if s[i] in isoMap:\n",
    "            if isoMap[s[i]] != t[i]:\n",
    "                return False\n",
    "        elif t[i] in isoMap.values():\n",
    "            return False\n",
    "        else:\n",
    "            isoMap[s[i]] = t[i]\n",
    "    return True"
   ]
  },
  {
   "cell_type": "code",
   "execution_count": 16,
   "metadata": {},
   "outputs": [],
   "source": [
    "import collections\n",
    "def isIsomorphic(s, t):\n",
    "    N = len(s)\n",
    "        \n",
    "    dictS = collections.defaultdict(int)\n",
    "    dictT = collections.defaultdict(int)\n",
    "\n",
    "    for idx in range(N):\n",
    "        if dictS[s[idx]] != dictT[t[idx]]:\n",
    "            return False\n",
    "        dictS[s[idx]], dictT[t[idx]] = idx+1, idx+1\n",
    "        #print(s[idx], t[idx], dictS[s[idx]], dictT[t[idx]])\n",
    "    return True"
   ]
  },
  {
   "cell_type": "code",
   "execution_count": 19,
   "metadata": {},
   "outputs": [
    {
     "name": "stdout",
     "output_type": "stream",
     "text": [
      "PASS\n",
      "PASS\n",
      "PASS\n",
      "PASS\n",
      "PASS\n",
      "PASS\n",
      "PASS\n",
      "PASS\n",
      "PASS\n"
     ]
    }
   ],
   "source": [
    "# key => e g g\n",
    "# val => 1 2 3\n",
    "# key => a d d\n",
    "print(\"PASS\" if True  == isIsomorphic(\"egg\",\n",
    "                                      \"add\") else \"FAIL\") # True\n",
    "print(\"PASS\" if False == isIsomorphic(\"egg\",\n",
    "                                      \"ada\") else \"FAIL\") # False\n",
    "print(\"PASS\" if False == isIsomorphic(\"foo\",\n",
    "                                      \"bar\") else \"FAIL\") # False\n",
    "print(\"PASS\" if True  == isIsomorphic(\"paper\", \n",
    "                                      \"title\") else \"FAIL\") # True\n",
    "print(\"PASS\" if False == isIsomorphic(\"ab\",\n",
    "                                      \"aa\") else \"FAIL\") # False\n",
    "print(\"PASS\" if False == isIsomorphic(\"bc\",\n",
    "                                      \"aa\") else \"FAIL\") # False\n",
    "print(\"PASS\" if True  == isIsomorphic(\"bb\",\n",
    "                                      \"aa\") else \"FAIL\") # True\n",
    "print(\"PASS\" if True  == isIsomorphic(\"er\",\n",
    "                                      \"le\") else \"FAIL\") # True\n",
    "# key => e l\n",
    "# val => 1 2\n",
    "# key => l e\n",
    "print(\"PASS\" if True  == isIsomorphic(\"el\",\n",
    "                                      \"le\") else \"FAIL\") # True"
   ]
  },
  {
   "cell_type": "markdown",
   "metadata": {},
   "source": [
    "### 217. Contains Duplicate"
   ]
  },
  {
   "cell_type": "code",
   "execution_count": 30,
   "metadata": {},
   "outputs": [],
   "source": [
    "def containsDuplicate(nums):\n",
    "    record = set()\n",
    "    for num in nums:\n",
    "        if num in record:\n",
    "            return True\n",
    "        record.add(num)\n",
    "    return False"
   ]
  },
  {
   "cell_type": "code",
   "execution_count": 322,
   "metadata": {},
   "outputs": [
    {
     "name": "stdout",
     "output_type": "stream",
     "text": [
      "True\n",
      "False\n",
      "True\n"
     ]
    }
   ],
   "source": [
    "print (containsDuplicate([1,2,3,1])) # True\n",
    "print (containsDuplicate([1,2,3,4])) # False\n",
    "print (containsDuplicate([1,1,1,3,3,4,3,2,4,2])) # True"
   ]
  },
  {
   "cell_type": "markdown",
   "metadata": {},
   "source": [
    "### 219. Contains Duplicate II"
   ]
  },
  {
   "cell_type": "code",
   "execution_count": 1,
   "metadata": {},
   "outputs": [],
   "source": [
    "def containsNearbyDuplicate(nums, k):\n",
    "    indexMap = {}\n",
    "    for i, num in enumerate(nums):\n",
    "        if num in indexMap and (i - indexMap[num]) <= k:\n",
    "            return True\n",
    "        indexMap[num] = i\n",
    "    return False"
   ]
  },
  {
   "cell_type": "code",
   "execution_count": 2,
   "metadata": {},
   "outputs": [
    {
     "name": "stdout",
     "output_type": "stream",
     "text": [
      "True\n",
      "True\n",
      "False\n",
      "True\n"
     ]
    }
   ],
   "source": [
    "print(containsNearbyDuplicate([1,2,3,1], 3)) # True\n",
    "print(containsNearbyDuplicate([1,0,1,1], 1)) # True\n",
    "print(containsNearbyDuplicate([1,2,3,1,2,3], 2)) # False\n",
    "print(containsNearbyDuplicate([99,99], 2)) # True"
   ]
  },
  {
   "cell_type": "markdown",
   "metadata": {},
   "source": [
    "### 225. Implement Stack using Queues"
   ]
  },
  {
   "cell_type": "code",
   "execution_count": 32,
   "metadata": {},
   "outputs": [],
   "source": [
    "# 1) Two Queues, push - O(1), pop O(n)\n",
    "# 2) Two Queues, push - O(n), pop O(1)\n",
    "\n",
    "# 3) One Queue, push - O(n), pop O(1)\n",
    "class MyStack:\n",
    "\n",
    "    def __init__(self):\n",
    "        \"\"\"\n",
    "        Initialize your data structure here.\n",
    "        \"\"\"\n",
    "        self.queue = []\n",
    "\n",
    "    def push(self, x):\n",
    "        \"\"\"\n",
    "        Push element x onto stack.\n",
    "        :type x: int\n",
    "        :rtype: void\n",
    "        \"\"\"\n",
    "        self.queue.append(x)\n",
    "        size = len(self.queue)\n",
    "        while size > 1:\n",
    "            self.queue.append(self.queue.pop(0))\n",
    "            size -= 1\n",
    "\n",
    "    def pop(self):\n",
    "        \"\"\"\n",
    "        Removes the element on top of the stack and returns that element.\n",
    "        :rtype: int\n",
    "        \"\"\"\n",
    "        if len(self.queue) > 0:\n",
    "            return self.queue.pop(0)\n",
    "\n",
    "    def top(self):\n",
    "        \"\"\"\n",
    "        Get the top element.\n",
    "        :rtype: int\n",
    "        \"\"\"\n",
    "        if len(self.queue) > 0:\n",
    "            return self.queue[0]\n",
    "\n",
    "    def empty(self):\n",
    "        \"\"\"\n",
    "        Returns whether the stack is empty.\n",
    "        :rtype: bool\n",
    "        \"\"\"\n",
    "        return self.queue == []\n",
    "\n",
    "\n",
    "# Your MyStack object will be instantiated and called as such:\n",
    "# obj = MyStack()\n",
    "# obj.push(x)\n",
    "# param_2 = obj.pop()\n",
    "# param_3 = obj.top()\n",
    "# param_4 = obj.empty()"
   ]
  },
  {
   "cell_type": "code",
   "execution_count": 36,
   "metadata": {},
   "outputs": [
    {
     "name": "stdout",
     "output_type": "stream",
     "text": [
      "10\n",
      "True\n",
      "40\n",
      "40\n",
      "30\n",
      "20\n",
      "10\n",
      "True\n"
     ]
    }
   ],
   "source": [
    "obj = MyStack()\n",
    "obj.push(10)\n",
    "print(obj.pop())\n",
    "print(obj.empty())\n",
    "\n",
    "obj.push(10)\n",
    "obj.push(20)\n",
    "obj.push(30)\n",
    "obj.push(40)\n",
    "print(obj.top())\n",
    "print(obj.pop())\n",
    "print(obj.pop())\n",
    "print(obj.pop())\n",
    "print(obj.pop())\n",
    "print(obj.empty())"
   ]
  },
  {
   "cell_type": "markdown",
   "metadata": {},
   "source": [
    "### 232. Implement Queue using Stacks"
   ]
  },
  {
   "cell_type": "code",
   "execution_count": 18,
   "metadata": {},
   "outputs": [],
   "source": [
    "# (Two Stacks) Push - O(n) per operation, Pop - O(1) per operation\n",
    "class MyQueue:\n",
    "\n",
    "    def __init__(self):\n",
    "        \"\"\"\n",
    "        Initialize your data structure here.\n",
    "        \"\"\"\n",
    "        self.stack = []\n",
    "\n",
    "    def push(self, x):\n",
    "        \"\"\"\n",
    "        Push element x to the back of queue.\n",
    "        :type x: int\n",
    "        :rtype: void\n",
    "        \"\"\"\n",
    "        auxStack = []\n",
    "        while len(self.stack) > 0:\n",
    "            auxStack.append(self.stack.pop(-1))\n",
    "\n",
    "        self.stack.append(x)\n",
    "        while len(auxStack) > 0:\n",
    "            self.stack.append(auxStack.pop(-1))\n",
    "\n",
    "    def pop(self):\n",
    "        \"\"\"\n",
    "        Removes the element from in front of queue and returns that element.\n",
    "        :rtype: int\n",
    "        \"\"\"\n",
    "        if len(self.stack) == 0:\n",
    "            return None\n",
    "        \n",
    "        return self.stack.pop(-1)\n",
    "    \n",
    "    def peek(self):\n",
    "        \"\"\"\n",
    "        Get the front element.\n",
    "        :rtype: int\n",
    "        \"\"\"\n",
    "        if len(self.stack) == 0:\n",
    "            return None\n",
    "        \n",
    "        return self.stack[-1]\n",
    "\n",
    "    def empty(self):\n",
    "        \"\"\"\n",
    "        Returns whether the queue is empty.\n",
    "        :rtype: bool\n",
    "        \"\"\"\n",
    "        return len(self.stack) == 0\n",
    "\n",
    "\n",
    "# Your MyQueue object will be instantiated and called as such:\n",
    "# obj = MyQueue()\n",
    "# obj.push(x)\n",
    "# param_2 = obj.pop()\n",
    "# param_3 = obj.peek()\n",
    "# param_4 = obj.empty()"
   ]
  },
  {
   "cell_type": "code",
   "execution_count": 19,
   "metadata": {},
   "outputs": [
    {
     "name": "stdout",
     "output_type": "stream",
     "text": [
      "None\n",
      "None\n",
      "None\n",
      "None\n",
      "10\n",
      "20\n",
      "30\n"
     ]
    }
   ],
   "source": [
    "obj = MyQueue()\n",
    "print(obj.pop())\n",
    "print(obj.push(10))\n",
    "print(obj.push(20))\n",
    "print(obj.push(30))\n",
    "print(obj.pop())\n",
    "print(obj.pop())\n",
    "print(obj.pop())\n"
   ]
  },
  {
   "cell_type": "markdown",
   "metadata": {},
   "source": [
    "### 243. Shortest Word Distance"
   ]
  },
  {
   "cell_type": "code",
   "execution_count": 110,
   "metadata": {},
   "outputs": [],
   "source": [
    "def shortestDistance(words, word1, word2):\n",
    "    found = None\n",
    "    shortest = len(words)\n",
    "    for i in range(len(words)):\n",
    "        if word1 == words[i] or word2 == words[i]:\n",
    "            if found != None and words[i] != words[found]:\n",
    "                shortest = min(abs(i - found), shortest)\n",
    "            found = i\n",
    "    return shortest\n"
   ]
  },
  {
   "cell_type": "code",
   "execution_count": 111,
   "metadata": {},
   "outputs": [
    {
     "name": "stdout",
     "output_type": "stream",
     "text": [
      "3\n",
      "1\n",
      "1\n"
     ]
    }
   ],
   "source": [
    "print(shortestDistance([\"practice\", \"makes\", \"perfect\", \"coding\", \"makes\"], \"coding\", \"practice\"))\n",
    "print(shortestDistance([\"practice\", \"makes\", \"perfect\", \"coding\", \"makes\"], \"makes\", \"coding\"))\n",
    "print(shortestDistance([\"practice\", \"makes\", \"perfect\", \"coding\", \"makes\"], \"makes\", \"practice\"))"
   ]
  },
  {
   "cell_type": "markdown",
   "metadata": {},
   "source": [
    "### 246. Strobogrammatic Number"
   ]
  },
  {
   "cell_type": "code",
   "execution_count": 149,
   "metadata": {},
   "outputs": [],
   "source": [
    "# 1, 6, 8, 9\n",
    "def isStrobogrammatic(num):\n",
    "    numMap = {'0':'0', '1':'1', '6':'9', '8':'8', '9':'6'}\n",
    "    new_n = ''\n",
    "    for ch in num[::-1]:\n",
    "        if ch in numMap:\n",
    "            new_n += numMap[ch]\n",
    "        else:\n",
    "            return False\n",
    "    return num == new_n\n"
   ]
  },
  {
   "cell_type": "code",
   "execution_count": 150,
   "metadata": {},
   "outputs": [
    {
     "name": "stdout",
     "output_type": "stream",
     "text": [
      "False\n",
      "True\n",
      "True\n",
      "True\n",
      "True\n"
     ]
    }
   ],
   "source": [
    "print(isStrobogrammatic(\"222\"))\n",
    "print(isStrobogrammatic(\"101\"))\n",
    "print(isStrobogrammatic(\"69\"))\n",
    "print(isStrobogrammatic(\"96\"))\n",
    "print(isStrobogrammatic(\"888\"))"
   ]
  },
  {
   "cell_type": "markdown",
   "metadata": {},
   "source": [
    "### 252. Meeting Rooms"
   ]
  },
  {
   "cell_type": "code",
   "execution_count": 168,
   "metadata": {},
   "outputs": [],
   "source": [
    "def canAttendMeetings(intervals):\n",
    "    if len(intervals) == 1:\n",
    "        return True\n",
    "    #intervals = [tuple(meet) for meet in intervals]\n",
    "    intervals = sorted(intervals)\n",
    "    #print(intervals)\n",
    "    for i in range(1, len(intervals)):\n",
    "        if intervals[i][0] < intervals[i - 1][1]:\n",
    "            return False\n",
    "    return True"
   ]
  },
  {
   "cell_type": "code",
   "execution_count": 167,
   "metadata": {},
   "outputs": [
    {
     "name": "stdout",
     "output_type": "stream",
     "text": [
      "[[0, 30], [5, 10], [15, 20]]\n",
      "False\n",
      "[[0, 3], [5, 10], [15, 20]]\n",
      "True\n",
      "[[2, 4], [7, 10]]\n",
      "True\n"
     ]
    }
   ],
   "source": [
    "print(canAttendMeetings([[0,30],[5,10],[15,20]]))\n",
    "print(canAttendMeetings([[0,3],[5,10],[15,20]]))\n",
    "print(canAttendMeetings([[7,10],[2,4]]))"
   ]
  },
  {
   "cell_type": "markdown",
   "metadata": {},
   "source": [
    "### 256. Paint House"
   ]
  },
  {
   "cell_type": "code",
   "execution_count": 185,
   "metadata": {},
   "outputs": [],
   "source": [
    "import sys\n",
    "def minCost(costs):\n",
    "    houseCount = len(costs)\n",
    "    if houseCount == 0:\n",
    "        return 0\n",
    "    for i in range(1, houseCount):\n",
    "        for j in range(3):\n",
    "            j1 = (j + 1) % 3\n",
    "            j2 = (j + 2) % 3\n",
    "            costs[i][j] = min(costs[i][j] + costs[i - 1][j1], costs[i][j] + costs[i - 1][j2])\n",
    "    return min(costs[houseCount - 1])"
   ]
  },
  {
   "cell_type": "code",
   "execution_count": 335,
   "metadata": {},
   "outputs": [],
   "source": [
    "import sys\n",
    "def minCost(costs):\n",
    "    prev = [0] * 3\n",
    "    for cost in costs:\n",
    "        prev = [cost[i] + min(prev[:i] + prev[i+1:]) for i in range(3)]\n",
    "        #print(prev)\n",
    "    return min(prev)"
   ]
  },
  {
   "cell_type": "code",
   "execution_count": 336,
   "metadata": {},
   "outputs": [
    {
     "name": "stdout",
     "output_type": "stream",
     "text": [
      "10\n",
      "0\n"
     ]
    }
   ],
   "source": [
    "print(minCost([[17,2,17],[16,16,5],[14,3,19]]))\n",
    "print(minCost([]))"
   ]
  },
  {
   "cell_type": "markdown",
   "metadata": {},
   "source": [
    "### 258. Add Digits\n",
    "\n",
    "https://en.wikipedia.org/wiki/Casting_out_nines"
   ]
  },
  {
   "cell_type": "code",
   "execution_count": 345,
   "metadata": {},
   "outputs": [],
   "source": [
    "def addDigits(num):\n",
    "    while (num // 10):\n",
    "        newNum = 0\n",
    "        while num:\n",
    "            newNum += num % 10\n",
    "            num = num//10\n",
    "        num = newNum\n",
    "    return num"
   ]
  },
  {
   "cell_type": "code",
   "execution_count": 356,
   "metadata": {},
   "outputs": [],
   "source": [
    "def addDigits(num):\n",
    "    if num == 0: return 0\n",
    "    return 1 + (num - 1) % 9"
   ]
  },
  {
   "cell_type": "code",
   "execution_count": 358,
   "metadata": {},
   "outputs": [
    {
     "name": "stdout",
     "output_type": "stream",
     "text": [
      "2\n",
      "3\n",
      "1\n",
      "9\n",
      "9\n"
     ]
    }
   ],
   "source": [
    "print(addDigits(38))\n",
    "print(addDigits(39))\n",
    "print(addDigits(10))\n",
    "print(addDigits(9))\n",
    "print(addDigits(18))"
   ]
  },
  {
   "cell_type": "markdown",
   "metadata": {},
   "source": [
    "### 263. Ugly Number"
   ]
  },
  {
   "cell_type": "code",
   "execution_count": 380,
   "metadata": {},
   "outputs": [],
   "source": [
    "def isUgly(n):\n",
    "    if n == 0: return False\n",
    "    if n == 1: return True\n",
    "    \n",
    "    if n % 2 == 0:\n",
    "        return isUgly(n//2)\n",
    "    if n % 3 == 0:\n",
    "        return isUgly(n//3)\n",
    "    if n % 5 == 0:\n",
    "        return isUgly(n//5)\n",
    "    return False"
   ]
  },
  {
   "cell_type": "code",
   "execution_count": 384,
   "metadata": {},
   "outputs": [],
   "source": [
    "def isUgly(n):\n",
    "    if n < 1: return False\n",
    "    \n",
    "    while n % 2 == 0:\n",
    "        n //= 2\n",
    "    while n % 3 == 0:\n",
    "        n //= 3\n",
    "    while n % 5 == 0:\n",
    "        n //= 5\n",
    "    \n",
    "    return n == 1"
   ]
  },
  {
   "cell_type": "code",
   "execution_count": 392,
   "metadata": {},
   "outputs": [],
   "source": [
    "def isUgly(n):\n",
    "    while n > 1:\n",
    "        if n % 2 == 0:\n",
    "            n //= 2\n",
    "        elif n % 3 == 0:\n",
    "            n //= 3\n",
    "        elif n % 5 == 0:\n",
    "            n //= 5\n",
    "        else:\n",
    "            break\n",
    "    return n == 1"
   ]
  },
  {
   "cell_type": "code",
   "execution_count": 394,
   "metadata": {},
   "outputs": [
    {
     "name": "stdout",
     "output_type": "stream",
     "text": [
      "True\n",
      "False\n",
      "False\n",
      "False\n",
      "True\n"
     ]
    }
   ],
   "source": [
    "print(isUgly(6)) # True\n",
    "print(isUgly(7)) # False\n",
    "print(isUgly(14)) # False\n",
    "print(isUgly(-1)) # False\n",
    "print(isUgly(1)) # True"
   ]
  },
  {
   "cell_type": "markdown",
   "metadata": {},
   "source": [
    "### 266. Palindrome Permutation"
   ]
  },
  {
   "cell_type": "code",
   "execution_count": 406,
   "metadata": {},
   "outputs": [],
   "source": [
    "def canPermutePalindrome(s):\n",
    "    charMap = {}\n",
    "    for ch in s:\n",
    "        charMap[ch] = charMap.get(ch, 0) + 1\n",
    "    \n",
    "    oddCounts = 0\n",
    "    for _, value in charMap.items():\n",
    "        if value % 2:\n",
    "            oddCounts += 1\n",
    "        if oddCounts > 1:\n",
    "            return False\n",
    "    return True"
   ]
  },
  {
   "cell_type": "code",
   "execution_count": 418,
   "metadata": {},
   "outputs": [],
   "source": [
    "def canPermutePalindrome(s):\n",
    "    count = {}\n",
    "    oddCount = 0\n",
    "    for ch in s:\n",
    "        count[ch] = count.get(ch, 0) + 1\n",
    "        if count[ch] % 2 == 0:\n",
    "            oddCount -= 1\n",
    "        else:\n",
    "            oddCount += 1\n",
    "    \n",
    "    #print(oddCount)\n",
    "    return oddCount <= 1"
   ]
  },
  {
   "cell_type": "code",
   "execution_count": 408,
   "metadata": {},
   "outputs": [],
   "source": [
    "from collections import Counter\n",
    "def canPermutePalindrome(s):\n",
    "    count = Counter(s)\n",
    "    \n",
    "    oddCounts = 0\n",
    "    for _, value in count.items():\n",
    "        if value % 2:\n",
    "            oddCounts += 1\n",
    "        if oddCounts > 1:\n",
    "            return False\n",
    "    return True"
   ]
  },
  {
   "cell_type": "code",
   "execution_count": 419,
   "metadata": {},
   "outputs": [
    {
     "name": "stdout",
     "output_type": "stream",
     "text": [
      "False\n",
      "True\n",
      "True\n"
     ]
    }
   ],
   "source": [
    "print(canPermutePalindrome(\"code\"))\n",
    "print(canPermutePalindrome(\"aab\"))\n",
    "print(canPermutePalindrome(\"carerac\"))"
   ]
  },
  {
   "cell_type": "markdown",
   "metadata": {},
   "source": [
    "### 268. Missing Number"
   ]
  },
  {
   "cell_type": "code",
   "execution_count": 15,
   "metadata": {},
   "outputs": [],
   "source": [
    "def missingNumber(nums):\n",
    "    missing = 0\n",
    "    for num in nums:\n",
    "        missing ^= num\n",
    "    for num in range(len(nums) + 1):\n",
    "        missing ^= num\n",
    "    return missing"
   ]
  },
  {
   "cell_type": "code",
   "execution_count": 16,
   "metadata": {},
   "outputs": [],
   "source": [
    "def missingNumber(nums):\n",
    "    missing = len(nums)\n",
    "    for i, n in enumerate(nums):\n",
    "        missing ^= i ^ n\n",
    "    return missing"
   ]
  },
  {
   "cell_type": "code",
   "execution_count": 17,
   "metadata": {},
   "outputs": [
    {
     "name": "stdout",
     "output_type": "stream",
     "text": [
      "2\n",
      "8\n",
      "3\n"
     ]
    }
   ],
   "source": [
    "print(missingNumber([3,0,1]))\n",
    "print(missingNumber([9,6,4,2,3,5,7,0,1]))\n",
    "print(missingNumber([9,6,4,2,8,5,7,0,1]))"
   ]
  },
  {
   "cell_type": "markdown",
   "metadata": {},
   "source": [
    "### 276. Paint Fence"
   ]
  },
  {
   "cell_type": "code",
   "execution_count": 507,
   "metadata": {},
   "outputs": [],
   "source": [
    "def numWays(n, k):\n",
    "    \"\"\"\n",
    "    :type n: int\n",
    "    :type k: int\n",
    "    :rtype: int\n",
    "    \"\"\"\n",
    "    if n == 0 or k == 0: return 0\n",
    "    if n > k and k < 2: return 0\n",
    "    n, k = max(n, k), min(n, k)\n",
    "    ways = 1\n",
    "    for i in range(n, n-k, -1):\n",
    "        ways *= i\n",
    "    return ways"
   ]
  },
  {
   "cell_type": "code",
   "execution_count": 14,
   "metadata": {},
   "outputs": [
    {
     "ename": "NameError",
     "evalue": "name 'numWays' is not defined",
     "output_type": "error",
     "traceback": [
      "\u001b[0;31m---------------------------------------------------------------------------\u001b[0m",
      "\u001b[0;31mNameError\u001b[0m                                 Traceback (most recent call last)",
      "\u001b[0;32m<ipython-input-14-3c78cb3ec3da>\u001b[0m in \u001b[0;36m<module>\u001b[0;34m()\u001b[0m\n\u001b[0;32m----> 1\u001b[0;31m \u001b[0mprint\u001b[0m \u001b[0;34m(\u001b[0m\u001b[0mnumWays\u001b[0m\u001b[0;34m(\u001b[0m\u001b[0;36m0\u001b[0m\u001b[0;34m,\u001b[0m \u001b[0;36m0\u001b[0m\u001b[0;34m)\u001b[0m\u001b[0;34m)\u001b[0m \u001b[0;31m# 0\u001b[0m\u001b[0;34m\u001b[0m\u001b[0m\n\u001b[0m\u001b[1;32m      2\u001b[0m \u001b[0mprint\u001b[0m \u001b[0;34m(\u001b[0m\u001b[0mnumWays\u001b[0m\u001b[0;34m(\u001b[0m\u001b[0;36m1\u001b[0m\u001b[0;34m,\u001b[0m \u001b[0;36m0\u001b[0m\u001b[0;34m)\u001b[0m\u001b[0;34m)\u001b[0m \u001b[0;31m# 0\u001b[0m\u001b[0;34m\u001b[0m\u001b[0m\n\u001b[1;32m      3\u001b[0m \u001b[0mprint\u001b[0m \u001b[0;34m(\u001b[0m\u001b[0mnumWays\u001b[0m\u001b[0;34m(\u001b[0m\u001b[0;36m0\u001b[0m\u001b[0;34m,\u001b[0m \u001b[0;36m1\u001b[0m\u001b[0;34m)\u001b[0m\u001b[0;34m)\u001b[0m \u001b[0;31m# 0\u001b[0m\u001b[0;34m\u001b[0m\u001b[0m\n\u001b[1;32m      4\u001b[0m \u001b[0mprint\u001b[0m \u001b[0;34m(\u001b[0m\u001b[0mnumWays\u001b[0m\u001b[0;34m(\u001b[0m\u001b[0;36m1\u001b[0m\u001b[0;34m,\u001b[0m \u001b[0;36m1\u001b[0m\u001b[0;34m)\u001b[0m\u001b[0;34m)\u001b[0m \u001b[0;31m# 1\u001b[0m\u001b[0;34m\u001b[0m\u001b[0m\n\u001b[1;32m      5\u001b[0m \u001b[0mprint\u001b[0m \u001b[0;34m(\u001b[0m\u001b[0mnumWays\u001b[0m\u001b[0;34m(\u001b[0m\u001b[0;36m3\u001b[0m\u001b[0;34m,\u001b[0m \u001b[0;36m2\u001b[0m\u001b[0;34m)\u001b[0m\u001b[0;34m)\u001b[0m \u001b[0;31m# 6\u001b[0m\u001b[0;34m\u001b[0m\u001b[0m\n",
      "\u001b[0;31mNameError\u001b[0m: name 'numWays' is not defined"
     ]
    }
   ],
   "source": [
    "print (numWays(0, 0)) # 0\n",
    "print (numWays(1, 0)) # 0\n",
    "print (numWays(0, 1)) # 0\n",
    "print (numWays(1, 1)) # 1\n",
    "print (numWays(3, 2)) # 6\n",
    "print (numWays(3, 1)) # 0\n",
    "print (numWays(1, 2)) # 2\n",
    "print (numWays(1, 6)) # 6\n",
    "print (numWays(2, 1)) # 1\n",
    "print (numWays(6, 1)) # 0"
   ]
  },
  {
   "cell_type": "markdown",
   "metadata": {},
   "source": [
    "### ncr"
   ]
  },
  {
   "cell_type": "code",
   "execution_count": 7,
   "metadata": {},
   "outputs": [],
   "source": [
    "def ncr(n, r):\n",
    "    if n < r:\n",
    "        return \"n should be smaller than r\"\n",
    "    return int(fact(n) / (fact(r) * fact(n - r)))\n",
    "\n",
    "def fact(n):\n",
    "    if n < 1:\n",
    "        return 1\n",
    "    return n * fact(n - 1)"
   ]
  },
  {
   "cell_type": "code",
   "execution_count": 13,
   "metadata": {},
   "outputs": [
    {
     "name": "stdout",
     "output_type": "stream",
     "text": [
      "1\n",
      "2\n",
      "10\n",
      "10\n",
      "n should be smaller than r\n",
      "1\n"
     ]
    }
   ],
   "source": [
    "print(ncr(1, 1))\n",
    "print(ncr(2, 1))\n",
    "print(ncr(5, 3))\n",
    "print(ncr(5, 2))\n",
    "print(ncr(5, 6))\n",
    "print(ncr(0, 0))"
   ]
  },
  {
   "cell_type": "code",
   "execution_count": 34,
   "metadata": {},
   "outputs": [],
   "source": [
    "def wordPattern(pattern, str):\n",
    "    \"\"\"\n",
    "    :type pattern: str\n",
    "    :type str: str\n",
    "    :rtype: bool\n",
    "    \"\"\"\n",
    "    words = str.split()\n",
    "    if len(pattern) != len(words):\n",
    "        return False\n",
    "\n",
    "    pm = collections.defaultdict(int)\n",
    "    wm = collections.defaultdict(int)\n",
    "    for i in range(len(pattern)):\n",
    "        print(pattern[i], words[i], pm[pattern[i]], wm[words[i]])\n",
    "        if pm[pattern[i]] != wm[words[i]]:\n",
    "            return False\n",
    "        pm[pattern[i]], wm[words[i]] = i + 1, i + 1\n",
    "        print(pattern[i], words[i], pm[pattern[i]], wm[words[i]])\n",
    "    return True"
   ]
  },
  {
   "cell_type": "code",
   "execution_count": 35,
   "metadata": {},
   "outputs": [
    {
     "name": "stdout",
     "output_type": "stream",
     "text": [
      "a dog 0 0\n",
      "a dog 1 1\n",
      "b cat 0 0\n",
      "b cat 2 2\n",
      "b cat 2 2\n",
      "b cat 3 3\n",
      "a dog 1 1\n",
      "a dog 4 4\n",
      "True\n",
      "a dog 0 0\n",
      "a dog 1 1\n",
      "b cat 0 0\n",
      "b cat 2 2\n",
      "b cat 2 2\n",
      "b cat 3 3\n",
      "a cat 1 3\n",
      "False\n",
      "a b 0 0\n",
      "a b 1 1\n",
      "b b 0 1\n",
      "False\n"
     ]
    }
   ],
   "source": [
    "print (wordPattern(\"abba\",\n",
    "                   \"dog cat cat dog\"))\n",
    "print (wordPattern(\"abba\",\n",
    "                   \"dog cat cat cat\"))\n",
    "print (wordPattern(\"ab\",\n",
    "                   \"b b\"))\n"
   ]
  },
  {
   "cell_type": "code",
   "execution_count": null,
   "metadata": {},
   "outputs": [],
   "source": []
  },
  {
   "cell_type": "markdown",
   "metadata": {},
   "source": [
    "### 680. Valid Palindrome II"
   ]
  },
  {
   "cell_type": "code",
   "execution_count": null,
   "metadata": {},
   "outputs": [],
   "source": []
  },
  {
   "cell_type": "code",
   "execution_count": null,
   "metadata": {},
   "outputs": [],
   "source": []
  },
  {
   "cell_type": "code",
   "execution_count": null,
   "metadata": {},
   "outputs": [],
   "source": []
  }
 ],
 "metadata": {
  "kernelspec": {
   "display_name": "Python 3",
   "language": "python",
   "name": "python3"
  },
  "language_info": {
   "codemirror_mode": {
    "name": "ipython",
    "version": 3
   },
   "file_extension": ".py",
   "mimetype": "text/x-python",
   "name": "python",
   "nbconvert_exporter": "python",
   "pygments_lexer": "ipython3",
   "version": "3.6.5"
  }
 },
 "nbformat": 4,
 "nbformat_minor": 2
}
