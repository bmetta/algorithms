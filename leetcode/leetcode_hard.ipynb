{
 "cells": [
  {
   "cell_type": "markdown",
   "metadata": {},
   "source": [
    "### 123. Best Time to Buy and Sell Stock III"
   ]
  },
  {
   "cell_type": "code",
   "execution_count": 45,
   "metadata": {},
   "outputs": [],
   "source": [
    "import sys\n",
    "def maxProfit(prices):\n",
    "    if len(prices) < 2: return 0\n",
    "    \n",
    "    max1, prof1 = 0, 0\n",
    "    max2, prof2 = 0, 0\n",
    "    for i in range(0, len(prices))[::-1]:\n",
    "        if prices[i] > max1:\n",
    "            max2 = max1\n",
    "            max1 = prices[i]\n",
    "            print(max1, prof1, max2, prof2)\n",
    "        elif prices[i] > max2:\n",
    "            max2 = prices[i]\n",
    "            print(max1, prof1, max2, prof2)"
   ]
  },
  {
   "cell_type": "code",
   "execution_count": 46,
   "metadata": {},
   "outputs": [
    {
     "name": "stdout",
     "output_type": "stream",
     "text": [
      "9 0 0 0\n",
      "9 0 4 0\n",
      "9 0 7 0\n",
      "None\n"
     ]
    }
   ],
   "source": [
    "#print(maxProfit([7,1,5,3,6,4])) # 4 + 3 = 7\n",
    "#print(maxProfit([7,6,4,3,1])) # 0\n",
    "#print(maxProfit([1,2,3,4,5])) # 4\n",
    "#print(maxProfit([3,3,5,0,0,3,1,4])) # 3 + 3 = 6\n",
    "print(maxProfit([1,2,4,2,5,7,2,4,9,0])) # 6 + 7 = 13 (0, 1, 3, 1, 4, 6, 1, 3, 8)"
   ]
  },
  {
   "cell_type": "code",
   "execution_count": null,
   "metadata": {},
   "outputs": [],
   "source": []
  },
  {
   "cell_type": "code",
   "execution_count": null,
   "metadata": {},
   "outputs": [],
   "source": []
  },
  {
   "cell_type": "code",
   "execution_count": null,
   "metadata": {},
   "outputs": [],
   "source": []
  },
  {
   "cell_type": "code",
   "execution_count": null,
   "metadata": {},
   "outputs": [],
   "source": []
  },
  {
   "cell_type": "code",
   "execution_count": null,
   "metadata": {},
   "outputs": [],
   "source": []
  },
  {
   "cell_type": "code",
   "execution_count": null,
   "metadata": {},
   "outputs": [],
   "source": []
  }
 ],
 "metadata": {
  "kernelspec": {
   "display_name": "Python 3",
   "language": "python",
   "name": "python3"
  },
  "language_info": {
   "codemirror_mode": {
    "name": "ipython",
    "version": 3
   },
   "file_extension": ".py",
   "mimetype": "text/x-python",
   "name": "python",
   "nbconvert_exporter": "python",
   "pygments_lexer": "ipython3",
   "version": "3.6.5"
  }
 },
 "nbformat": 4,
 "nbformat_minor": 2
}
