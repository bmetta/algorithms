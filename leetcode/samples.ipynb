{
 "cells": [
  {
   "cell_type": "code",
   "execution_count": null,
   "metadata": {},
   "outputs": [],
   "source": [
    "def BinarySearch(arr, key):\n",
    "    lo, hi = 0, len(arr) - 1\n",
    "    while lo <= hi:\n",
    "        mi = int(lo + (hi - lo)/2)\n",
    "        #print (lo, mi, hi)\n",
    "        if arr[mi] < key: lo = mi + 1\n",
    "        elif arr[mi] > key: hi = mi - 1\n",
    "        else: return mi\n",
    "    #print (mi)\n",
    "    return -1 # Not found"
   ]
  },
  {
   "cell_type": "code",
   "execution_count": null,
   "metadata": {},
   "outputs": [],
   "source": [
    "# Found cases\n",
    "print(\"PASS\" if BinarySearch([0, 1, 2, 3, 4, 5, 6, 7, 8], 0) == 0 else \"FAIL\")\n",
    "print(\"PASS\" if BinarySearch([0, 1, 2, 3, 4, 5, 6, 7, 8], 1) == 1 else \"FAIL\")\n",
    "print(\"PASS\" if BinarySearch([0, 1, 2, 3, 4, 5, 6, 7, 8], 2) == 2 else \"FAIL\")\n",
    "print(\"PASS\" if BinarySearch([0, 1, 2, 3, 4, 5, 6, 7, 8], 3) == 3 else \"FAIL\")\n",
    "print(\"PASS\" if BinarySearch([0, 1, 2, 3, 4, 5, 6, 7, 8], 4) == 4 else \"FAIL\")\n",
    "print(\"PASS\" if BinarySearch([0, 1, 2, 3, 4, 5, 6, 7, 8], 5) == 5 else \"FAIL\")\n",
    "print(\"PASS\" if BinarySearch([0, 1, 2, 3, 4, 5, 6, 7, 8], 6) == 6 else \"FAIL\")\n",
    "print(\"PASS\" if BinarySearch([0, 1, 2, 3, 4, 5, 6, 7, 8], 7) == 7 else \"FAIL\")\n",
    "print(\"PASS\" if BinarySearch([0, 1, 2, 3, 4, 5, 6, 7, 8], 8) == 8 else \"FAIL\")\n",
    "\n",
    "# Not found cases\n",
    "print(\"PASS\" if BinarySearch([0, 1, 2, 3, 4, 5, 6, 7, 8], -1) == -1 else \"FAIL\")\n",
    "print(\"PASS\" if BinarySearch([1, 2, 3, 4, 5, 6, 7, 8], 0) == -1 else \"FAIL\")\n",
    "print(\"PASS\" if BinarySearch([0, 2, 3, 4, 5, 6, 7, 8], 1) == -1 else \"FAIL\")\n",
    "print(\"PASS\" if BinarySearch([0, 1, 3, 4, 5, 6, 7, 8], 2) == -1 else \"FAIL\")\n",
    "print(\"PASS\" if BinarySearch([0, 1, 2, 4, 5, 6, 7, 8], 3) == -1 else \"FAIL\")\n",
    "print(\"PASS\" if BinarySearch([0, 1, 2, 3, 5, 6, 7, 8], 4) == -1 else \"FAIL\")\n",
    "print(\"PASS\" if BinarySearch([0, 1, 2, 3, 4, 6, 7, 8], 5) == -1 else \"FAIL\")\n",
    "print(\"PASS\" if BinarySearch([0, 1, 2, 3, 4, 5, 7, 8], 6) == -1 else \"FAIL\")\n",
    "print(\"PASS\" if BinarySearch([0, 1, 2, 3, 4, 5, 6, 8], 7) == -1 else \"FAIL\")\n",
    "print(\"PASS\" if BinarySearch([0, 1, 2, 3, 4, 5, 6, 7], 8) == -1 else \"FAIL\")\n",
    "print(\"PASS\" if BinarySearch([0, 1, 2, 3, 4, 5, 6, 7, 8], 9) == -1 else \"FAIL\")"
   ]
  },
  {
   "cell_type": "code",
   "execution_count": 137,
   "metadata": {},
   "outputs": [],
   "source": [
    "def InsertPosition(arr, key):\n",
    "    lo, hi = 0, len(arr) - 1\n",
    "    while lo <= hi:\n",
    "        mi = int(lo + (hi - lo)/2)\n",
    "        if arr[mi] < key: lo = mi + 1\n",
    "        elif arr[mi] >= key: hi = mi - 1\n",
    "        #print (lo, mi, hi)\n",
    "    return lo;"
   ]
  },
  {
   "cell_type": "code",
   "execution_count": 138,
   "metadata": {},
   "outputs": [
    {
     "name": "stdout",
     "output_type": "stream",
     "text": [
      "PASS\n",
      "PASS\n",
      "PASS\n",
      "PASS\n",
      "PASS\n",
      "PASS\n",
      "PASS\n",
      "PASS\n",
      "PASS\n",
      "PASS\n",
      "PASS\n"
     ]
    }
   ],
   "source": [
    "print(\"PASS\" if InsertPosition([0, 1, 2, 3, 4, 5, 6, 7, 8], -1) == 0 else \"FAIL\")\n",
    "print(\"PASS\" if InsertPosition([0, 1, 2, 3, 4, 5, 6, 7, 8], 0) == 0 else \"FAIL\")\n",
    "print(\"PASS\" if InsertPosition([0, 1, 2, 3, 4, 5, 6, 7, 8], 1) == 1 else \"FAIL\")\n",
    "print(\"PASS\" if InsertPosition([0, 1, 2, 3, 4, 5, 6, 7, 8], 2) == 2 else \"FAIL\")\n",
    "print(\"PASS\" if InsertPosition([0, 1, 2, 3, 4, 5, 6, 7, 8], 3) == 3 else \"FAIL\")\n",
    "print(\"PASS\" if InsertPosition([0, 1, 2, 3, 4, 5, 6, 7, 8], 4) == 4 else \"FAIL\")\n",
    "print(\"PASS\" if InsertPosition([0, 1, 2, 3, 4, 5, 6, 7, 8], 5) == 5 else \"FAIL\")\n",
    "print(\"PASS\" if InsertPosition([0, 1, 2, 3, 4, 5, 6, 7, 8], 6) == 6 else \"FAIL\")\n",
    "print(\"PASS\" if InsertPosition([0, 1, 2, 3, 4, 5, 6, 7, 8], 7) == 7 else \"FAIL\")\n",
    "print(\"PASS\" if InsertPosition([0, 1, 2, 3, 4, 5, 6, 7, 8], 8) == 8 else \"FAIL\")\n",
    "print(\"PASS\" if InsertPosition([0, 1, 2, 3, 4, 5, 6, 7, 8], 9) == 9 else \"FAIL\")"
   ]
  },
  {
   "cell_type": "code",
   "execution_count": 139,
   "metadata": {},
   "outputs": [
    {
     "name": "stdout",
     "output_type": "stream",
     "text": [
      "PASS\n",
      "PASS\n",
      "PASS\n",
      "PASS\n",
      "PASS\n",
      "PASS\n",
      "PASS\n",
      "PASS\n",
      "PASS\n",
      "PASS\n",
      "PASS\n"
     ]
    }
   ],
   "source": [
    "print(\"PASS\" if InsertPosition([1, 2, 3, 4, 5, 6, 7, 8], 0) == 0 else \"FAIL\")\n",
    "print(\"PASS\" if InsertPosition([0, 2, 3, 4, 5, 6, 7, 8], 1) == 1 else \"FAIL\")\n",
    "print(\"PASS\" if InsertPosition([0, 3, 4, 5, 6, 7, 8], 2)    == 1 else \"FAIL\")\n",
    "print(\"PASS\" if InsertPosition([1, 2, 4, 5, 6, 7, 8], 3)    == 2 else \"FAIL\")\n",
    "print(\"PASS\" if InsertPosition([0, 3, 4, 5, 7, 8], 6)       == 4 else \"FAIL\")\n",
    "print(\"PASS\" if InsertPosition([0, 1, 2, 3, 5, 6, 7, 8], 4) == 4 else \"FAIL\")\n",
    "print(\"PASS\" if InsertPosition([0, 1, 2, 3, 4, 6, 7, 8], 5) == 5 else \"FAIL\")\n",
    "print(\"PASS\" if InsertPosition([0, 1, 2, 3, 4, 5, 7, 8], 6) == 6 else \"FAIL\")\n",
    "print(\"PASS\" if InsertPosition([0, 1, 2, 3, 4, 5, 6, 8], 7) == 7 else \"FAIL\")\n",
    "print(\"PASS\" if InsertPosition([0, 1, 2, 3, 4, 5, 6, 7], 8) == 8 else \"FAIL\")\n",
    "print(\"PASS\" if InsertPosition([0, 1, 2, 3, 4, 5, 6, 7, 8], 9) == 9 else \"FAIL\")"
   ]
  },
  {
   "cell_type": "code",
   "execution_count": null,
   "metadata": {},
   "outputs": [],
   "source": []
  },
  {
   "cell_type": "code",
   "execution_count": 18,
   "metadata": {},
   "outputs": [],
   "source": [
    "def powerSet(n):\n",
    "    def powerSetUtil(sets, n):\n",
    "        if n <= 0:\n",
    "            print(sets)\n",
    "            return\n",
    "        powerSetUtil(sets + \"0\", n-1)\n",
    "        powerSetUtil(sets + \"1\", n-1)\n",
    "    \n",
    "    powerSetUtil(\"\", n)"
   ]
  },
  {
   "cell_type": "code",
   "execution_count": 19,
   "metadata": {},
   "outputs": [
    {
     "name": "stdout",
     "output_type": "stream",
     "text": [
      "000\n",
      "001\n",
      "010\n",
      "011\n",
      "100\n",
      "101\n",
      "110\n",
      "111\n"
     ]
    }
   ],
   "source": [
    "powerSet(3)"
   ]
  },
  {
   "cell_type": "code",
   "execution_count": null,
   "metadata": {},
   "outputs": [],
   "source": []
  }
 ],
 "metadata": {
  "kernelspec": {
   "display_name": "Python 3",
   "language": "python",
   "name": "python3"
  },
  "language_info": {
   "codemirror_mode": {
    "name": "ipython",
    "version": 3
   },
   "file_extension": ".py",
   "mimetype": "text/x-python",
   "name": "python",
   "nbconvert_exporter": "python",
   "pygments_lexer": "ipython3",
   "version": "3.6.5"
  }
 },
 "nbformat": 4,
 "nbformat_minor": 2
}
