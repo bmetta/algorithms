{
 "cells": [
  {
   "cell_type": "markdown",
   "metadata": {},
   "source": [
    "### 7. Reverse Integer"
   ]
  },
  {
   "cell_type": "code",
   "execution_count": 46,
   "metadata": {},
   "outputs": [],
   "source": [
    "def reverse(x):\n",
    "    # Get the sign of integer\n",
    "    sign = -1 if x < 0 else 1\n",
    "    x = abs(x)\n",
    "    \n",
    "    # Reverse the integer\n",
    "    res = 0\n",
    "    while (x):\n",
    "        res = res*10 + x%10\n",
    "        x = int(x/10)\n",
    "\n",
    "    res = sign*res\n",
    "    # check for the integer overflow\n",
    "    if (res < -pow(2, 31) or res > (pow(2, 31) - 1)):\n",
    "        return 0\n",
    "    return res"
   ]
  },
  {
   "cell_type": "code",
   "execution_count": 47,
   "metadata": {},
   "outputs": [
    {
     "name": "stdout",
     "output_type": "stream",
     "text": [
      "321\n",
      "-21\n",
      "0\n"
     ]
    }
   ],
   "source": [
    "print (reverse(123))\n",
    "print (reverse(-120))\n",
    "print (reverse(1534236469))"
   ]
  },
  {
   "cell_type": "markdown",
   "metadata": {},
   "source": [
    "### 9. Palindrome number"
   ]
  },
  {
   "cell_type": "code",
   "execution_count": 64,
   "metadata": {},
   "outputs": [],
   "source": [
    "# Approach 1\n",
    "def isPalindrome(n):\n",
    "    strn = str(n)\n",
    "    return strn == strn[: :-1]"
   ]
  },
  {
   "cell_type": "code",
   "execution_count": 8,
   "metadata": {},
   "outputs": [],
   "source": [
    "def isPalindrome(n):\n",
    "    # negative number or number ends with zero\n",
    "    if n < 0 or (n%10 == 0 and n != 0):\n",
    "        return False\n",
    "    \n",
    "    # split the number into two equal halfs\n",
    "    # eg: n = 12321; n = 12, rev_n = 123\n",
    "    # eg: n = 1221;  n = 12, rev_n = 12\n",
    "    rev_n = 0\n",
    "    while (n > rev_n):\n",
    "        rev_n = rev_n*10 + n%10\n",
    "        n = int(n/10)\n",
    "    #print (n, rev_n)\n",
    "    return n == rev_n or n == int(rev_n/10)"
   ]
  },
  {
   "cell_type": "code",
   "execution_count": 6,
   "metadata": {},
   "outputs": [
    {
     "name": "stdout",
     "output_type": "stream",
     "text": [
      "True\n",
      "False\n",
      "True\n"
     ]
    }
   ],
   "source": [
    "print(isPalindrome(121))  # True\n",
    "print(isPalindrome(1210)) # False\n",
    "print(isPalindrome(0))    # True"
   ]
  },
  {
   "cell_type": "markdown",
   "metadata": {},
   "source": [
    "### 13. Roman to Integer"
   ]
  },
  {
   "cell_type": "code",
   "execution_count": 9,
   "metadata": {},
   "outputs": [],
   "source": [
    "def romanToInt(s):\n",
    "    rtoi = {'I': 1, 'V': 5, 'X': 10, 'L': 50, 'C': 100, 'D': 500, 'M': 1000}\n",
    "    res, last = 0, 0\n",
    "    \n",
    "    for ch in s:\n",
    "        cur = int(rtoi[ch])\n",
    "        res += cur\n",
    "        if last < cur:\n",
    "            res -= last*2\n",
    "        last = cur\n",
    "    return res"
   ]
  },
  {
   "cell_type": "code",
   "execution_count": 85,
   "metadata": {},
   "outputs": [],
   "source": [
    "import sys\n",
    "def romanToInt(s):\n",
    "    rtoi = {'I': 1, 'V': 5, 'X': 10, 'L': 50, 'C': 100, 'D': 500, 'M': 1000}\n",
    "    if s == \"\":\n",
    "        return 0\n",
    "    if len(s) == 1:\n",
    "        return rtoi[s[0]]\n",
    "    \n",
    "    total = rtoi[s[-1]]\n",
    "    for i in range(len(s))[:-1]:\n",
    "        sign = -1 if rtoi[s[i]] < rtoi[s[i + 1]] else 1\n",
    "        total += sign * rtoi[s[i]]\n",
    "    return total"
   ]
  },
  {
   "cell_type": "code",
   "execution_count": 86,
   "metadata": {},
   "outputs": [
    {
     "name": "stdout",
     "output_type": "stream",
     "text": [
      "4\n",
      "90\n",
      "3\n",
      "58\n",
      "1994\n"
     ]
    }
   ],
   "source": [
    "print (romanToInt(\"IV\")) # -1 + 5 = 4\n",
    "print (romanToInt(\"XC\")) # -10 + 100 = 90\n",
    "print (romanToInt(\"III\")) # 1 + 1 + 1 = 3\n",
    "#print (romanToInt(\"IIII\")) \n",
    "print (romanToInt(\"LVIII\")) # 50 + 5 + 3 = 58\n",
    "print (romanToInt(\"MCMXCIV\")) # 1000 - 100 + 1000 + 10 - 1 + 5 = 1994"
   ]
  },
  {
   "cell_type": "markdown",
   "metadata": {},
   "source": [
    "### 14. Longest Common Prefix"
   ]
  },
  {
   "cell_type": "code",
   "execution_count": 120,
   "metadata": {},
   "outputs": [],
   "source": [
    "# Approach 1: Horizontal Scanning\n",
    "#    get the first string\n",
    "#    for each remaining strings\n",
    "#       find the common prefix\n",
    "# Time complexity  : O(S); S sum of all characters in all strings\n",
    "# Space complexity : O(1)\n",
    "\n",
    "import re\n",
    "def longestCommonPrefix(strs):\n",
    "    if strs == \"\" or len(strs) == 0:\n",
    "        return \"\"\n",
    "    \n",
    "    prefix = strs[0]\n",
    "    #print (\"prefix:\", prefix)\n",
    "    for i in range(1, len(strs)):\n",
    "        #print (strs[i])\n",
    "        while re.match(prefix, strs[i]) == None:\n",
    "            prefix = prefix[:-1]\n",
    "            #print (\"prefix:\", prefix)\n",
    "            if prefix == \"\":\n",
    "                return \"\"\n",
    "    return prefix"
   ]
  },
  {
   "cell_type": "code",
   "execution_count": 121,
   "metadata": {},
   "outputs": [],
   "source": [
    "# Approach 2: Vertical Scanning\n",
    "#    for each char from first string\n",
    "#        compare with the char at the same position in other strings\n",
    "# Time complexity\n",
    "#        worst case: O(m * n); m is length, n is num of strings\n",
    "#        best case : O(n * minLen); minLen is small string of all strings\n",
    "# Space complexity : O(1)\n",
    "\n",
    "def longestCommonPrefix(strs):\n",
    "    if strs == \"\" or len(strs) == 0:\n",
    "        return \"\"\n",
    "    \n",
    "    for col in range(len(strs[0])):\n",
    "        for row in range(1, len(strs)):\n",
    "            if col < len(strs[row]) and strs[0][col] != strs[row][col]:\n",
    "                return strs[0][:col]\n",
    "    return strs[0]"
   ]
  },
  {
   "cell_type": "code",
   "execution_count": 124,
   "metadata": {},
   "outputs": [],
   "source": [
    "# Approach 3: Devide & Conquer\n",
    "#    get common prefix from the two strings by deviding into groups\n",
    "#    conquer the results finally\n",
    "# Time complexity\n",
    "#        worst case: O(m * n); m is length, n is num of strings\n",
    "#        best case : O(minLen * n)\n",
    "# Space complexity : O(m log n); log n recursive call, each call needs m space to store the result\n",
    "\n",
    "def longestCommonPrefix(strs):\n",
    "    if strs == \"\" or len(strs) == 0:\n",
    "        return \"\"\n",
    "\n",
    "    return longestCommonPrefixUtil(strs, 0, len(strs) - 1)\n",
    "    \n",
    "def longestCommonPrefixUtil(strs, l, h):\n",
    "    if l == h:\n",
    "        return strs[l]\n",
    "    \n",
    "    m = int((l + h)/2)\n",
    "    left_prefix = longestCommonPrefixUtil(strs, l, m)\n",
    "    right_prefix = longestCommonPrefixUtil(strs, m + 1, h)\n",
    "    return commonPrefix(left_prefix, right_prefix)\n",
    "\n",
    "def commonPrefix(str1, str2):\n",
    "    min_len = min(len(str1), len(str2))\n",
    "    for i in range(min_len):\n",
    "        if (str1[i] != str2[i]):\n",
    "            return str1[:i]\n",
    "    return str1[:min_len]"
   ]
  },
  {
   "cell_type": "code",
   "execution_count": 126,
   "metadata": {},
   "outputs": [],
   "source": [
    "# Approach 4: Binary Search\n",
    "#    get the smallest string length out of all the strings\n",
    "#    search that present in all strings in binary search\n",
    "# Time complexity  : O(S * log n); S length of all strings, n num of strings\n",
    "# Space complexity : O(1)\n",
    "\n",
    "import sys\n",
    "def longestCommonPrefix(strs):\n",
    "    if strs == \"\" or len(strs) == 0:\n",
    "        return \"\"\n",
    "    \n",
    "    min_len = sys.maxsize\n",
    "    for s in strs:\n",
    "        min_len = min(min_len, len(s))\n",
    "\n",
    "    l = 1\n",
    "    h = min_len\n",
    "    while(l <= h):\n",
    "        m = int((l + h)/2)\n",
    "        if isCommonPrefix(strs, m):\n",
    "            l = m + 1\n",
    "        else:\n",
    "            h = m - 1\n",
    "    length = int((l + h)/2)\n",
    "    return strs[0][:length]\n",
    "\n",
    "def isCommonPrefix(strs, length):\n",
    "    str1 = strs[0][:length]\n",
    "    for i in range(1, len(strs)):\n",
    "        if re.match(str1, strs[i][:length]) == None:\n",
    "            return False\n",
    "    return True"
   ]
  },
  {
   "cell_type": "code",
   "execution_count": 127,
   "metadata": {},
   "outputs": [],
   "source": [
    "# Approach 5: Using Trie data structure\n",
    "# Time complexity\n",
    "#         preprocessing O(S); S is number of all characters in array\n",
    "#         LCP query : O(m); m is query length\n",
    "# Space complexity : O(S)\n",
    "\n",
    "class TrieNode:\n",
    "    def __init__(self):\n",
    "        self.children = [None]*26\n",
    "        self.isEnd = False\n",
    "\n",
    "class Trie:\n",
    "    def __init__(self):\n",
    "        self.root = self.getNode()\n",
    "    \n",
    "    def getNode(self):\n",
    "        return TrieNode()\n",
    "        \n",
    "    def insert(self, string):\n",
    "        if string == \"\":\n",
    "            return\n",
    "        \n",
    "        crawl = self.root\n",
    "        for ch in string:\n",
    "            index = ord(ch) - ord('a')\n",
    "            if not crawl.children[index]:\n",
    "                crawl.children[index] = self.getNode()\n",
    "            crawl = crawl.children[index]\n",
    "        crawl.isEnd = True\n",
    "\n",
    "    def longestCommonPrefix(self):\n",
    "        return self.commonPrefix(self.root, \"\")\n",
    "    \n",
    "    # each node should have only one child\n",
    "    # isEnd reached\n",
    "    def commonPrefix(self, crawl, prefix):\n",
    "        if crawl.isEnd:\n",
    "            return prefix\n",
    "        \n",
    "        # only one child\n",
    "        child_count = 0\n",
    "        for i in range(26):\n",
    "            if crawl.children[i]:\n",
    "                child_count += 1\n",
    "            if child_count > 1:\n",
    "                return prefix\n",
    "        \n",
    "        for i in range(26):\n",
    "            if crawl.children[i]:\n",
    "                ch = chr(i + ord('a'))\n",
    "                return self.commonPrefix(crawl.children[i], prefix + ch)\n",
    "        return \"\"\n",
    "\n",
    "def longestCommonPrefix(strs):\n",
    "    if strs == \"\" or len(strs) == 0:\n",
    "        return \"\"\n",
    "    \n",
    "    t = Trie()\n",
    "    for string in strs:\n",
    "        #print(\"inserting:\", string)\n",
    "        if string == \"\":\n",
    "            return \"\"\n",
    "        t.insert(string)\n",
    "    \n",
    "    return t.longestCommonPrefix()"
   ]
  },
  {
   "cell_type": "code",
   "execution_count": 118,
   "metadata": {},
   "outputs": [
    {
     "name": "stdout",
     "output_type": "stream",
     "text": [
      "longest prefix: lee\n",
      "longest prefix: fl\n",
      "longest prefix: \n",
      "longest prefix: \n",
      "longest prefix: \n",
      "longest prefix: \n"
     ]
    }
   ],
   "source": [
    "print(\"longest prefix:\", longestCommonPrefix([\"leets\", \"leetcode\", \"leet\", \"leeds\"]))\n",
    "print(\"longest prefix:\", longestCommonPrefix([\"flower\",\"flow\",\"flight\"]))\n",
    "print(\"longest prefix:\", longestCommonPrefix([\"dog\",\"racecar\",\"car\"]))\n",
    "print(\"longest prefix:\", longestCommonPrefix([\"\"]))\n",
    "print(\"longest prefix:\", longestCommonPrefix([\"\", \"b\"]))\n",
    "print(\"longest prefix:\", longestCommonPrefix([]))"
   ]
  },
  {
   "cell_type": "markdown",
   "metadata": {},
   "source": [
    "### 3Sum"
   ]
  },
  {
   "cell_type": "code",
   "execution_count": 213,
   "metadata": {},
   "outputs": [],
   "source": [
    "def threeSum(nums):\n",
    "    result = []\n",
    "    nums = sorted(nums)\n",
    "    #print (nums)\n",
    "    a = 0\n",
    "    while a < (len(nums) - 2):\n",
    "        # dupliate detection\n",
    "        if a > 0 and nums[a] == nums[a - 1]:\n",
    "            a += 1\n",
    "            continue\n",
    "\n",
    "        b, c = a + 1, len(nums) - 1\n",
    "        #print (a, b, c)\n",
    "        while b < c:\n",
    "            if nums[b] + nums[c] < -nums[a]:\n",
    "                b += 1\n",
    "            elif nums[b] + nums[c] > -nums[a]:\n",
    "                c -= 1\n",
    "            else:\n",
    "                # dupliate detection\n",
    "                if nums[b] != nums[b - 1] or \\\n",
    "                c == len(nums) - 1 or nums[c] != nums[c + 1]:\n",
    "                    result.append([nums[a], nums[b], nums[c]])\n",
    "                b += 1\n",
    "                c -= 1\n",
    "            #print (a, b, c)            \n",
    "        a += 1\n",
    "    return result"
   ]
  },
  {
   "cell_type": "code",
   "execution_count": 222,
   "metadata": {},
   "outputs": [
    {
     "name": "stdout",
     "output_type": "stream",
     "text": [
      "[[-2, 0, 2]]\n",
      "[[-1, -1, 2], [-1, 0, 1]]\n",
      "[[-4, -2, 6], [-4, 0, 4], [-4, 1, 3], [-4, 2, 2], [-2, -2, 4], [-2, 0, 2]]\n",
      "[[-5, 1, 4], [-4, 0, 4], [-4, 1, 3], [-2, -2, 4], [-2, 1, 1], [0, 0, 0]]\n",
      "[[-1, -1, 2]]\n"
     ]
    }
   ],
   "source": [
    "print(threeSum([-2,0,0,2,2]))\n",
    "print(threeSum([-1, 0, 1, 2, -1, -4]))\n",
    "print(threeSum([-4,-2,-2,-2,0,1,2,2,2,3,3,4,4,6,6]))\n",
    "print(threeSum([-4,-2,1,-5,-4,-4,4,-2,0,4,0,-2,3,1,-5,0]))\n",
    "print(threeSum([-1, -1, 2, 2]))"
   ]
  },
  {
   "cell_type": "markdown",
   "metadata": {},
   "source": [
    "### 20. Valid parentheses"
   ]
  },
  {
   "cell_type": "code",
   "execution_count": 27,
   "metadata": {},
   "outputs": [],
   "source": [
    "def isValidParentheses(s):\n",
    "    if s == \"\": return True\n",
    "    if len(s) == 1: return False\n",
    "    \n",
    "    right_parens = {'}' : '{', ')' : '(', ']' : '['}\n",
    "    stack = []\n",
    "    for paren in s:\n",
    "        if paren not in right_parens.keys():\n",
    "            stack.append(paren)\n",
    "        elif paren in right_parens.keys():\n",
    "            if not stack or right_parens[paren] != stack.pop():\n",
    "                return False\n",
    "    return not stack"
   ]
  },
  {
   "cell_type": "code",
   "execution_count": 40,
   "metadata": {},
   "outputs": [
    {
     "name": "stdout",
     "output_type": "stream",
     "text": [
      "True\n",
      "False\n",
      "True\n",
      "False\n",
      "True\n",
      "False\n"
     ]
    }
   ],
   "source": [
    "print(isValidParentheses(\"()\"))\n",
    "print(isValidParentheses(\"(\"))\n",
    "print(isValidParentheses(\"()[]{}\"))\n",
    "print(isValidParentheses(\"(]\"))\n",
    "print(isValidParentheses(\"{[]}\"))\n",
    "print(isValidParentheses(\"){\"))"
   ]
  },
  {
   "cell_type": "markdown",
   "metadata": {},
   "source": [
    "### 26. Remove Duplicates from Sorted Array"
   ]
  },
  {
   "cell_type": "code",
   "execution_count": 58,
   "metadata": {},
   "outputs": [],
   "source": [
    "def removeDuplicates(nums):\n",
    "    if len(nums) < 2: return nums\n",
    "    \n",
    "    j = 1\n",
    "    for i in range(1, len(nums)):\n",
    "        if nums[i] != nums[j - 1]:\n",
    "            nums[j] = nums[i]\n",
    "            j += 1\n",
    "\n",
    "    return nums[ : j]"
   ]
  },
  {
   "cell_type": "code",
   "execution_count": 59,
   "metadata": {},
   "outputs": [
    {
     "name": "stdout",
     "output_type": "stream",
     "text": [
      "[1, 2, 3]\n",
      "[0, 1, 2, 3, 4]\n"
     ]
    }
   ],
   "source": [
    "print(removeDuplicates([1,1,2,2,2,3,3]))\n",
    "print(removeDuplicates([0,0,1,1,1,2,2,3,3,4]))"
   ]
  },
  {
   "cell_type": "markdown",
   "metadata": {},
   "source": [
    "### 27. Remove element"
   ]
  },
  {
   "cell_type": "code",
   "execution_count": 123,
   "metadata": {},
   "outputs": [],
   "source": [
    "def removeElement(nums, val):\n",
    "    if len(nums) == 0: return 0\n",
    "    \n",
    "    end = len(nums)\n",
    "    for i in range(len(nums))[::-1]:\n",
    "        if nums[i] == val:\n",
    "            nums[i] = nums[end - 1]\n",
    "            end -= 1\n",
    "    return nums[: end]"
   ]
  },
  {
   "cell_type": "code",
   "execution_count": 85,
   "metadata": {},
   "outputs": [],
   "source": [
    "def removeElement(nums, val):\n",
    "    if len(nums) == 0: return nums\n",
    "    \n",
    "    start = 0\n",
    "    for i in range(len(nums)):\n",
    "        if nums[i] != val:\n",
    "            nums[start] = nums[i]\n",
    "            start += 1\n",
    "    return nums[:start]"
   ]
  },
  {
   "cell_type": "code",
   "execution_count": 117,
   "metadata": {},
   "outputs": [],
   "source": [
    "def removeElement(nums, val):\n",
    "    if len(nums) == 0: return nums\n",
    "    \n",
    "    start = 0\n",
    "    end = len(nums)\n",
    "    while start < end:\n",
    "        if nums[start] == val:\n",
    "            nums[start] = nums[end - 1]\n",
    "            end -= 1\n",
    "        else:\n",
    "            start += 1\n",
    "\n",
    "    return nums[:start]"
   ]
  },
  {
   "cell_type": "code",
   "execution_count": 124,
   "metadata": {},
   "outputs": [
    {
     "name": "stdout",
     "output_type": "stream",
     "text": [
      "[1, 3, 3, 4]\n",
      "[1, 3]\n",
      "[1, 3]\n"
     ]
    }
   ],
   "source": [
    "print(removeElement([1, 2, 3, 4, 2, 3, 2], 2))\n",
    "print(removeElement([1, 2, 2, 3, 2], 2))\n",
    "print(removeElement([1, 2, 3, 2], 2))"
   ]
  },
  {
   "cell_type": "code",
   "execution_count": 116,
   "metadata": {},
   "outputs": [
    {
     "name": "stdout",
     "output_type": "stream",
     "text": [
      "0 7\n",
      "1 7\n",
      "1 6\n",
      "1 5\n",
      "2 5\n",
      "3 5\n",
      "4 5\n",
      "4 4\n",
      "[1, 3, 3, 4]\n",
      "0 5\n",
      "1 5\n",
      "1 4\n",
      "1 3\n",
      "2 3\n",
      "2 2\n",
      "[1, 3]\n",
      "0 4\n",
      "1 4\n",
      "1 3\n",
      "1 2\n",
      "2 2\n",
      "[1, 3]\n"
     ]
    }
   ],
   "source": [
    "print(removeElement([1, 2, 3, 4, 2, 3, 2], 2))\n",
    "print(removeElement([1, 2, 2, 3, 2], 2))\n",
    "print(removeElement([1, 2, 3, 2], 2))"
   ]
  },
  {
   "cell_type": "markdown",
   "metadata": {},
   "source": [
    "### 28. Implement strStr()"
   ]
  },
  {
   "cell_type": "code",
   "execution_count": 172,
   "metadata": {},
   "outputs": [],
   "source": [
    "def strStr(haystack, needle):\n",
    "    if needle == \"\": return 0\n",
    "    if len(haystack) < len(needle): return -1\n",
    "    \n",
    "    for i in range(len(haystack) - len(needle) + 1):\n",
    "        if (haystack[i : i + len(needle)] == needle):\n",
    "            return i\n",
    "    return -1"
   ]
  },
  {
   "cell_type": "code",
   "execution_count": 173,
   "metadata": {},
   "outputs": [
    {
     "name": "stdout",
     "output_type": "stream",
     "text": [
      "2\n",
      "-1\n",
      "-1\n",
      "-1\n",
      "0\n"
     ]
    }
   ],
   "source": [
    "print(strStr(\"hello\", \"ll\"))\n",
    "print(strStr(\"aaaaaa\", \"bba\"))\n",
    "print(strStr(\"aaa\", \"aaaaa\"))\n",
    "print(strStr(\"mississippi\", \"issipi\"))\n",
    "print(strStr(\"a\", \"a\"))"
   ]
  },
  {
   "cell_type": "markdown",
   "metadata": {},
   "source": [
    "### 35. Search Insert position"
   ]
  },
  {
   "cell_type": "code",
   "execution_count": 32,
   "metadata": {},
   "outputs": [],
   "source": [
    "def searchInsert(nums, target):\n",
    "    low = 0\n",
    "    high = len(nums) - 1\n",
    "    while (low <= high):\n",
    "        mid = (low + high)//2\n",
    "        if (target == nums[mid]):\n",
    "            return mid\n",
    "        if (target < nums[mid]):\n",
    "            high = mid - 1\n",
    "        if (target > nums[mid]):\n",
    "            low = mid + 1\n",
    "    #print (low, high)\n",
    "    return (low + high)//2 + 1"
   ]
  },
  {
   "cell_type": "code",
   "execution_count": 33,
   "metadata": {},
   "outputs": [
    {
     "name": "stdout",
     "output_type": "stream",
     "text": [
      "2\n",
      "1\n",
      "4\n",
      "0\n",
      "1\n"
     ]
    }
   ],
   "source": [
    "print (searchInsert([1,3,5,6], 5)) # 2\n",
    "print (searchInsert([1,3,5,6], 2)) # 1\n",
    "print (searchInsert([1,3,5,6], 7)) # 4\n",
    "print (searchInsert([1,3,5,6], 0)) # 0\n",
    "print (searchInsert([1,3], 2)) # 1"
   ]
  },
  {
   "cell_type": "markdown",
   "metadata": {},
   "source": [
    "### 53. Maximum Subarray"
   ]
  },
  {
   "cell_type": "code",
   "execution_count": 41,
   "metadata": {},
   "outputs": [],
   "source": [
    "import sys\n",
    "def maxSubArray(nums):\n",
    "    maxSum = -sys.maxsize - 1\n",
    "    curSum = 0\n",
    "    for num in nums:\n",
    "        curSum = max(curSum + num, num)\n",
    "        maxSum = max(maxSum, curSum)\n",
    "    return maxSum"
   ]
  },
  {
   "cell_type": "code",
   "execution_count": 70,
   "metadata": {},
   "outputs": [],
   "source": [
    "import sys\n",
    "def maxSubArray(nums):\n",
    "    return maxSum(nums, 0, len(nums) - 1)\n",
    "\n",
    "def maxSum(nums, l, h):\n",
    "    if (l == h):\n",
    "        return nums[l]\n",
    "    \n",
    "    m = (l + h)//2\n",
    "    left_max = -sys.maxsize - 1\n",
    "    left_sum = 0\n",
    "    for i in range(m + 1)[::-1]:\n",
    "        left_sum += nums[i]\n",
    "        left_max = max(left_max, left_sum)\n",
    "    \n",
    "    right_max = -sys.maxsize - 1\n",
    "    right_sum = 0\n",
    "    for i in range(m + 1, h + 1):\n",
    "        right_sum += nums[i]\n",
    "        right_max = max(right_max, right_sum)\n",
    "    \n",
    "    left_right_max = max(maxSum(nums, l, m),\n",
    "                         maxSum(nums, m + 1, h))\n",
    "\n",
    "    #print(l, m, h, left_max, right_max, max(left_right_max, left_sum + right_sum))\n",
    "    return max(left_right_max, left_max + right_max)"
   ]
  },
  {
   "cell_type": "code",
   "execution_count": 71,
   "metadata": {},
   "outputs": [
    {
     "name": "stdout",
     "output_type": "stream",
     "text": [
      "6\n"
     ]
    }
   ],
   "source": [
    "print(maxSubArray([-2,1,-3,4,-1,2,1,-5,4])) #6\n",
    "#print(maxSubArray([-1])) #-1"
   ]
  },
  {
   "cell_type": "markdown",
   "metadata": {},
   "source": [
    "### 66. Plus One"
   ]
  },
  {
   "cell_type": "code",
   "execution_count": 120,
   "metadata": {},
   "outputs": [],
   "source": [
    "def plusOne(digits):\n",
    "    carry = 1\n",
    "    for i in range(len(digits))[::-1]:\n",
    "        digit = digits[i] + carry\n",
    "        carry = digit // 10\n",
    "        digits[i] = digit % 10\n",
    "        #print (i, digit, carry)\n",
    "\n",
    "    if carry != 0:\n",
    "        digits.insert(0, carry)\n",
    "        \n",
    "    return digits"
   ]
  },
  {
   "cell_type": "code",
   "execution_count": 128,
   "metadata": {},
   "outputs": [],
   "source": [
    "def plusOne(digits):\n",
    "    for i in range(len(digits))[::-1]:\n",
    "        if (digits[i] == 9):\n",
    "            digits[i] = 0\n",
    "        else:\n",
    "            digits[i] += 1\n",
    "            return digits\n",
    "    return [1] + digits"
   ]
  },
  {
   "cell_type": "code",
   "execution_count": 129,
   "metadata": {},
   "outputs": [
    {
     "name": "stdout",
     "output_type": "stream",
     "text": [
      "[1, 2, 4]\n",
      "[1, 3, 0]\n",
      "[2, 0, 0]\n",
      "[1, 0, 0, 0]\n",
      "[1]\n"
     ]
    }
   ],
   "source": [
    "print (plusOne([1, 2, 3]))\n",
    "print (plusOne([1, 2, 9]))\n",
    "print (plusOne([1, 9, 9]))\n",
    "print (plusOne([9, 9, 9]))\n",
    "print (plusOne([]))"
   ]
  },
  {
   "cell_type": "markdown",
   "metadata": {},
   "source": [
    "### 67. Add Binary"
   ]
  },
  {
   "cell_type": "code",
   "execution_count": 203,
   "metadata": {},
   "outputs": [],
   "source": [
    "def addBinary(a, b):\n",
    "    output = \"\"\n",
    "    i, j = len(a), len(b)\n",
    "    carry = 0\n",
    "    while carry != 0 or i > 0 or j > 0:\n",
    "        digit = getDigit(a, i) + getDigit(b, j)\n",
    "        digit += 1 if carry == 1 else 0\n",
    "        i -= 1\n",
    "        j -= 1\n",
    "        output = str('1' if digit % 2 != 0 else '0') + output\n",
    "        carry = 0 if digit < 2 else 1\n",
    "    return output\n",
    "\n",
    "def getDigit(s, i):\n",
    "    if i > 0 and s[i - 1] == '1':\n",
    "        return 1\n",
    "    return 0"
   ]
  },
  {
   "cell_type": "code",
   "execution_count": 202,
   "metadata": {},
   "outputs": [
    {
     "name": "stdout",
     "output_type": "stream",
     "text": [
      "100\n",
      "10101\n"
     ]
    }
   ],
   "source": [
    "print(addBinary(\"11\", \"1\"))\n",
    "print(addBinary(\"1010\", \"1011\"))"
   ]
  },
  {
   "cell_type": "markdown",
   "metadata": {},
   "source": [
    "### 70. Climbing Stairs"
   ]
  },
  {
   "cell_type": "code",
   "execution_count": 229,
   "metadata": {},
   "outputs": [],
   "source": [
    "def climbStairs(n):\n",
    "    if n == 0:\n",
    "        return 1\n",
    "    if n < 0:\n",
    "        return 0\n",
    "    \n",
    "    for i in range(n):\n",
    "        return climbStairs(n - 1) + climbStairs(n - 2)\n",
    "    "
   ]
  },
  {
   "cell_type": "code",
   "execution_count": 246,
   "metadata": {},
   "outputs": [],
   "source": [
    "def climbStairs(n):\n",
    "    if n <= 2:\n",
    "        return n\n",
    "    \n",
    "    a, b = 1, 1\n",
    "    for i in range(2, n + 1):\n",
    "        a, b = b, a + b\n",
    "    return b"
   ]
  },
  {
   "cell_type": "code",
   "execution_count": 289,
   "metadata": {},
   "outputs": [],
   "source": [
    "def climbStairs(n):\n",
    "    if n <= 2:\n",
    "        return n\n",
    "    \n",
    "    arr = [0] * (n + 1)\n",
    "    arr[0], arr[1], arr[2] = 0, 1, 2\n",
    "    for i in range(3, n + 1):\n",
    "        arr[i] = arr[i - 1] + arr[i - 2]\n",
    "    return arr[n]\n"
   ]
  },
  {
   "cell_type": "code",
   "execution_count": 290,
   "metadata": {},
   "outputs": [
    {
     "name": "stdout",
     "output_type": "stream",
     "text": [
      "0\n",
      "1\n",
      "2\n",
      "3\n",
      "5\n",
      "8\n",
      "13\n",
      "14930352\n"
     ]
    }
   ],
   "source": [
    "print(climbStairs(0))\n",
    "print(climbStairs(1))\n",
    "print(climbStairs(2))\n",
    "print(climbStairs(3))\n",
    "print(climbStairs(4))\n",
    "print(climbStairs(5))\n",
    "print(climbStairs(6))\n",
    "print(climbStairs(35))"
   ]
  },
  {
   "cell_type": "markdown",
   "metadata": {},
   "source": [
    "### 88. Merge Sorted Array"
   ]
  },
  {
   "cell_type": "code",
   "execution_count": 353,
   "metadata": {},
   "outputs": [],
   "source": [
    "def merge(nums1, m, nums2, n):\n",
    "    while (m > 0 and n > 0):\n",
    "        if (nums1[m - 1] <= nums2[n - 1]):\n",
    "            nums1[m + n - 1] = nums2[n - 1]\n",
    "            n -= 1\n",
    "        else:\n",
    "            nums1[m + n - 1] = nums1[m - 1]\n",
    "            m -= 1\n",
    "    if (n > 0):\n",
    "        nums1[:n] = nums2[:n]"
   ]
  },
  {
   "cell_type": "code",
   "execution_count": 354,
   "metadata": {},
   "outputs": [
    {
     "name": "stdout",
     "output_type": "stream",
     "text": [
      "[1, 2, 2, 3, 5, 6]\n",
      "[1]\n",
      "[1, 2]\n"
     ]
    }
   ],
   "source": [
    "a = [1,2,3,0,0,0]\n",
    "merge(a, 3, [2,5,6], 3)\n",
    "print(a)\n",
    "\n",
    "a = [0]\n",
    "merge(a, 0, [1], 1)\n",
    "print(a)\n",
    "\n",
    "a = [2,0]\n",
    "merge(a, 1, [1], 1)\n",
    "print(a)"
   ]
  },
  {
   "cell_type": "markdown",
   "metadata": {},
   "source": [
    "### 121 Best Time to Buy and Sell Stock"
   ]
  },
  {
   "cell_type": "code",
   "execution_count": 374,
   "metadata": {},
   "outputs": [],
   "source": [
    "def maxProfit(prices):\n",
    "    if len(prices) < 2: return 0\n",
    "    \n",
    "    b, s = 0, 0 # initial buy, sell prices index\n",
    "    profit = 0\n",
    "    for i in range(1, len(prices)):\n",
    "        if prices[i] < prices[b]:\n",
    "            b = i\n",
    "        if b > s or prices[i] > prices[s]:\n",
    "            s = i\n",
    "        profit = max(profit, prices[s] - prices[b])\n",
    "        #print(b, s, prices[b], prices[s])\n",
    "    return profit"
   ]
  },
  {
   "cell_type": "code",
   "execution_count": 402,
   "metadata": {},
   "outputs": [],
   "source": [
    "import sys\n",
    "def maxProfit(prices):\n",
    "    if len(prices) < 2: return 0\n",
    "    \n",
    "    minPrice = sys.maxsize\n",
    "    maxProfit = 0\n",
    "    for i in range(len(prices)):\n",
    "        if prices[i] < minPrice:\n",
    "            minPrice = prices[i]\n",
    "        elif (prices[i] - minPrice) > maxProfit:\n",
    "            maxProfit = prices[i] - minPrice\n",
    "        #print(i, minPrice, maxProfit)\n",
    "    return maxProfit"
   ]
  },
  {
   "cell_type": "code",
   "execution_count": 403,
   "metadata": {},
   "outputs": [
    {
     "name": "stdout",
     "output_type": "stream",
     "text": [
      "5\n",
      "0\n",
      "4\n"
     ]
    }
   ],
   "source": [
    "print(maxProfit([7,1,5,3,6,4]))\n",
    "print(maxProfit([7,6,4,3,1]))\n",
    "print(maxProfit([1,2,3,4,5]))"
   ]
  },
  {
   "cell_type": "markdown",
   "metadata": {},
   "source": [
    "### 122. Best Time to Buy and Sell Stock II"
   ]
  },
  {
   "cell_type": "code",
   "execution_count": 400,
   "metadata": {},
   "outputs": [],
   "source": [
    "import sys\n",
    "def maxProfit(prices):\n",
    "    if len(prices) < 2: return 0\n",
    "\n",
    "    maxProfit = 0\n",
    "    for i in range(1, len(prices)):\n",
    "        if prices[i] > prices[i - 1]:\n",
    "            maxProfit += (prices[i] - prices[i - 1])\n",
    "    return maxProfit"
   ]
  },
  {
   "cell_type": "code",
   "execution_count": 401,
   "metadata": {},
   "outputs": [
    {
     "name": "stdout",
     "output_type": "stream",
     "text": [
      "7\n",
      "0\n",
      "4\n"
     ]
    }
   ],
   "source": [
    "print(maxProfit([7,1,5,3,6,4]))\n",
    "print(maxProfit([7,6,4,3,1]))\n",
    "print(maxProfit([1,2,3,4,5]))"
   ]
  },
  {
   "cell_type": "markdown",
   "metadata": {},
   "source": [
    "### 125 Valid Palindrome"
   ]
  },
  {
   "cell_type": "code",
   "execution_count": 479,
   "metadata": {},
   "outputs": [],
   "source": [
    "def isPalindrome(s):\n",
    "    f, l = 0, len(s)\n",
    "    while f < len(s) and l > 0:\n",
    "        #print(s[f], s[l - 1])\n",
    "        if not s[f].isalnum():\n",
    "            f += 1\n",
    "            continue\n",
    "        if not s[l - 1].isalnum():\n",
    "            l -= 1\n",
    "            continue\n",
    "        if s[f].lower() != s[l - 1].lower():\n",
    "            return False\n",
    "        f +=1\n",
    "        l -= 1\n",
    "    return True"
   ]
  },
  {
   "cell_type": "code",
   "execution_count": 480,
   "metadata": {},
   "outputs": [
    {
     "name": "stdout",
     "output_type": "stream",
     "text": [
      "True\n",
      "True\n",
      "False\n",
      "False\n"
     ]
    }
   ],
   "source": [
    "print(isPalindrome(\"A man, a plan, a canal: Panama\"))\n",
    "print(isPalindrome(\"mala ya, la, m\"))\n",
    "print(isPalindrome(\"race a car\"))\n",
    "print(isPalindrome(\"0P\"))"
   ]
  },
  {
   "cell_type": "markdown",
   "metadata": {},
   "source": [
    "### 136. Single Number"
   ]
  },
  {
   "cell_type": "code",
   "execution_count": 481,
   "metadata": {},
   "outputs": [],
   "source": [
    "def singleNumber(nums):\n",
    "    res = 0\n",
    "    for num in nums:\n",
    "        res ^= num\n",
    "    return res"
   ]
  },
  {
   "cell_type": "code",
   "execution_count": 483,
   "metadata": {},
   "outputs": [
    {
     "name": "stdout",
     "output_type": "stream",
     "text": [
      "1\n",
      "4\n"
     ]
    }
   ],
   "source": [
    "print(singleNumber([2,2,1]))\n",
    "print(singleNumber([4,1,2,1,2]))"
   ]
  },
  {
   "cell_type": "markdown",
   "metadata": {},
   "source": [
    "### 155. Min Stack"
   ]
  },
  {
   "cell_type": "code",
   "execution_count": 508,
   "metadata": {},
   "outputs": [],
   "source": [
    "class MinStack:\n",
    "\n",
    "    def __init__(self):\n",
    "        \"\"\"\n",
    "        initialize your data structure here.\n",
    "        \"\"\"\n",
    "        self.data = []\n",
    "        self.mindata = []\n",
    "\n",
    "    def push(self, x):\n",
    "        \"\"\"\n",
    "        :type x: int\n",
    "        :rtype: void\n",
    "        \"\"\"\n",
    "        self.data.append(x)\n",
    "        \n",
    "        if self.mindata == []:\n",
    "            self.mindata.append(x)\n",
    "        else:\n",
    "            self.mindata.append(min(x, self.mindata[-1]))\n",
    "\n",
    "    def pop(self):\n",
    "        \"\"\"\n",
    "        :rtype: void\n",
    "        \"\"\"\n",
    "        self.data.pop()\n",
    "        self.mindata.pop()\n",
    "        return\n",
    "    \n",
    "    def top(self):\n",
    "        \"\"\"\n",
    "        :rtype: int\n",
    "        \"\"\"\n",
    "        return self.data[-1]\n",
    "\n",
    "    def getMin(self):\n",
    "        \"\"\"\n",
    "        :rtype: int\n",
    "        \"\"\"\n",
    "        if self.mindata == []:\n",
    "            return float(\"inf\")\n",
    "        return self.mindata[-1]\n"
   ]
  },
  {
   "cell_type": "code",
   "execution_count": 513,
   "metadata": {},
   "outputs": [],
   "source": [
    "class MinStack:\n",
    "\n",
    "    def __init__(self):\n",
    "        \"\"\"\n",
    "        initialize your data structure here.\n",
    "        \"\"\"\n",
    "        self.stack = []\n",
    "\n",
    "    def push(self, x):\n",
    "        \"\"\"\n",
    "        :type x: int\n",
    "        :rtype: void\n",
    "        \"\"\"\n",
    "        val = {\n",
    "            'val': x,\n",
    "            'min': min(x, self.getMin())\n",
    "        }\n",
    "        self.stack.append(val)\n",
    "\n",
    "    def pop(self):\n",
    "        \"\"\"\n",
    "        :rtype: void\n",
    "        \"\"\"\n",
    "        self.stack.pop()\n",
    "        return\n",
    "    \n",
    "    def top(self):\n",
    "        \"\"\"\n",
    "        :rtype: int\n",
    "        \"\"\"\n",
    "        return self.stack[-1]['val']\n",
    "\n",
    "    def getMin(self):\n",
    "        \"\"\"\n",
    "        :rtype: int\n",
    "        \"\"\"\n",
    "        if self.stack == []:\n",
    "            return float(\"inf\")\n",
    "        return self.stack[-1]['min']\n"
   ]
  },
  {
   "cell_type": "code",
   "execution_count": 514,
   "metadata": {},
   "outputs": [
    {
     "name": "stdout",
     "output_type": "stream",
     "text": [
      "-3\n",
      "0\n",
      "-2\n"
     ]
    }
   ],
   "source": [
    "minStack = MinStack()\n",
    "minStack.push(-2)\n",
    "minStack.push(0)\n",
    "minStack.push(-3)\n",
    "print(minStack.getMin())   # Returns -3.\n",
    "minStack.pop()\n",
    "print(minStack.top())      # Returns 0.\n",
    "print(minStack.getMin())   # Returns -2."
   ]
  },
  {
   "cell_type": "code",
   "execution_count": 515,
   "metadata": {},
   "outputs": [
    {
     "name": "stdout",
     "output_type": "stream",
     "text": [
      "0\n",
      "0\n",
      "0\n",
      "2\n"
     ]
    }
   ],
   "source": [
    "minStack = MinStack()\n",
    "minStack.push(2)\n",
    "minStack.push(0)\n",
    "minStack.push(3)\n",
    "minStack.push(0)\n",
    "print(minStack.getMin())\n",
    "minStack.pop()\n",
    "print(minStack.getMin())\n",
    "minStack.pop()\n",
    "print(minStack.getMin()) \n",
    "minStack.pop()\n",
    "print(minStack.getMin()) \n"
   ]
  },
  {
   "cell_type": "markdown",
   "metadata": {},
   "source": [
    "### 167. Two Sum II - Input array is sorted"
   ]
  },
  {
   "cell_type": "code",
   "execution_count": 539,
   "metadata": {},
   "outputs": [],
   "source": [
    "def twoSum(numbers, target):\n",
    "    l, h = 1, len(numbers)\n",
    "    while l < h:\n",
    "        if (numbers[l - 1] + numbers[h - 1]) < target:\n",
    "            l += 1\n",
    "        elif (numbers[l - 1] + numbers[h - 1]) > target:\n",
    "            h -= 1\n",
    "        else:\n",
    "            return l, h"
   ]
  },
  {
   "cell_type": "code",
   "execution_count": 540,
   "metadata": {},
   "outputs": [
    {
     "name": "stdout",
     "output_type": "stream",
     "text": [
      "(1, 2)\n",
      "(2, 3)\n",
      "(3, 4)\n"
     ]
    }
   ],
   "source": [
    "print(twoSum([2,7,11,15], 9))\n",
    "print(twoSum([2,7,11,15], 18))\n",
    "print(twoSum([2,7,11,15], 26))"
   ]
  },
  {
   "cell_type": "markdown",
   "metadata": {},
   "source": [
    "### 168. Excel Sheet Column Title"
   ]
  },
  {
   "cell_type": "code",
   "execution_count": 573,
   "metadata": {},
   "outputs": [],
   "source": [
    "def convertToTitle(n):\n",
    "    res = \"\"\n",
    "    while n > 0:\n",
    "        n -= 1\n",
    "        char = chr((n % 26) + ord('A'))\n",
    "        res += char\n",
    "        n //= 26\n",
    "    return res[::-1]"
   ]
  },
  {
   "cell_type": "code",
   "execution_count": 581,
   "metadata": {},
   "outputs": [],
   "source": [
    "def convertToTitle(n):\n",
    "    res = \"\"\n",
    "    while n > 0:\n",
    "        n -= 1\n",
    "        n, r = divmod(n, 26)\n",
    "        res = chr(r + ord('A')) + res\n",
    "    return res"
   ]
  },
  {
   "cell_type": "code",
   "execution_count": 760,
   "metadata": {
    "scrolled": true
   },
   "outputs": [
    {
     "name": "stdout",
     "output_type": "stream",
     "text": [
      "A\n",
      "AB\n",
      "ZY\n",
      "AZ\n",
      "SZ\n",
      "CUZ\n",
      "NTP\n"
     ]
    }
   ],
   "source": [
    "print (convertToTitle(1)) # A\n",
    "print (convertToTitle(28)) # AB\n",
    "print (convertToTitle(701)) # ZY\n",
    "print (convertToTitle(52)) # AZ\n",
    "print (convertToTitle(520)) # SZ\n",
    "print (convertToTitle(2600)) # CUZ\n",
    "print (convertToTitle(10000)) # NTP"
   ]
  },
  {
   "cell_type": "markdown",
   "metadata": {},
   "source": [
    "### 169. Majority Element"
   ]
  },
  {
   "cell_type": "code",
   "execution_count": 596,
   "metadata": {},
   "outputs": [],
   "source": [
    "# Brute Force\n",
    "# Time complexity O(n^2)\n",
    "# Space complexity O(1)\n",
    "def majorityElement(nums):\n",
    "    majorityCount = len(nums)//2\n",
    "    for num in nums:\n",
    "        count = 0\n",
    "        for ele in nums:\n",
    "            if ele == num:\n",
    "                count += 1\n",
    "        if count > majorityCount:\n",
    "            return num"
   ]
  },
  {
   "cell_type": "code",
   "execution_count": 608,
   "metadata": {},
   "outputs": [],
   "source": [
    "# Hash Map\n",
    "# Time complexity O(n)\n",
    "# Space complexity O(n)\n",
    "def majorityElement(nums):\n",
    "    majorityCount = len(nums)//2\n",
    "    numMap = {}\n",
    "    for num in nums:\n",
    "        count = numMap.get(num, 0) + 1\n",
    "        numMap[num] = count\n",
    "        if count > majorityCount:\n",
    "            return num"
   ]
  },
  {
   "cell_type": "code",
   "execution_count": 610,
   "metadata": {},
   "outputs": [],
   "source": [
    "# Sorting\n",
    "# Time complexity O(n lg n)\n",
    "# Space complexity O(1)\n",
    "def majorityElement(nums):\n",
    "    nums = sorted(nums)\n",
    "    return nums[len(nums)//2]"
   ]
  },
  {
   "cell_type": "code",
   "execution_count": 690,
   "metadata": {},
   "outputs": [],
   "source": [
    "# Divide and Conquer\n",
    "# Time complexity O(n lg n)\n",
    "# Space complexity O(lgn)\n",
    "def majorityElementRec(nums, lo, hi):#, ind):\n",
    "    if lo == hi:\n",
    "        #print(\" \"*ind, lo, hi, nums[lo])\n",
    "        return nums[lo]\n",
    "\n",
    "    mi = (hi - lo)//2 + lo\n",
    "    lh = majorityElementRec(nums, lo, mi)#, ind + 6)\n",
    "    rh = majorityElementRec(nums, mi + 1, hi)#, ind + 6)\n",
    "    if lh == rh:\n",
    "        #print(\" \"*ind, lo, hi, lh, rh)\n",
    "        return lh\n",
    "    lc = sum(1 for i in range(lo, hi + 1) if nums[i] == lh)\n",
    "    rc = sum(1 for i in range(lo, hi + 1) if nums[i] == rh)\n",
    "    lrm = lh if lc > rc else rh\n",
    "    #print(\" \"*ind, lo, hi, lrm)\n",
    "    return lrm\n",
    "    \n",
    "def majorityElement(nums):\n",
    "    return majorityElementRec(nums, 0, len(nums) - 1)#, 1)"
   ]
  },
  {
   "cell_type": "code",
   "execution_count": 697,
   "metadata": {},
   "outputs": [],
   "source": [
    "# Boyer-Moore Voting Algorithm\n",
    "# Time complexity O(n)\n",
    "# Space complexity O(1)\n",
    "def majorityElement(nums):\n",
    "    candidate = None\n",
    "    count = 0\n",
    "    for i in range(len(nums)):\n",
    "        if count == 0:\n",
    "            candidate = i\n",
    "        count += (1 if nums[i] == nums[candidate] else -1)\n",
    "    return nums[candidate]"
   ]
  },
  {
   "cell_type": "code",
   "execution_count": 696,
   "metadata": {},
   "outputs": [
    {
     "name": "stdout",
     "output_type": "stream",
     "text": [
      "3\n",
      "2\n",
      "7\n",
      "5\n"
     ]
    }
   ],
   "source": [
    "print(majorityElement([3,2,3])) # 3\n",
    "print(majorityElement([2,2,1,1,1,2,2])) # 2\n",
    "print(majorityElement([7,7,5,7,5,1,5,7,5,5,7,7,7,7,7,7])) # 7\n",
    "print(majorityElement([7,7,5,7,5,1,5,7,5,5,7,7,5,5,5,5])) # 5"
   ]
  },
  {
   "cell_type": "markdown",
   "metadata": {},
   "source": [
    "### 170. Two Sum III - Data structure design"
   ]
  },
  {
   "cell_type": "code",
   "execution_count": 714,
   "metadata": {},
   "outputs": [],
   "source": [
    "class TwoSum(object):\n",
    "\n",
    "    def __init__(self):\n",
    "        \"\"\"\n",
    "        Initialize your data structure here.\n",
    "        \"\"\"\n",
    "        self.nums = []\n",
    "\n",
    "    def add(self, number):\n",
    "        \"\"\"\n",
    "        Add the number to an internal data structure..\n",
    "        :type number: int\n",
    "        :rtype: void\n",
    "        \"\"\"\n",
    "        if self.nums == []:\n",
    "            self.nums.insert(0, number)\n",
    "            return\n",
    "        for i in range(len(self.nums)):\n",
    "            if self.nums[i] > number:\n",
    "                self.nums.insert(i, number)\n",
    "                return\n",
    "        self.nums.append(number)\n",
    "\n",
    "        #self.nums.append(number)\n",
    "        #self.nums = sorted(self.nums)\n",
    "        \n",
    "    def find(self, value):\n",
    "        \"\"\"\n",
    "        Find if there exists any pair of numbers which sum is equal to the value.\n",
    "        :type value: int\n",
    "        :rtype: bool\n",
    "        \"\"\"\n",
    "        print(self.nums)\n",
    "        lo, hi = 0, len(self.nums) - 1\n",
    "        while lo < hi:\n",
    "            if (self.nums[lo] + self.nums[hi]) < value:\n",
    "                lo += 1\n",
    "            elif (self.nums[lo] + self.nums[hi]) > value:\n",
    "                hi -= 1\n",
    "            else:\n",
    "                return True\n",
    "        return False\n",
    "        "
   ]
  },
  {
   "cell_type": "code",
   "execution_count": 746,
   "metadata": {},
   "outputs": [],
   "source": [
    "class TwoSum(object):\n",
    "\n",
    "    def __init__(self):\n",
    "        \"\"\"\n",
    "        Initialize your data structure here.\n",
    "        \"\"\"\n",
    "        self.nums = {}\n",
    "\n",
    "    def add(self, number):\n",
    "        \"\"\"\n",
    "        Add the number to an internal data structure..\n",
    "        :type number: int\n",
    "        :rtype: void\n",
    "        \"\"\"\n",
    "        self.nums[number] = self.nums.get(number, 0) + 1\n",
    "        \n",
    "    def find(self, value):\n",
    "        \"\"\"\n",
    "        Find if there exists any pair of numbers which sum is equal to the value.\n",
    "        :type value: int\n",
    "        :rtype: bool\n",
    "        \"\"\"\n",
    "        d = self.nums\n",
    "        for n in d:\n",
    "            t = value - n\n",
    "            if t in d and d[t] - (t is n):\n",
    "                return True\n",
    "        return False"
   ]
  },
  {
   "cell_type": "code",
   "execution_count": 747,
   "metadata": {},
   "outputs": [
    {
     "name": "stdout",
     "output_type": "stream",
     "text": [
      "True\n",
      "False\n",
      "True\n",
      "True\n",
      "False\n",
      "True\n"
     ]
    }
   ],
   "source": [
    "obj = TwoSum()\n",
    "obj.add(1)\n",
    "obj.add(5)\n",
    "obj.add(3)\n",
    "obj.add(-1)\n",
    "obj.add(5)\n",
    "\n",
    "print(obj.find(4)) # True\n",
    "print(obj.find(3)) # False\n",
    "print(obj.find(6)) # True\n",
    "print(obj.find(8)) # True\n",
    "print(obj.find(9)) # False\n",
    "print(obj.find(10)) # True"
   ]
  },
  {
   "cell_type": "markdown",
   "metadata": {},
   "source": [
    "### 171. Excel Sheet Column Number"
   ]
  },
  {
   "cell_type": "code",
   "execution_count": 757,
   "metadata": {},
   "outputs": [],
   "source": [
    "def titleToNumber(s):\n",
    "    if s == \"\": return 0\n",
    "    mul = 1\n",
    "    number = 0\n",
    "    for c in s[::-1]:\n",
    "        number = number + mul * (ord(c) - ord('A') + 1)\n",
    "        mul *= 26\n",
    "    return number"
   ]
  },
  {
   "cell_type": "code",
   "execution_count": 761,
   "metadata": {},
   "outputs": [
    {
     "name": "stdout",
     "output_type": "stream",
     "text": [
      "1\n",
      "28\n",
      "701\n",
      "52\n",
      "520\n",
      "2600\n",
      "10000\n"
     ]
    }
   ],
   "source": [
    "print (titleToNumber('A')) # 1\n",
    "print (titleToNumber('AB')) # 28\n",
    "print (titleToNumber('ZY')) # 701\n",
    "print (titleToNumber('AZ')) # 52\n",
    "print (titleToNumber('SZ')) # 520\n",
    "print (titleToNumber('CUZ')) # 2600\n",
    "print (titleToNumber('NTP')) # 10000"
   ]
  },
  {
   "cell_type": "markdown",
   "metadata": {},
   "source": [
    "### 172. Factorial Trailing Zeroes\n",
    "All trailing zeros are come from even_num x 5, we have more even_num than 5, so only count factor 5.\n",
    "\n",
    "4! = 1x2x3x4 = 24, we haven’t encountered any 5 yet, so we don’t have any trailing zero.\n",
    "\n",
    "5! = 1x2x3x4x5 = 120, we have one trailing zero. either 2×5, or 4×5 can contribute to that zero.\n",
    "\n",
    "9! = 362880, we only encountered 5 once, so 1 trailing zero as expected.\n",
    "\n",
    "10! = 3628800, 2 trailing zeros, since we have two numbers that have factor 5, one is 5 and the other is 10 (2×5)\n",
    "\n",
    "What about 100! then?\n",
    "\n",
    "100/5 = 20, we have 20 numbers have factor 5: 5, 10, 15, 20, 25, …, 95, 100.\n",
    "\n",
    "Is the number of trailing zero 20? No, it’s 24, why?\n",
    "\n",
    "Within that 20 numbers, we have 4 of them: 25 (5×5), 50 (2x5x5), 75 (3x5x5), 100 (4x5x5) that have an extra factor of 5.\n",
    "\n",
    "So, for a given number n, we are looking how many numbers <=n have factor 5, 5×5, 5x5x5, …\n",
    "\n",
    "Summing those numbers up we got the answer.\n",
    "\n",
    "e.g. 1000! has 249 trailing zeros:\n",
    "\n",
    "1000/5 = 200\n",
    "\n",
    "1000/25 = 40\n",
    "\n",
    "1000/125 = 8\n",
    "\n",
    "1000/625 = 1\n",
    "\n",
    "200 + 40 + 8 + 1 = 249\n",
    "\n",
    "alternatively, we can do the following\n",
    "\n",
    "1000/5 = 200\n",
    "\n",
    "200/5 = 40\n",
    "\n",
    "40/5 = 8\n",
    "\n",
    "8/5 = 1\n",
    "\n",
    "1/5 = 0\n",
    "\n",
    "200 + 40 + 8 + 1 + 0 = 249\n",
    "\n"
   ]
  },
  {
   "cell_type": "code",
   "execution_count": 776,
   "metadata": {},
   "outputs": [],
   "source": [
    "def trailingZeroes(n):\n",
    "    count = 0\n",
    "    while n > 0:\n",
    "        n = n//5\n",
    "        count += n\n",
    "    return count"
   ]
  },
  {
   "cell_type": "code",
   "execution_count": 774,
   "metadata": {},
   "outputs": [],
   "source": [
    "# Time complexity O(log5 n)\n",
    "def trailingZeroes(n):\n",
    "    return (0 if n < 5 else n//5 + trailingZeroes(n//5))"
   ]
  },
  {
   "cell_type": "code",
   "execution_count": 777,
   "metadata": {},
   "outputs": [
    {
     "name": "stdout",
     "output_type": "stream",
     "text": [
      "0\n",
      "1\n",
      "249\n"
     ]
    }
   ],
   "source": [
    "print(trailingZeroes(3))\n",
    "print(trailingZeroes(5))\n",
    "print(trailingZeroes(1000))"
   ]
  },
  {
   "cell_type": "markdown",
   "metadata": {},
   "source": [
    "### 189. Rotate Array"
   ]
  },
  {
   "cell_type": "code",
   "execution_count": 816,
   "metadata": {},
   "outputs": [],
   "source": [
    "# Brute Force\n",
    "# Time complexity O(n*k)\n",
    "# Space complexity O(1)\n",
    "def rotate(nums, k):\n",
    "    while(k > 0):\n",
    "        last = nums[-1]\n",
    "        for i in range(len(nums)-1, 0, -1):\n",
    "            nums[i] = nums[i-1]\n",
    "        nums[0] = last\n",
    "        k -= 1"
   ]
  },
  {
   "cell_type": "code",
   "execution_count": 35,
   "metadata": {},
   "outputs": [],
   "source": [
    "# Using Reverse\n",
    "# Time complexity O(n), three passes\n",
    "# Space complexity O(1)\n",
    "def rotate(nums, k):\n",
    "    if len(nums) < 2: return\n",
    "    k = k % len(nums)\n",
    "    if k == 0: return\n",
    "    \n",
    "    reverse(nums, 0, len(nums)) # [7,6,5,4,3,2,1]\n",
    "    reverse(nums, 0, k)         # [5,6,7,4,3,2,1]\n",
    "    reverse(nums, k, len(nums)) # [5,6,7,1,2,3,4]\n",
    "    \n",
    "def reverse(nums, lo, hi):\n",
    "    while lo < hi:\n",
    "        nums[lo], nums[hi - 1] = nums[hi - 1], nums[lo]\n",
    "        lo += 1\n",
    "        hi -= 1"
   ]
  },
  {
   "cell_type": "code",
   "execution_count": 34,
   "metadata": {},
   "outputs": [
    {
     "name": "stdout",
     "output_type": "stream",
     "text": [
      "[7, 1, 2, 3, 4, 5, 6]\n",
      "[6, 7, 1, 2, 3, 4, 5]\n",
      "[5, 6, 7, 1, 2, 3, 4]\n",
      "[4, 5, 6, 7, 1, 2, 3]\n",
      "[3, 4, 5, 6, 7, 1, 2]\n",
      "[2, 3, 4, 5, 6, 7, 1]\n",
      "[1, 2, 3, 4, 5, 6, 7]\n",
      "[-1]\n",
      "[2, 1]\n"
     ]
    }
   ],
   "source": [
    "nums = [1,2,3,4,5,6,7]; rotate(nums, 1); print(nums)\n",
    "nums = [1,2,3,4,5,6,7]; rotate(nums, 2); print(nums)\n",
    "nums = [1,2,3,4,5,6,7]; rotate(nums, 3); print(nums)\n",
    "nums = [1,2,3,4,5,6,7]; rotate(nums, 4); print(nums)\n",
    "nums = [1,2,3,4,5,6,7]; rotate(nums, 5); print(nums)\n",
    "nums = [1,2,3,4,5,6,7]; rotate(nums, 6); print(nums)\n",
    "nums = [1,2,3,4,5,6,7]; rotate(nums, 7); print(nums)\n",
    "nums = [-1]; rotate(nums, 2); print(nums)\n",
    "nums = [1, 2]; rotate(nums, 3); print(nums)"
   ]
  },
  {
   "cell_type": "markdown",
   "metadata": {},
   "source": [
    "### 190. Reverse Bits"
   ]
  },
  {
   "cell_type": "code",
   "execution_count": 162,
   "metadata": {},
   "outputs": [],
   "source": [
    "def reverseBits(n):\n",
    "    ans = 0\n",
    "    for i in range(32):\n",
    "        set_mask = (n >> i) & 1\n",
    "        if set_mask != 0:\n",
    "            ans |= set_mask << (31 - i)\n",
    "    return ans"
   ]
  },
  {
   "cell_type": "code",
   "execution_count": 163,
   "metadata": {},
   "outputs": [
    {
     "name": "stdout",
     "output_type": "stream",
     "text": [
      "637534208\n",
      "3355443200\n",
      "2181038080\n",
      "964176192\n"
     ]
    }
   ],
   "source": [
    "print(reverseBits(100)) # 637534208\n",
    "print(reverseBits(19)) # 3355443200\n",
    "print(reverseBits(65)) # 2181038080\n",
    "print(reverseBits(43261596)) # 964176192"
   ]
  },
  {
   "cell_type": "markdown",
   "metadata": {},
   "source": [
    "### 191. Number of 1 Bits"
   ]
  },
  {
   "cell_type": "code",
   "execution_count": 171,
   "metadata": {},
   "outputs": [],
   "source": [
    "def hammingWeight(n):\n",
    "    count = 0\n",
    "    while n:\n",
    "        n &= (n - 1)\n",
    "        count += 1\n",
    "    return count"
   ]
  },
  {
   "cell_type": "code",
   "execution_count": 172,
   "metadata": {},
   "outputs": [
    {
     "name": "stdout",
     "output_type": "stream",
     "text": [
      "2\n",
      "3\n"
     ]
    }
   ],
   "source": [
    "print(hammingWeight(10)) # 2\n",
    "print(hammingWeight(11)) # 3"
   ]
  },
  {
   "cell_type": "markdown",
   "metadata": {},
   "source": [
    "### 198. House Robber"
   ]
  },
  {
   "cell_type": "code",
   "execution_count": 191,
   "metadata": {},
   "outputs": [],
   "source": [
    "# dynamic programming\n",
    "def rob(nums):\n",
    "    prevMax = 0\n",
    "    curMax = 0\n",
    "    for num in nums:\n",
    "        newMax = max(prevMax + num, curMax)\n",
    "        prevMax = curMax\n",
    "        curMax = newMax\n",
    "    return curMax"
   ]
  },
  {
   "cell_type": "code",
   "execution_count": 193,
   "metadata": {},
   "outputs": [
    {
     "name": "stdout",
     "output_type": "stream",
     "text": [
      "1100\n",
      "4\n",
      "12\n",
      "4\n"
     ]
    }
   ],
   "source": [
    "print(rob([100,79,100,1000])) # 1100\n",
    "print(rob([1,2,3,1]))   # 4\n",
    "print(rob([2,7,9,3,1])) # 12\n",
    "print(rob([2,1,1,2]))   # 4"
   ]
  },
  {
   "cell_type": "markdown",
   "metadata": {},
   "source": [
    "### 202. Happy Number"
   ]
  },
  {
   "cell_type": "code",
   "execution_count": 226,
   "metadata": {},
   "outputs": [],
   "source": [
    "def isHappy(n):\n",
    "    while n != 1 and n != 4:\n",
    "        n = digitsSum(n)\n",
    "    return n == 1\n",
    "\n",
    "def digitsSum(n):\n",
    "    sum = 0\n",
    "    while n:\n",
    "        sum += (n % 10) * (n % 10)\n",
    "        n //= 10\n",
    "    return sum"
   ]
  },
  {
   "cell_type": "code",
   "execution_count": 237,
   "metadata": {},
   "outputs": [],
   "source": [
    "def isHappy(n):\n",
    "    numMap = {}\n",
    "    while n != 1:\n",
    "        numMap[n] = True\n",
    "        n = digitsSum(n)\n",
    "        if numMap.get(n, False):\n",
    "            return False\n",
    "    return n == 1\n",
    "\n",
    "def digitsSum(n):\n",
    "    sum = 0\n",
    "    while n:\n",
    "        sum += (n % 10) * (n % 10)\n",
    "        n //= 10\n",
    "    return sum"
   ]
  },
  {
   "cell_type": "code",
   "execution_count": 238,
   "metadata": {},
   "outputs": [
    {
     "name": "stdout",
     "output_type": "stream",
     "text": [
      "True\n",
      "False\n",
      "False\n",
      "False\n",
      "False\n",
      "False\n",
      "True\n",
      "False\n",
      "False\n",
      "True\n",
      "False\n"
     ]
    }
   ],
   "source": [
    "print(isHappy(1))\n",
    "print(isHappy(2))\n",
    "print(isHappy(3))\n",
    "print(isHappy(4))\n",
    "print(isHappy(5))\n",
    "print(isHappy(6))\n",
    "print(isHappy(7))\n",
    "print(isHappy(8))\n",
    "print(isHappy(9))\n",
    "print(isHappy(10))\n",
    "print(isHappy(11))"
   ]
  },
  {
   "cell_type": "markdown",
   "metadata": {},
   "source": [
    "### 204. Count Primes"
   ]
  },
  {
   "cell_type": "code",
   "execution_count": 304,
   "metadata": {},
   "outputs": [],
   "source": [
    "def countPrimes(n):\n",
    "    if n <= 2: return 0\n",
    "\n",
    "    primeCount = 0\n",
    "    for i in range(2, n):\n",
    "        primeCount += (1 if isPrime(i) else 0)\n",
    "        #print(i, primeCount)\n",
    "    return primeCount\n",
    "\n",
    "def isPrime(num):\n",
    "    numBy2 = num\n",
    "    if num > 6:\n",
    "        numBy2 = num // 2\n",
    "    for i in range(2, numBy2):\n",
    "        if num % i == 0:\n",
    "            #print(num, \"False\")\n",
    "            return False\n",
    "    #print(num, \"True\")\n",
    "    return True"
   ]
  },
  {
   "cell_type": "code",
   "execution_count": 309,
   "metadata": {},
   "outputs": [],
   "source": [
    "def countPrimes(n):\n",
    "    num=[1 for x in range(n)] \n",
    "    i = 2\n",
    "    while i * i < n:\n",
    "        j = 2\n",
    "        while j*i < n:\n",
    "            num[j*i] = 0\n",
    "            j += 1\n",
    "        i += 1\n",
    "        while num[i] == 0 and i * i < n:\n",
    "            i += 1\n",
    "\n",
    "    return sum(num[2::])"
   ]
  },
  {
   "cell_type": "code",
   "execution_count": 310,
   "metadata": {},
   "outputs": [
    {
     "name": "stdout",
     "output_type": "stream",
     "text": [
      "0\n",
      "1\n",
      "2\n",
      "2\n",
      "3\n",
      "3\n",
      "4\n",
      "41537\n"
     ]
    }
   ],
   "source": [
    "print (countPrimes(2)) # 0\n",
    "print (countPrimes(3)) # 1\n",
    "print (countPrimes(4)) # 2\n",
    "print (countPrimes(5)) # 3\n",
    "print (countPrimes(6)) # 3\n",
    "print (countPrimes(7)) # 4\n",
    "print (countPrimes(10)) # 4\n",
    "print (countPrimes(499979))"
   ]
  },
  {
   "cell_type": "markdown",
   "metadata": {},
   "source": [
    "### 217. Contains Duplicate"
   ]
  },
  {
   "cell_type": "code",
   "execution_count": 321,
   "metadata": {},
   "outputs": [],
   "source": [
    "def containsDuplicate(nums):\n",
    "    record = set()\n",
    "    for num in nums:\n",
    "        if num in record:\n",
    "            return True\n",
    "        record.add(num)\n",
    "    return False"
   ]
  },
  {
   "cell_type": "code",
   "execution_count": 322,
   "metadata": {},
   "outputs": [
    {
     "name": "stdout",
     "output_type": "stream",
     "text": [
      "True\n",
      "False\n",
      "True\n"
     ]
    }
   ],
   "source": [
    "print (containsDuplicate([1,2,3,1])) # True\n",
    "print (containsDuplicate([1,2,3,4])) # False\n",
    "print (containsDuplicate([1,1,1,3,3,4,3,2,4,2])) # True"
   ]
  },
  {
   "cell_type": "markdown",
   "metadata": {},
   "source": [
    "### 219. Contains Duplicate II"
   ]
  },
  {
   "cell_type": "code",
   "execution_count": 1,
   "metadata": {},
   "outputs": [],
   "source": [
    "def containsNearbyDuplicate(nums, k):\n",
    "    indexMap = {}\n",
    "    for i, num in enumerate(nums):\n",
    "        if num in indexMap and (i - indexMap[num]) <= k:\n",
    "            return True\n",
    "        indexMap[num] = i\n",
    "    return False"
   ]
  },
  {
   "cell_type": "code",
   "execution_count": 2,
   "metadata": {},
   "outputs": [
    {
     "name": "stdout",
     "output_type": "stream",
     "text": [
      "True\n",
      "True\n",
      "False\n",
      "True\n"
     ]
    }
   ],
   "source": [
    "print(containsNearbyDuplicate([1,2,3,1], 3)) # True\n",
    "print(containsNearbyDuplicate([1,0,1,1], 1)) # True\n",
    "print(containsNearbyDuplicate([1,2,3,1,2,3], 2)) # False\n",
    "print(containsNearbyDuplicate([99,99], 2)) # True"
   ]
  },
  {
   "cell_type": "markdown",
   "metadata": {},
   "source": [
    "### 225. Implement Stack using Queues"
   ]
  },
  {
   "cell_type": "code",
   "execution_count": 32,
   "metadata": {},
   "outputs": [],
   "source": [
    "# 1) Two Queues, push - O(1), pop O(n)\n",
    "# 2) Two Queues, push - O(n), pop O(1)\n",
    "\n",
    "# 3) One Queue, push - O(n), pop O(1)\n",
    "class MyStack:\n",
    "\n",
    "    def __init__(self):\n",
    "        \"\"\"\n",
    "        Initialize your data structure here.\n",
    "        \"\"\"\n",
    "        self.queue = []\n",
    "\n",
    "    def push(self, x):\n",
    "        \"\"\"\n",
    "        Push element x onto stack.\n",
    "        :type x: int\n",
    "        :rtype: void\n",
    "        \"\"\"\n",
    "        self.queue.append(x)\n",
    "        size = len(self.queue)\n",
    "        while size > 1:\n",
    "            self.queue.append(self.queue.pop(0))\n",
    "            size -= 1\n",
    "\n",
    "    def pop(self):\n",
    "        \"\"\"\n",
    "        Removes the element on top of the stack and returns that element.\n",
    "        :rtype: int\n",
    "        \"\"\"\n",
    "        if len(self.queue) > 0:\n",
    "            return self.queue.pop(0)\n",
    "\n",
    "    def top(self):\n",
    "        \"\"\"\n",
    "        Get the top element.\n",
    "        :rtype: int\n",
    "        \"\"\"\n",
    "        if len(self.queue) > 0:\n",
    "            return self.queue[0]\n",
    "\n",
    "    def empty(self):\n",
    "        \"\"\"\n",
    "        Returns whether the stack is empty.\n",
    "        :rtype: bool\n",
    "        \"\"\"\n",
    "        return self.queue == []\n",
    "\n",
    "\n",
    "# Your MyStack object will be instantiated and called as such:\n",
    "# obj = MyStack()\n",
    "# obj.push(x)\n",
    "# param_2 = obj.pop()\n",
    "# param_3 = obj.top()\n",
    "# param_4 = obj.empty()"
   ]
  },
  {
   "cell_type": "code",
   "execution_count": 36,
   "metadata": {},
   "outputs": [
    {
     "name": "stdout",
     "output_type": "stream",
     "text": [
      "10\n",
      "True\n",
      "40\n",
      "40\n",
      "30\n",
      "20\n",
      "10\n",
      "True\n"
     ]
    }
   ],
   "source": [
    "obj = MyStack()\n",
    "obj.push(10)\n",
    "print(obj.pop())\n",
    "print(obj.empty())\n",
    "\n",
    "obj.push(10)\n",
    "obj.push(20)\n",
    "obj.push(30)\n",
    "obj.push(40)\n",
    "print(obj.top())\n",
    "print(obj.pop())\n",
    "print(obj.pop())\n",
    "print(obj.pop())\n",
    "print(obj.pop())\n",
    "print(obj.empty())"
   ]
  },
  {
   "cell_type": "markdown",
   "metadata": {},
   "source": [
    "### 232. Implement Queue using Stacks"
   ]
  },
  {
   "cell_type": "code",
   "execution_count": 57,
   "metadata": {},
   "outputs": [],
   "source": [
    "# (Two Stacks) Push - O(n) per operation, Pop - O(1) per operation\n",
    "class MyQueue:\n",
    "\n",
    "    def __init__(self):\n",
    "        \"\"\"\n",
    "        Initialize your data structure here.\n",
    "        \"\"\"\n",
    "        self.stack = []\n",
    "\n",
    "    def push(self, x):\n",
    "        \"\"\"\n",
    "        Push element x to the back of queue.\n",
    "        :type x: int\n",
    "        :rtype: void\n",
    "        \"\"\"\n",
    "        auxStack = []\n",
    "        while len(self.stack) > 0:\n",
    "            auxStack.append(self.stack.pop(-1))\n",
    "\n",
    "        self.stack.append(x)\n",
    "        while len(auxStack) > 0:\n",
    "            self.stack.append(auxStack.pop(-1))\n",
    "\n",
    "    def pop(self):\n",
    "        \"\"\"\n",
    "        Removes the element from in front of queue and returns that element.\n",
    "        :rtype: int\n",
    "        \"\"\"\n",
    "        if len(self.stack) == 0:\n",
    "            return None\n",
    "        \n",
    "        return self.stack.pop(-1)\n",
    "    \n",
    "    def peek(self):\n",
    "        \"\"\"\n",
    "        Get the front element.\n",
    "        :rtype: int\n",
    "        \"\"\"\n",
    "        if len(self.stack) == 0:\n",
    "            return None\n",
    "        \n",
    "        return self.stack[-1]\n",
    "\n",
    "    def empty(self):\n",
    "        \"\"\"\n",
    "        Returns whether the queue is empty.\n",
    "        :rtype: bool\n",
    "        \"\"\"\n",
    "        return len(self.stack) == 0\n",
    "\n",
    "\n",
    "# Your MyQueue object will be instantiated and called as such:\n",
    "# obj = MyQueue()\n",
    "# obj.push(x)\n",
    "# param_2 = obj.pop()\n",
    "# param_3 = obj.peek()\n",
    "# param_4 = obj.empty()"
   ]
  },
  {
   "cell_type": "code",
   "execution_count": 58,
   "metadata": {},
   "outputs": [
    {
     "name": "stdout",
     "output_type": "stream",
     "text": [
      "None\n",
      "None\n",
      "None\n",
      "None\n",
      "10\n",
      "20\n",
      "30\n"
     ]
    }
   ],
   "source": [
    "obj = MyQueue()\n",
    "print(obj.pop())\n",
    "print(obj.push(10))\n",
    "print(obj.push(20))\n",
    "print(obj.push(30))\n",
    "print(obj.pop())\n",
    "print(obj.pop())\n",
    "print(obj.pop())\n"
   ]
  },
  {
   "cell_type": "code",
   "execution_count": null,
   "metadata": {},
   "outputs": [],
   "source": []
  },
  {
   "cell_type": "code",
   "execution_count": null,
   "metadata": {},
   "outputs": [],
   "source": []
  },
  {
   "cell_type": "code",
   "execution_count": null,
   "metadata": {},
   "outputs": [],
   "source": []
  },
  {
   "cell_type": "code",
   "execution_count": null,
   "metadata": {},
   "outputs": [],
   "source": []
  },
  {
   "cell_type": "code",
   "execution_count": null,
   "metadata": {},
   "outputs": [],
   "source": []
  },
  {
   "cell_type": "code",
   "execution_count": null,
   "metadata": {},
   "outputs": [],
   "source": []
  },
  {
   "cell_type": "code",
   "execution_count": null,
   "metadata": {},
   "outputs": [],
   "source": []
  },
  {
   "cell_type": "code",
   "execution_count": null,
   "metadata": {},
   "outputs": [],
   "source": []
  },
  {
   "cell_type": "code",
   "execution_count": null,
   "metadata": {},
   "outputs": [],
   "source": []
  },
  {
   "cell_type": "code",
   "execution_count": null,
   "metadata": {},
   "outputs": [],
   "source": []
  },
  {
   "cell_type": "code",
   "execution_count": null,
   "metadata": {},
   "outputs": [],
   "source": []
  },
  {
   "cell_type": "code",
   "execution_count": null,
   "metadata": {},
   "outputs": [],
   "source": []
  },
  {
   "cell_type": "code",
   "execution_count": null,
   "metadata": {},
   "outputs": [],
   "source": []
  }
 ],
 "metadata": {
  "kernelspec": {
   "display_name": "Python 3",
   "language": "python",
   "name": "python3"
  },
  "language_info": {
   "codemirror_mode": {
    "name": "ipython",
    "version": 3
   },
   "file_extension": ".py",
   "mimetype": "text/x-python",
   "name": "python",
   "nbconvert_exporter": "python",
   "pygments_lexer": "ipython3",
   "version": "3.6.4"
  }
 },
 "nbformat": 4,
 "nbformat_minor": 2
}
